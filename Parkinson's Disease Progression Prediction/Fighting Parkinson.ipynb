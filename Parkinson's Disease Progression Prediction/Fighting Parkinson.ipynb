{
 "cells": [
  {
   "cell_type": "markdown",
   "id": "83ab4712",
   "metadata": {},
   "source": [
    "# AMP®-Parkinson's Disease Progression Prediction"
   ]
  },
  {
   "cell_type": "markdown",
   "id": "ba9337bf",
   "metadata": {},
   "source": [
    "https://www.kaggle.com/competitions/amp-parkinsons-disease-progression-prediction/data"
   ]
  },
  {
   "cell_type": "code",
   "execution_count": 2,
   "id": "9b387bc6",
   "metadata": {},
   "outputs": [],
   "source": [
    "import numpy as np\n",
    "import pandas as pd\n",
    "import seaborn as sns\n",
    "import matplotlib.pyplot as plt"
   ]
  },
  {
   "cell_type": "code",
   "execution_count": 3,
   "id": "3c980c71",
   "metadata": {},
   "outputs": [],
   "source": [
    "# LightAutoML presets, task and report generation\n",
    "from lightautoml.automl.presets.tabular_presets import TabularAutoML, TabularUtilizedAutoML\n",
    "from lightautoml.tasks import Task\n",
    "from lightautoml.report.report_deco import ReportDeco\n",
    "from sklearn.ensemble import StackingClassifier\n",
    "from xgboost import XGBClassifier\n",
    "from catboost import CatBoostRegressor, Pool\n",
    "from sklearn.preprocessing import LabelEncoder\n",
    "from sklearn.model_selection import train_test_split\n",
    "from sklearn.metrics import mean_squared_error, accuracy_score, r2_score"
   ]
  },
  {
   "cell_type": "code",
   "execution_count": 4,
   "id": "588ca3e2",
   "metadata": {},
   "outputs": [],
   "source": [
    "train_proteins = pd.read_csv('train_proteins.csv')\n",
    "train_peptides = pd.read_csv('train_peptides.csv') "
   ]
  },
  {
   "cell_type": "code",
   "execution_count": 20,
   "id": "5e0bfaa6-28f0-4124-af83-fbe62be9de0f",
   "metadata": {},
   "outputs": [],
   "source": [
    "supplemental_clinical_data = pd.read_csv('supplemental_clinical_data.csv')\n",
    "train_clinical_data = pd.read_csv('train_clinical_data.csv')"
   ]
  },
  {
   "cell_type": "code",
   "execution_count": 19,
   "id": "6ade6f3f-2505-4e7d-a6c9-e1caa391a8ea",
   "metadata": {},
   "outputs": [
    {
     "data": {
      "text/html": [
       "<div>\n",
       "<style scoped>\n",
       "    .dataframe tbody tr th:only-of-type {\n",
       "        vertical-align: middle;\n",
       "    }\n",
       "\n",
       "    .dataframe tbody tr th {\n",
       "        vertical-align: top;\n",
       "    }\n",
       "\n",
       "    .dataframe thead th {\n",
       "        text-align: right;\n",
       "    }\n",
       "</style>\n",
       "<table border=\"1\" class=\"dataframe\">\n",
       "  <thead>\n",
       "    <tr style=\"text-align: right;\">\n",
       "      <th></th>\n",
       "      <th>visit_id</th>\n",
       "      <th>patient_id</th>\n",
       "      <th>visit_month</th>\n",
       "      <th>updrs_1</th>\n",
       "      <th>updrs_2</th>\n",
       "      <th>updrs_3</th>\n",
       "      <th>updrs_4</th>\n",
       "      <th>upd23b_clinical_state_on_medication</th>\n",
       "    </tr>\n",
       "  </thead>\n",
       "  <tbody>\n",
       "    <tr>\n",
       "      <th>2218</th>\n",
       "      <td>65382_0</td>\n",
       "      <td>65382</td>\n",
       "      <td>0</td>\n",
       "      <td>NaN</td>\n",
       "      <td>NaN</td>\n",
       "      <td>0.0</td>\n",
       "      <td>NaN</td>\n",
       "      <td>NaN</td>\n",
       "    </tr>\n",
       "    <tr>\n",
       "      <th>2219</th>\n",
       "      <td>65405_0</td>\n",
       "      <td>65405</td>\n",
       "      <td>0</td>\n",
       "      <td>5.0</td>\n",
       "      <td>16.0</td>\n",
       "      <td>31.0</td>\n",
       "      <td>0.0</td>\n",
       "      <td>NaN</td>\n",
       "    </tr>\n",
       "    <tr>\n",
       "      <th>2220</th>\n",
       "      <td>65405_5</td>\n",
       "      <td>65405</td>\n",
       "      <td>5</td>\n",
       "      <td>NaN</td>\n",
       "      <td>NaN</td>\n",
       "      <td>57.0</td>\n",
       "      <td>NaN</td>\n",
       "      <td>NaN</td>\n",
       "    </tr>\n",
       "    <tr>\n",
       "      <th>2221</th>\n",
       "      <td>65530_0</td>\n",
       "      <td>65530</td>\n",
       "      <td>0</td>\n",
       "      <td>10.0</td>\n",
       "      <td>6.0</td>\n",
       "      <td>24.0</td>\n",
       "      <td>0.0</td>\n",
       "      <td>NaN</td>\n",
       "    </tr>\n",
       "    <tr>\n",
       "      <th>2222</th>\n",
       "      <td>65530_36</td>\n",
       "      <td>65530</td>\n",
       "      <td>36</td>\n",
       "      <td>8.0</td>\n",
       "      <td>4.0</td>\n",
       "      <td>15.0</td>\n",
       "      <td>4.0</td>\n",
       "      <td>On</td>\n",
       "    </tr>\n",
       "  </tbody>\n",
       "</table>\n",
       "</div>"
      ],
      "text/plain": [
       "      visit_id  patient_id  visit_month  updrs_1  updrs_2  updrs_3  updrs_4  \\\n",
       "2218   65382_0       65382            0      NaN      NaN      0.0      NaN   \n",
       "2219   65405_0       65405            0      5.0     16.0     31.0      0.0   \n",
       "2220   65405_5       65405            5      NaN      NaN     57.0      NaN   \n",
       "2221   65530_0       65530            0     10.0      6.0     24.0      0.0   \n",
       "2222  65530_36       65530           36      8.0      4.0     15.0      4.0   \n",
       "\n",
       "     upd23b_clinical_state_on_medication  \n",
       "2218                                 NaN  \n",
       "2219                                 NaN  \n",
       "2220                                 NaN  \n",
       "2221                                 NaN  \n",
       "2222                                  On  "
      ]
     },
     "execution_count": 19,
     "metadata": {},
     "output_type": "execute_result"
    }
   ],
   "source": [
    "supplemental_clinical_data.tail()"
   ]
  },
  {
   "cell_type": "code",
   "execution_count": 21,
   "id": "608011ff-9ec9-4ed2-9ea2-42435e680fab",
   "metadata": {},
   "outputs": [
    {
     "data": {
      "text/html": [
       "<div>\n",
       "<style scoped>\n",
       "    .dataframe tbody tr th:only-of-type {\n",
       "        vertical-align: middle;\n",
       "    }\n",
       "\n",
       "    .dataframe tbody tr th {\n",
       "        vertical-align: top;\n",
       "    }\n",
       "\n",
       "    .dataframe thead th {\n",
       "        text-align: right;\n",
       "    }\n",
       "</style>\n",
       "<table border=\"1\" class=\"dataframe\">\n",
       "  <thead>\n",
       "    <tr style=\"text-align: right;\">\n",
       "      <th></th>\n",
       "      <th>visit_id</th>\n",
       "      <th>patient_id</th>\n",
       "      <th>visit_month</th>\n",
       "      <th>updrs_1</th>\n",
       "      <th>updrs_2</th>\n",
       "      <th>updrs_3</th>\n",
       "      <th>updrs_4</th>\n",
       "      <th>upd23b_clinical_state_on_medication</th>\n",
       "    </tr>\n",
       "  </thead>\n",
       "  <tbody>\n",
       "    <tr>\n",
       "      <th>2610</th>\n",
       "      <td>65043_48</td>\n",
       "      <td>65043</td>\n",
       "      <td>48</td>\n",
       "      <td>7.0</td>\n",
       "      <td>6.0</td>\n",
       "      <td>13.0</td>\n",
       "      <td>0.0</td>\n",
       "      <td>Off</td>\n",
       "    </tr>\n",
       "    <tr>\n",
       "      <th>2611</th>\n",
       "      <td>65043_54</td>\n",
       "      <td>65043</td>\n",
       "      <td>54</td>\n",
       "      <td>4.0</td>\n",
       "      <td>8.0</td>\n",
       "      <td>11.0</td>\n",
       "      <td>1.0</td>\n",
       "      <td>Off</td>\n",
       "    </tr>\n",
       "    <tr>\n",
       "      <th>2612</th>\n",
       "      <td>65043_60</td>\n",
       "      <td>65043</td>\n",
       "      <td>60</td>\n",
       "      <td>6.0</td>\n",
       "      <td>6.0</td>\n",
       "      <td>16.0</td>\n",
       "      <td>1.0</td>\n",
       "      <td>Off</td>\n",
       "    </tr>\n",
       "    <tr>\n",
       "      <th>2613</th>\n",
       "      <td>65043_72</td>\n",
       "      <td>65043</td>\n",
       "      <td>72</td>\n",
       "      <td>3.0</td>\n",
       "      <td>9.0</td>\n",
       "      <td>14.0</td>\n",
       "      <td>1.0</td>\n",
       "      <td>Off</td>\n",
       "    </tr>\n",
       "    <tr>\n",
       "      <th>2614</th>\n",
       "      <td>65043_84</td>\n",
       "      <td>65043</td>\n",
       "      <td>84</td>\n",
       "      <td>7.0</td>\n",
       "      <td>9.0</td>\n",
       "      <td>20.0</td>\n",
       "      <td>3.0</td>\n",
       "      <td>Off</td>\n",
       "    </tr>\n",
       "  </tbody>\n",
       "</table>\n",
       "</div>"
      ],
      "text/plain": [
       "      visit_id  patient_id  visit_month  updrs_1  updrs_2  updrs_3  updrs_4  \\\n",
       "2610  65043_48       65043           48      7.0      6.0     13.0      0.0   \n",
       "2611  65043_54       65043           54      4.0      8.0     11.0      1.0   \n",
       "2612  65043_60       65043           60      6.0      6.0     16.0      1.0   \n",
       "2613  65043_72       65043           72      3.0      9.0     14.0      1.0   \n",
       "2614  65043_84       65043           84      7.0      9.0     20.0      3.0   \n",
       "\n",
       "     upd23b_clinical_state_on_medication  \n",
       "2610                                 Off  \n",
       "2611                                 Off  \n",
       "2612                                 Off  \n",
       "2613                                 Off  \n",
       "2614                                 Off  "
      ]
     },
     "execution_count": 21,
     "metadata": {},
     "output_type": "execute_result"
    }
   ],
   "source": [
    "train_clinical_data.tail()"
   ]
  },
  {
   "cell_type": "code",
   "execution_count": null,
   "id": "9624865a-7ef0-4880-a2b2-0844160c7d10",
   "metadata": {},
   "outputs": [],
   "source": []
  },
  {
   "cell_type": "code",
   "execution_count": 5,
   "id": "97e6785d",
   "metadata": {},
   "outputs": [
    {
     "data": {
      "text/html": [
       "<div>\n",
       "<style scoped>\n",
       "    .dataframe tbody tr th:only-of-type {\n",
       "        vertical-align: middle;\n",
       "    }\n",
       "\n",
       "    .dataframe tbody tr th {\n",
       "        vertical-align: top;\n",
       "    }\n",
       "\n",
       "    .dataframe thead th {\n",
       "        text-align: right;\n",
       "    }\n",
       "</style>\n",
       "<table border=\"1\" class=\"dataframe\">\n",
       "  <thead>\n",
       "    <tr style=\"text-align: right;\">\n",
       "      <th></th>\n",
       "      <th>visit_id</th>\n",
       "      <th>visit_month</th>\n",
       "      <th>patient_id</th>\n",
       "      <th>UniProt</th>\n",
       "      <th>NPX</th>\n",
       "    </tr>\n",
       "  </thead>\n",
       "  <tbody>\n",
       "    <tr>\n",
       "      <th>232736</th>\n",
       "      <td>58648_108</td>\n",
       "      <td>108</td>\n",
       "      <td>58648</td>\n",
       "      <td>Q9UBX5</td>\n",
       "      <td>27387.8</td>\n",
       "    </tr>\n",
       "    <tr>\n",
       "      <th>232737</th>\n",
       "      <td>58648_108</td>\n",
       "      <td>108</td>\n",
       "      <td>58648</td>\n",
       "      <td>Q9UHG2</td>\n",
       "      <td>369437.0</td>\n",
       "    </tr>\n",
       "    <tr>\n",
       "      <th>232738</th>\n",
       "      <td>58648_108</td>\n",
       "      <td>108</td>\n",
       "      <td>58648</td>\n",
       "      <td>Q9UKV8</td>\n",
       "      <td>105830.0</td>\n",
       "    </tr>\n",
       "    <tr>\n",
       "      <th>232739</th>\n",
       "      <td>58648_108</td>\n",
       "      <td>108</td>\n",
       "      <td>58648</td>\n",
       "      <td>Q9Y646</td>\n",
       "      <td>21257.6</td>\n",
       "    </tr>\n",
       "    <tr>\n",
       "      <th>232740</th>\n",
       "      <td>58648_108</td>\n",
       "      <td>108</td>\n",
       "      <td>58648</td>\n",
       "      <td>Q9Y6R7</td>\n",
       "      <td>17953.1</td>\n",
       "    </tr>\n",
       "  </tbody>\n",
       "</table>\n",
       "</div>"
      ],
      "text/plain": [
       "         visit_id  visit_month  patient_id UniProt       NPX\n",
       "232736  58648_108          108       58648  Q9UBX5   27387.8\n",
       "232737  58648_108          108       58648  Q9UHG2  369437.0\n",
       "232738  58648_108          108       58648  Q9UKV8  105830.0\n",
       "232739  58648_108          108       58648  Q9Y646   21257.6\n",
       "232740  58648_108          108       58648  Q9Y6R7   17953.1"
      ]
     },
     "execution_count": 5,
     "metadata": {},
     "output_type": "execute_result"
    }
   ],
   "source": [
    "train_proteins.tail()"
   ]
  },
  {
   "cell_type": "code",
   "execution_count": 6,
   "id": "70ccf8fa",
   "metadata": {},
   "outputs": [
    {
     "data": {
      "text/html": [
       "<div>\n",
       "<style scoped>\n",
       "    .dataframe tbody tr th:only-of-type {\n",
       "        vertical-align: middle;\n",
       "    }\n",
       "\n",
       "    .dataframe tbody tr th {\n",
       "        vertical-align: top;\n",
       "    }\n",
       "\n",
       "    .dataframe thead th {\n",
       "        text-align: right;\n",
       "    }\n",
       "</style>\n",
       "<table border=\"1\" class=\"dataframe\">\n",
       "  <thead>\n",
       "    <tr style=\"text-align: right;\">\n",
       "      <th></th>\n",
       "      <th>visit_id</th>\n",
       "      <th>visit_month</th>\n",
       "      <th>patient_id</th>\n",
       "      <th>UniProt</th>\n",
       "      <th>Peptide</th>\n",
       "      <th>PeptideAbundance</th>\n",
       "    </tr>\n",
       "  </thead>\n",
       "  <tbody>\n",
       "    <tr>\n",
       "      <th>981829</th>\n",
       "      <td>58648_108</td>\n",
       "      <td>108</td>\n",
       "      <td>58648</td>\n",
       "      <td>Q9UHG2</td>\n",
       "      <td>ILAGSADSEGVAAPR</td>\n",
       "      <td>202820.00</td>\n",
       "    </tr>\n",
       "    <tr>\n",
       "      <th>981830</th>\n",
       "      <td>58648_108</td>\n",
       "      <td>108</td>\n",
       "      <td>58648</td>\n",
       "      <td>Q9UKV8</td>\n",
       "      <td>SGNIPAGTTVDTK</td>\n",
       "      <td>105830.00</td>\n",
       "    </tr>\n",
       "    <tr>\n",
       "      <th>981831</th>\n",
       "      <td>58648_108</td>\n",
       "      <td>108</td>\n",
       "      <td>58648</td>\n",
       "      <td>Q9Y646</td>\n",
       "      <td>LALLVDTVGPR</td>\n",
       "      <td>21257.60</td>\n",
       "    </tr>\n",
       "    <tr>\n",
       "      <th>981832</th>\n",
       "      <td>58648_108</td>\n",
       "      <td>108</td>\n",
       "      <td>58648</td>\n",
       "      <td>Q9Y6R7</td>\n",
       "      <td>AGC(UniMod_4)VAESTAVC(UniMod_4)R</td>\n",
       "      <td>5127.26</td>\n",
       "    </tr>\n",
       "    <tr>\n",
       "      <th>981833</th>\n",
       "      <td>58648_108</td>\n",
       "      <td>108</td>\n",
       "      <td>58648</td>\n",
       "      <td>Q9Y6R7</td>\n",
       "      <td>GATTSPGVYELSSR</td>\n",
       "      <td>12825.90</td>\n",
       "    </tr>\n",
       "  </tbody>\n",
       "</table>\n",
       "</div>"
      ],
      "text/plain": [
       "         visit_id  visit_month  patient_id UniProt  \\\n",
       "981829  58648_108          108       58648  Q9UHG2   \n",
       "981830  58648_108          108       58648  Q9UKV8   \n",
       "981831  58648_108          108       58648  Q9Y646   \n",
       "981832  58648_108          108       58648  Q9Y6R7   \n",
       "981833  58648_108          108       58648  Q9Y6R7   \n",
       "\n",
       "                                 Peptide  PeptideAbundance  \n",
       "981829                   ILAGSADSEGVAAPR         202820.00  \n",
       "981830                     SGNIPAGTTVDTK         105830.00  \n",
       "981831                       LALLVDTVGPR          21257.60  \n",
       "981832  AGC(UniMod_4)VAESTAVC(UniMod_4)R           5127.26  \n",
       "981833                    GATTSPGVYELSSR          12825.90  "
      ]
     },
     "execution_count": 6,
     "metadata": {},
     "output_type": "execute_result"
    }
   ],
   "source": [
    "train_peptides.tail()"
   ]
  },
  {
   "cell_type": "code",
   "execution_count": 16,
   "id": "d471a37e",
   "metadata": {},
   "outputs": [
    {
     "data": {
      "text/plain": [
       "<AxesSubplot:ylabel='visit_month'>"
      ]
     },
     "execution_count": 16,
     "metadata": {},
     "output_type": "execute_result"
    },
    {
     "data": {
      "image/png": "[encoded data removed]",
      "text/plain": [
       "<Figure size 640x480 with 1 Axes>"
      ]
     },
     "metadata": {},
     "output_type": "display_data"
    }
   ],
   "source": [
    "sns.barplot(x=train_proteins.visit_month.value_counts().index, y=train_proteins.visit_month.value_counts())"
   ]
  },
  {
   "cell_type": "code",
   "execution_count": 17,
   "id": "69255838",
   "metadata": {},
   "outputs": [
    {
     "data": {
      "text/plain": [
       "<AxesSubplot:ylabel='visit_month'>"
      ]
     },
     "execution_count": 17,
     "metadata": {},
     "output_type": "execute_result"
    },
    {
     "data": {
      "image/png": "[encoded data removed]",
      "text/plain": [
       "<Figure size 640x480 with 1 Axes>"
      ]
     },
     "metadata": {},
     "output_type": "display_data"
    }
   ],
   "source": [
    "sns.barplot(x=train_peptides.visit_month.value_counts().index, y=train_peptides.visit_month.value_counts())"
   ]
  },
  {
   "cell_type": "code",
   "execution_count": null,
   "id": "40ef367e",
   "metadata": {},
   "outputs": [],
   "source": []
  }
 ],
 "metadata": {
  "kernelspec": {
   "display_name": "Python 3 (ipykernel)",
   "language": "python",
   "name": "python3"
  },
  "language_info": {
   "codemirror_mode": {
    "name": "ipython",
    "version": 3
   },
   "file_extension": ".py",
   "mimetype": "text/x-python",
   "name": "python",
   "nbconvert_exporter": "python",
   "pygments_lexer": "ipython3",
   "version": "3.9.13"
  }
 },
 "nbformat": 4,
 "nbformat_minor": 5
}

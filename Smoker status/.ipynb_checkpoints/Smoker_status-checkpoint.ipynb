{
 "cells": [
  {
   "cell_type": "code",
   "execution_count": 107,
   "id": "bf2e49da-f979-468c-bd28-dfa871afa902",
   "metadata": {},
   "outputs": [],
   "source": [
    "import yfinance as yf\n",
    "import pandas as pd\n",
    "import numpy as np\n",
    "import os\n",
    "from import tqdm\n",
    "from sklearn.svm import LinearSVC\n",
    "import matplotlib.pyplot as plt\n",
    "import seaborn as sns\n",
    "import plotly.graph_objects as go\n",
    "from datetime import datetime, timedelta\n",
    "from catboost import CatBoostClassifier, Pool\n",
    "from sklearn.metrics import accuracy_score, r2_score, recall_score, auc, roc_curve, precision_score, mean_absolute_error\n",
    "from sklearn.model_selection import train_test_split, ShuffleSplit, TimeSeriesSplit\n",
    "from sklearn.metrics import mean_squared_error, roc_auc_score, f1_score\n",
    "from sklearn.preprocessing import PolynomialFeatures, LabelEncoder\n",
    "def round2(num, r=2):\n",
    "    return round(num, r)\n",
    "from sklearn.ensemble import RandomForestClassifier\n",
    "import tensorflow as tf\n",
    "from tensorflow.keras.metrics import BinaryCrossentropy, Precision\n",
    "from tensorflow.keras.models import Sequential, load_model\n",
    "from tensorflow.keras.layers import Dense, Dropout, ReLU, LeakyReLU, Input, LSTM, Bidirectional\n",
    "from livelossplot import PlotLossesKeras\n",
    "from livelossplot.keras import PlotLossesCallback\n",
    "from sklearn.preprocessing import StandardScaler, MinMaxScaler\n",
    "from keras.callbacks import EarlyStopping, ModelCheckpoint\n",
    "from sklearn.preprocessing import StandardScaler\n",
    "from sklearn.pipeline import make_pipeline\n",
    "from sklearn.ensemble import StackingClassifier\n",
    "data=pd.read_csv('train.csv', index_col = 'id')"
   ]
  },
  {
   "cell_type": "code",
   "execution_count": 19,
   "id": "c50d0e0c-d642-491a-9c2e-6b8fc7718daf",
   "metadata": {},
   "outputs": [
    {
     "data": {
      "text/html": [
       "<div>\n",
       "<style scoped>\n",
       "    .dataframe tbody tr th:only-of-type {\n",
       "        vertical-align: middle;\n",
       "    }\n",
       "\n",
       "    .dataframe tbody tr th {\n",
       "        vertical-align: top;\n",
       "    }\n",
       "\n",
       "    .dataframe thead th {\n",
       "        text-align: right;\n",
       "    }\n",
       "</style>\n",
       "<table border=\"1\" class=\"dataframe\">\n",
       "  <thead>\n",
       "    <tr style=\"text-align: right;\">\n",
       "      <th></th>\n",
       "      <th>age</th>\n",
       "      <th>height</th>\n",
       "      <th>weight</th>\n",
       "      <th>waist</th>\n",
       "      <th>eyesight_left</th>\n",
       "      <th>eyesight_right</th>\n",
       "      <th>hearing_left</th>\n",
       "      <th>hearing_right</th>\n",
       "      <th>systolic</th>\n",
       "      <th>relaxation</th>\n",
       "      <th>...</th>\n",
       "      <th>HDL</th>\n",
       "      <th>LDL</th>\n",
       "      <th>hemoglobin</th>\n",
       "      <th>Urine_protein</th>\n",
       "      <th>serum_creatinine</th>\n",
       "      <th>AST</th>\n",
       "      <th>ALT</th>\n",
       "      <th>Gtp</th>\n",
       "      <th>dental_caries</th>\n",
       "      <th>smoking</th>\n",
       "    </tr>\n",
       "    <tr>\n",
       "      <th>id</th>\n",
       "      <th></th>\n",
       "      <th></th>\n",
       "      <th></th>\n",
       "      <th></th>\n",
       "      <th></th>\n",
       "      <th></th>\n",
       "      <th></th>\n",
       "      <th></th>\n",
       "      <th></th>\n",
       "      <th></th>\n",
       "      <th></th>\n",
       "      <th></th>\n",
       "      <th></th>\n",
       "      <th></th>\n",
       "      <th></th>\n",
       "      <th></th>\n",
       "      <th></th>\n",
       "      <th></th>\n",
       "      <th></th>\n",
       "      <th></th>\n",
       "      <th></th>\n",
       "    </tr>\n",
       "  </thead>\n",
       "  <tbody>\n",
       "    <tr>\n",
       "      <th>0</th>\n",
       "      <td>55</td>\n",
       "      <td>165</td>\n",
       "      <td>60</td>\n",
       "      <td>81.0</td>\n",
       "      <td>0.5</td>\n",
       "      <td>0.6</td>\n",
       "      <td>1</td>\n",
       "      <td>1</td>\n",
       "      <td>135</td>\n",
       "      <td>87</td>\n",
       "      <td>...</td>\n",
       "      <td>40</td>\n",
       "      <td>75</td>\n",
       "      <td>16.5</td>\n",
       "      <td>1</td>\n",
       "      <td>1.0</td>\n",
       "      <td>22</td>\n",
       "      <td>25</td>\n",
       "      <td>27</td>\n",
       "      <td>0</td>\n",
       "      <td>1</td>\n",
       "    </tr>\n",
       "    <tr>\n",
       "      <th>1</th>\n",
       "      <td>70</td>\n",
       "      <td>165</td>\n",
       "      <td>65</td>\n",
       "      <td>89.0</td>\n",
       "      <td>0.6</td>\n",
       "      <td>0.7</td>\n",
       "      <td>2</td>\n",
       "      <td>2</td>\n",
       "      <td>146</td>\n",
       "      <td>83</td>\n",
       "      <td>...</td>\n",
       "      <td>57</td>\n",
       "      <td>126</td>\n",
       "      <td>16.2</td>\n",
       "      <td>1</td>\n",
       "      <td>1.1</td>\n",
       "      <td>27</td>\n",
       "      <td>23</td>\n",
       "      <td>37</td>\n",
       "      <td>1</td>\n",
       "      <td>0</td>\n",
       "    </tr>\n",
       "    <tr>\n",
       "      <th>2</th>\n",
       "      <td>20</td>\n",
       "      <td>170</td>\n",
       "      <td>75</td>\n",
       "      <td>81.0</td>\n",
       "      <td>0.4</td>\n",
       "      <td>0.5</td>\n",
       "      <td>1</td>\n",
       "      <td>1</td>\n",
       "      <td>118</td>\n",
       "      <td>75</td>\n",
       "      <td>...</td>\n",
       "      <td>45</td>\n",
       "      <td>93</td>\n",
       "      <td>17.4</td>\n",
       "      <td>1</td>\n",
       "      <td>0.8</td>\n",
       "      <td>27</td>\n",
       "      <td>31</td>\n",
       "      <td>53</td>\n",
       "      <td>0</td>\n",
       "      <td>1</td>\n",
       "    </tr>\n",
       "    <tr>\n",
       "      <th>3</th>\n",
       "      <td>35</td>\n",
       "      <td>180</td>\n",
       "      <td>95</td>\n",
       "      <td>105.0</td>\n",
       "      <td>1.5</td>\n",
       "      <td>1.2</td>\n",
       "      <td>1</td>\n",
       "      <td>1</td>\n",
       "      <td>131</td>\n",
       "      <td>88</td>\n",
       "      <td>...</td>\n",
       "      <td>38</td>\n",
       "      <td>102</td>\n",
       "      <td>15.9</td>\n",
       "      <td>1</td>\n",
       "      <td>1.0</td>\n",
       "      <td>20</td>\n",
       "      <td>27</td>\n",
       "      <td>30</td>\n",
       "      <td>1</td>\n",
       "      <td>0</td>\n",
       "    </tr>\n",
       "    <tr>\n",
       "      <th>4</th>\n",
       "      <td>30</td>\n",
       "      <td>165</td>\n",
       "      <td>60</td>\n",
       "      <td>80.5</td>\n",
       "      <td>1.5</td>\n",
       "      <td>1.0</td>\n",
       "      <td>1</td>\n",
       "      <td>1</td>\n",
       "      <td>121</td>\n",
       "      <td>76</td>\n",
       "      <td>...</td>\n",
       "      <td>44</td>\n",
       "      <td>93</td>\n",
       "      <td>15.4</td>\n",
       "      <td>1</td>\n",
       "      <td>0.8</td>\n",
       "      <td>19</td>\n",
       "      <td>13</td>\n",
       "      <td>17</td>\n",
       "      <td>0</td>\n",
       "      <td>1</td>\n",
       "    </tr>\n",
       "  </tbody>\n",
       "</table>\n",
       "<p>5 rows × 23 columns</p>\n",
       "</div>"
      ],
      "text/plain": [
       "    age  height  weight  waist  eyesight_left  eyesight_right  hearing_left  \\\n",
       "id                                                                            \n",
       "0    55     165      60   81.0            0.5             0.6             1   \n",
       "1    70     165      65   89.0            0.6             0.7             2   \n",
       "2    20     170      75   81.0            0.4             0.5             1   \n",
       "3    35     180      95  105.0            1.5             1.2             1   \n",
       "4    30     165      60   80.5            1.5             1.0             1   \n",
       "\n",
       "    hearing_right  systolic  relaxation  ...  HDL  LDL  hemoglobin  \\\n",
       "id                                       ...                         \n",
       "0               1       135          87  ...   40   75        16.5   \n",
       "1               2       146          83  ...   57  126        16.2   \n",
       "2               1       118          75  ...   45   93        17.4   \n",
       "3               1       131          88  ...   38  102        15.9   \n",
       "4               1       121          76  ...   44   93        15.4   \n",
       "\n",
       "    Urine_protein  serum_creatinine  AST  ALT  Gtp  dental_caries  smoking  \n",
       "id                                                                          \n",
       "0               1               1.0   22   25   27              0        1  \n",
       "1               1               1.1   27   23   37              1        0  \n",
       "2               1               0.8   27   31   53              0        1  \n",
       "3               1               1.0   20   27   30              1        0  \n",
       "4               1               0.8   19   13   17              0        1  \n",
       "\n",
       "[5 rows x 23 columns]"
      ]
     },
     "execution_count": 19,
     "metadata": {},
     "output_type": "execute_result"
    }
   ],
   "source": [
    "df=data.copy()\n",
    "df.rename(columns={'height(cm)': 'height',  'weight(kg)':'weight','waist(cm)': 'waist', 'eyesight(left)': 'eyesight_left',\n",
    "'eyesight(right)': 'eyesight_right',    'hearing(left)': 'hearing_left', 'hearing(right)': 'hearing_right',\n",
    "'fasting blood sugar': 'blood_sugar',    'Urine protein': 'Urine_protein', 'serum creatinine': 'serum_creatinine',\n",
    "'dental caries': 'dental_caries'}, inplace=True)\n",
    "df.head(5)"
   ]
  },
  {
   "cell_type": "code",
   "execution_count": 94,
   "id": "53b56325-29af-4066-b20e-0651e83252a4",
   "metadata": {},
   "outputs": [
    {
     "data": {
      "text/plain": [
       "Index(['age', 'height', 'weight', 'waist', 'eyesight_left', 'eyesight_right',\n",
       "       'hearing_left', 'hearing_right', 'systolic', 'relaxation',\n",
       "       'blood_sugar', 'Cholesterol', 'triglyceride', 'HDL', 'LDL',\n",
       "       'hemoglobin', 'Urine_protein', 'serum_creatinine', 'AST', 'ALT', 'Gtp',\n",
       "       'dental_caries', 'smoking'],\n",
       "      dtype='object')"
      ]
     },
     "execution_count": 94,
     "metadata": {},
     "output_type": "execute_result"
    }
   ],
   "source": [
    "df.columns"
   ]
  },
  {
   "cell_type": "code",
   "execution_count": 95,
   "id": "446a1779-c4c6-4578-befe-93902e875ae1",
   "metadata": {},
   "outputs": [
    {
     "name": "stdout",
     "output_type": "stream",
     "text": [
      "<class 'pandas.core.frame.DataFrame'>\n",
      "Int64Index: 159256 entries, 0 to 159255\n",
      "Data columns (total 23 columns):\n",
      " #   Column            Non-Null Count   Dtype  \n",
      "---  ------            --------------   -----  \n",
      " 0   age               159256 non-null  int64  \n",
      " 1   height            159256 non-null  int64  \n",
      " 2   weight            159256 non-null  int64  \n",
      " 3   waist             159256 non-null  float64\n",
      " 4   eyesight_left     159256 non-null  float64\n",
      " 5   eyesight_right    159256 non-null  float64\n",
      " 6   hearing_left      159256 non-null  int64  \n",
      " 7   hearing_right     159256 non-null  int64  \n",
      " 8   systolic          159256 non-null  int64  \n",
      " 9   relaxation        159256 non-null  int64  \n",
      " 10  blood_sugar       159256 non-null  int64  \n",
      " 11  Cholesterol       159256 non-null  int64  \n",
      " 12  triglyceride      159256 non-null  int64  \n",
      " 13  HDL               159256 non-null  int64  \n",
      " 14  LDL               159256 non-null  int64  \n",
      " 15  hemoglobin        159256 non-null  float64\n",
      " 16  Urine_protein     159256 non-null  int64  \n",
      " 17  serum_creatinine  159256 non-null  float64\n",
      " 18  AST               159256 non-null  int64  \n",
      " 19  ALT               159256 non-null  int64  \n",
      " 20  Gtp               159256 non-null  int64  \n",
      " 21  dental_caries     159256 non-null  int64  \n",
      " 22  smoking           159256 non-null  int64  \n",
      "dtypes: float64(5), int64(18)\n",
      "memory usage: 29.2 MB\n"
     ]
    }
   ],
   "source": [
    "df.info()"
   ]
  },
  {
   "cell_type": "code",
   "execution_count": 96,
   "id": "a3a8c0e6-8927-4cd3-8a92-70731d279c5a",
   "metadata": {},
   "outputs": [
    {
     "data": {
      "text/plain": [
       "array([1, 0], dtype=int64)"
      ]
     },
     "execution_count": 96,
     "metadata": {},
     "output_type": "execute_result"
    }
   ],
   "source": [
    "df.smoking.unique()"
   ]
  },
  {
   "cell_type": "markdown",
   "id": "bef39b9f-dc09-4a10-9ad9-4037cb0d901f",
   "metadata": {},
   "source": [
    "## Qick check for correlation of target with features"
   ]
  },
  {
   "cell_type": "code",
   "execution_count": 20,
   "id": "36f19611-03f0-4126-b0a5-ecb3f09db94f",
   "metadata": {},
   "outputs": [
    {
     "data": {
      "text/plain": [
       "pandas.core.series.Series"
      ]
     },
     "execution_count": 20,
     "metadata": {},
     "output_type": "execute_result"
    }
   ],
   "source": [
    "corr_numpy = df.drop(columns=['smoking']).corrwith(df.smoking)\n",
    "type(corr_numpy)\n",
    "# corr_numpy"
   ]
  },
  {
   "cell_type": "code",
   "execution_count": 21,
   "id": "a41d401a-ecac-42c4-a626-cb374027e0a1",
   "metadata": {},
   "outputs": [
    {
     "data": {
      "image/png": "[encoded data removed]",
      "text/plain": [
       "<Figure size 640x480 with 1 Axes>"
      ]
     },
     "metadata": {},
     "output_type": "display_data"
    }
   ],
   "source": [
    "sns.barplot(x=corr_numpy.values, y=corr_numpy.index)\n",
    "plt.xlabel('Correlation Values')\n",
    "plt.ylabel('Feature')\n",
    "plt.title('Correlation with target')\n",
    "plt.show()"
   ]
  },
  {
   "cell_type": "markdown",
   "id": "f94565cc-edc7-4943-b6c7-f5de71f20224",
   "metadata": {},
   "source": [
    "## Check of incorrect data:"
   ]
  },
  {
   "cell_type": "code",
   "execution_count": 22,
   "id": "e901ac81-66b2-49dd-a3f6-90d863c7c223",
   "metadata": {},
   "outputs": [
    {
     "data": {
      "text/plain": [
       "<AxesSubplot:>"
      ]
     },
     "execution_count": 22,
     "metadata": {},
     "output_type": "execute_result"
    },
    {
     "data": {
      "image/png": "[encoded data removed]",
      "text/plain": [
       "<Figure size 640x480 with 1 Axes>"
      ]
     },
     "metadata": {},
     "output_type": "display_data"
    }
   ],
   "source": [
    "age_plot_data = pd.Series(df.age.value_counts())\n",
    "sns.barplot(y=age_plot_data.values, x=age_plot_data.index)"
   ]
  },
  {
   "cell_type": "code",
   "execution_count": 23,
   "id": "d40be454-6628-422e-9a26-3e64757784df",
   "metadata": {},
   "outputs": [],
   "source": [
    "# fixing features that are out of bucket (rounding it down)\n",
    "for col in ['age', 'height', 'weight']:\n",
    "    df[col] = df[col] - df[col] % 5"
   ]
  },
  {
   "cell_type": "code",
   "execution_count": 24,
   "id": "4317c034-1b3d-4f0c-9429-c68b0d53c615",
   "metadata": {},
   "outputs": [],
   "source": [
    "# df[df.eyesight_left == 9.9][['eyesight_left', 'eyesight_right']]"
   ]
  },
  {
   "cell_type": "markdown",
   "id": "d5a300cd-0c01-4468-8cd5-c82dbdebcae4",
   "metadata": {},
   "source": [
    "## Adding features"
   ]
  },
  {
   "cell_type": "code",
   "execution_count": 3,
   "id": "d2518712-e4c6-43bc-a678-96fb52c24200",
   "metadata": {},
   "outputs": [
    {
     "data": {
      "text/plain": [
       "Index(['age', 'height', 'weight', 'waist', 'eyesight_left', 'eyesight_right',\n",
       "       'hearing_left', 'hearing_right', 'systolic', 'relaxation',\n",
       "       'blood_sugar', 'Cholesterol', 'triglyceride', 'HDL', 'LDL',\n",
       "       'hemoglobin', 'Urine_protein', 'serum_creatinine', 'AST', 'ALT', 'Gtp',\n",
       "       'dental_caries', 'smoking'],\n",
       "      dtype='object')"
      ]
     },
     "execution_count": 3,
     "metadata": {},
     "output_type": "execute_result"
    }
   ],
   "source": [
    "df.columns"
   ]
  },
  {
   "cell_type": "code",
   "execution_count": 30,
   "id": "c77bdfee-7be1-41d8-ac90-4b44d8756eee",
   "metadata": {},
   "outputs": [],
   "source": [
    "def create_fearures(df):\n",
    "    df['w_h_ratio'] = df.weight / df.height\n",
    "    df['w_w_ratio'] = df.weight / df.waist\n",
    "    systolic_norm = 120  # < less then 120 is norm\n",
    "    relaxation_norm = 90  # < less then 90 is norm\n",
    "    df['blood_sugar_devn'] = df.blood_sugar - 85\n",
    "    df['Cholesterol_norm'] = np.where(df.Cholesterol <= 200, 0\n",
    "                                      , np.where((df.Cholesterol > 200) & (df.Cholesterol < 240), 1\n",
    "                                                ,np.where(df.Cholesterol >= 240,2, 9)))\n",
    "    df['triglyceride_norm'] = np.where(df.triglyceride <=150 , 0,\n",
    "                                       np.where((df.triglyceride > 150) & (df.triglyceride < 200), 1,2))\n",
    "    HDL_norm = 60 #above is good\n",
    "    LDL_norm = 100 #below is good\n",
    "    LDLHDL_total_norm = 200 # HDL + LDL should be beloww 200 \n",
    "    df['HDL_deviation'] = df.HDL - HDL_norm\n",
    "    df['LDL_deviation'] = df.LDL - LDL_norm\n",
    "    df['LDLHDL_total_dev'] = df.HDL + df.HDL - LDLHDL_total_norm\n",
    "    df['hemoglobin_norm'] = np.where((df.hemoglobin > 120) & (df.hemoglobin < 160), 1,0)\n",
    "    df['serum_creatinine_dev'] = df.serum_creatinine - 0.8\n",
    "create_fearures(df)   "
   ]
  },
  {
   "cell_type": "code",
   "execution_count": 28,
   "id": "4545d5a5-1de1-4ed1-8057-ec792e8f9820",
   "metadata": {},
   "outputs": [],
   "source": []
  },
  {
   "cell_type": "code",
   "execution_count": 18,
   "id": "7d7601ad-5081-4537-87ba-091bb6bfb582",
   "metadata": {},
   "outputs": [],
   "source": [
    "# df.Gtp.unique()"
   ]
  },
  {
   "cell_type": "code",
   "execution_count": 29,
   "id": "28d2646e-3928-49be-acdc-9fce3b3913e9",
   "metadata": {},
   "outputs": [
    {
     "data": {
      "text/plain": [
       "{}"
      ]
     },
     "execution_count": 29,
     "metadata": {},
     "output_type": "execute_result"
    }
   ],
   "source": [
    "list_of_null_cols = [feat for feat in df.columns if df[feat].isnull().any().sum() > 0]\n",
    "list_of_nulls = {feat: df[feat].isnull().sum()  for feat in df.columns if df[feat].isnull().any().sum() > 0}\n",
    "list_of_nulls"
   ]
  },
  {
   "cell_type": "markdown",
   "id": "0d9d42d6-a601-4a3e-8622-71192004ade1",
   "metadata": {},
   "source": [
    "## Test df"
   ]
  },
  {
   "cell_type": "code",
   "execution_count": 31,
   "id": "409c9872-e408-4482-9ff4-4dad8e2a938c",
   "metadata": {},
   "outputs": [],
   "source": [
    "test_df=pd.read_csv('test.csv', index_col = 'id')\n",
    "test_df.rename(columns={'height(cm)': 'height',  'weight(kg)':'weight','waist(cm)': 'waist', 'eyesight(left)': 'eyesight_left',\n",
    "'eyesight(right)': 'eyesight_right',    'hearing(left)': 'hearing_left', 'hearing(right)': 'hearing_right',\n",
    "'fasting blood sugar': 'blood_sugar',    'Urine protein': 'Urine_protein', 'serum creatinine': 'serum_creatinine',\n",
    "'dental caries': 'dental_caries'}, inplace=True)\n",
    "for col in ['age', 'height', 'weight']:\n",
    "    test_df[col] = test_df[col] - test_df[col] % 5\n",
    "create_fearures(test_df) "
   ]
  },
  {
   "cell_type": "markdown",
   "id": "0635c65e-6e5c-4a37-a642-17f088a3f9cf",
   "metadata": {},
   "source": [
    "# Model"
   ]
  },
  {
   "cell_type": "code",
   "execution_count": 100,
   "id": "d0455cf8-970d-4125-b8ff-0396ab577bfa",
   "metadata": {},
   "outputs": [],
   "source": [
    "poly = PolynomialFeatures(degree=2, include_bias=False)\n",
    "\n",
    "X_train, X_test, y_train, y_test = train_test_split(df.drop(['smoking'], axis = 1)\n",
    "                                                    , df.smoking, shuffle= True)\n",
    "\n",
    "num_cols = df.drop(['smoking'], axis = 1).columns[X_train.dtypes != object].tolist()\n",
    "# X_train[num_cols].info()"
   ]
  },
  {
   "cell_type": "code",
   "execution_count": 77,
   "id": "abdd557b-4e61-4f2b-9391-781779f94873",
   "metadata": {},
   "outputs": [
    {
     "data": {
      "text/plain": [
       "(119442, 592)"
      ]
     },
     "execution_count": 77,
     "metadata": {},
     "output_type": "execute_result"
    }
   ],
   "source": [
    "cl = list()\n",
    "for i in range(560):\n",
    "    cl.append('col_%s' %i)\n",
    "\n",
    "X_train_polyed = pd.DataFrame(poly.fit_transform(X_train[num_cols]), columns = cl, index = X_train.index)\n",
    "X_test_polyed = pd.DataFrame(poly.fit_transform(X_test[num_cols]), columns = cl, index = X_test.index)\n",
    "\n",
    "X_train = X_train.join(X_train_polyed)\n",
    "X_test = X_test.join(X_test_polyed)\n",
    "\n",
    "test_df_polyed = pd.DataFrame(poly.fit_transform(test_df[num_cols]), columns = cl, index = test_df.index)\n",
    "test_df1 = test_df.join(test_df_polyed)#.drop(['smoking'], axis = 1)\n",
    "X_train.shape"
   ]
  },
  {
   "cell_type": "code",
   "execution_count": 93,
   "id": "5376a458-9686-4509-9940-f5e9401b4038",
   "metadata": {},
   "outputs": [],
   "source": [
    "train_dataset = Pool(data = X_train#.drop(columns = ['Id']),\n",
    "                     ,label = y_train.astype(bool),\n",
    "#                      cat_features=categ_features\n",
    "                    )\n",
    "\n",
    "eval_dataset = Pool(data = X_test#.drop(columns = ['Id']),\n",
    "                     ,label = y_test.astype(bool),\n",
    "#                     cat_features=categ_features\n",
    "                   )"
   ]
  },
  {
   "cell_type": "code",
   "execution_count": 83,
   "id": "5670e4d1-85f2-4994-897f-d63f4a34739e",
   "metadata": {},
   "outputs": [],
   "source": [
    "cat_model = CatBoostClassifier(verbose = 0, eval_metric='AUC', iterations = 50,\n",
    "                              # plot=True,\n",
    "                              )"
   ]
  },
  {
   "cell_type": "code",
   "execution_count": 84,
   "id": "cb1fcd54-d166-4d41-9db5-b95ef7c1f3a7",
   "metadata": {},
   "outputs": [
    {
     "data": {
      "application/vnd.jupyter.widget-view+json": {
       "model_id": "bf81861cfd5e404498beacf312470363",
       "version_major": 2,
       "version_minor": 0
      },
      "text/plain": [
       "MetricVisualizer(layout=Layout(align_self='stretch', height='500px'))"
      ]
     },
     "metadata": {},
     "output_type": "display_data"
    },
    {
     "name": "stdout",
     "output_type": "stream",
     "text": [
      "Wall time: 54.1 s\n"
     ]
    },
    {
     "data": {
      "text/plain": [
       "<catboost.core.CatBoostClassifier at 0x2048a231190>"
      ]
     },
     "execution_count": 84,
     "metadata": {},
     "output_type": "execute_result"
    }
   ],
   "source": [
    "%%time\n",
    "cat_model.fit(train_dataset, plot=True, eval_set = eval_dataset)"
   ]
  },
  {
   "cell_type": "code",
   "execution_count": 85,
   "id": "c3e33074-dddf-4886-a079-a8c22e2b1864",
   "metadata": {
    "tags": []
   },
   "outputs": [],
   "source": [
    "train_preds = cat_model.predict(X_train)\n",
    "test_preds = cat_model.predict(X_test)"
   ]
  },
  {
   "cell_type": "code",
   "execution_count": 86,
   "id": "22edca32-dc55-4f0c-bb7c-fe137ed2dcd7",
   "metadata": {},
   "outputs": [
    {
     "name": "stdout",
     "output_type": "stream",
     "text": [
      "Правильность на обучающем наборе: 0.794\n",
      "Правильность на обучающем наборе: 0.776\n"
     ]
    }
   ],
   "source": [
    "print('Правильность на обучающем наборе: {:.3f}'.format(roc_auc_score(train_preds, y_train)))\n",
    "print('Правильность на обучающем наборе: {:.3f}'.format(roc_auc_score(test_preds, y_test)))\n",
    "# 0."
   ]
  },
  {
   "cell_type": "code",
   "execution_count": 55,
   "id": "2a4c6a04",
   "metadata": {},
   "outputs": [
    {
     "name": "stdout",
     "output_type": "stream",
     "text": [
      "Правильность на обучающем наборе: 0.826\n",
      "Правильность на обучающем наборе: 0.784\n"
     ]
    }
   ],
   "source": [
    "print('Правильность на обучающем наборе: {:.3f}'.format(roc_auc_score(train_preds, y_train)))\n",
    "print('Правильность на обучающем наборе: {:.3f}'.format(roc_auc_score(test_preds, y_test)))\n",
    "# 0."
   ]
  },
  {
   "cell_type": "code",
   "execution_count": 87,
   "id": "0839b46f-6add-42f4-96d6-9b051e37da78",
   "metadata": {},
   "outputs": [],
   "source": [
    "fin_pred_cat = cat_model.predict_proba(test_df1)[:, 1]"
   ]
  },
  {
   "cell_type": "code",
   "execution_count": 88,
   "id": "f42159fb-4f9e-4ce8-b705-63cdad218910",
   "metadata": {},
   "outputs": [],
   "source": [
    "fin_pred_2= pd.DataFrame({'id': test_df.index, 'smoking': fin_pred_cat})\n",
    "fin_pred_2.to_csv('submission_cat.csv', index = False)"
   ]
  },
  {
   "cell_type": "code",
   "execution_count": null,
   "id": "3c84afd0-88a1-4a95-8ad4-b327e24f906e",
   "metadata": {},
   "outputs": [],
   "source": []
  },
  {
   "cell_type": "code",
   "execution_count": 116,
   "id": "1815b9ce-0f03-4d3a-b047-e694ab8ad40e",
   "metadata": {},
   "outputs": [],
   "source": [
    "from sklearn.svm import LinearSVC"
   ]
  },
  {
   "cell_type": "markdown",
   "id": "d946da04-06a8-4f3b-971c-d8db3d5df4eb",
   "metadata": {},
   "source": [
    "# Adding stacking"
   ]
  },
  {
   "cell_type": "code",
   "execution_count": 132,
   "id": "1a53f0dc-36a9-491c-a7dd-c091c5242018",
   "metadata": {},
   "outputs": [],
   "source": [
    "estimators = [\n",
    "     ('rf', RandomForestClassifier(n_estimators=500)),\n",
    "     ('svr', make_pipeline(StandardScaler(),\n",
    "                           LinearSVC(random_state=42))),\n",
    "    ('cat1', CatBoostClassifier(verbose = 0, eval_metric='AUC', iterations = 1100))\n",
    "    ,('cat2', CatBoostClassifier(verbose = 0, eval_metric='AUC', iterations = 1000))\n",
    "    ,('cat3', CatBoostClassifier(verbose = 0, eval_metric='AUC', iterations = 500))\n",
    "    ,('cat4', CatBoostClassifier(verbose = 0, eval_metric='Precision', iterations = 500))\n",
    " ]\n",
    "clf = StackingClassifier(estimators=estimators, \n",
    "                         final_estimator=CatBoostClassifier(verbose = 1, eval_metric='AUC', iterations = 500,\n",
    "#                                cat_features=categ_features\n",
    "                                                           ))"
   ]
  },
  {
   "cell_type": "code",
   "execution_count": 133,
   "id": "04e22aaa-be65-4cdc-b6f4-b89d19cb811e",
   "metadata": {
    "collapsed": true,
    "jupyter": {
     "outputs_hidden": true
    },
    "tags": []
   },
   "outputs": [
    {
     "name": "stderr",
     "output_type": "stream",
     "text": [
      "C:\\Users\\admin\\anaconda3\\lib\\site-packages\\sklearn\\svm\\_base.py:1206: ConvergenceWarning: Liblinear failed to converge, increase the number of iterations.\n",
      "  warnings.warn(\n",
      "C:\\Users\\admin\\anaconda3\\lib\\site-packages\\sklearn\\svm\\_base.py:1206: ConvergenceWarning: Liblinear failed to converge, increase the number of iterations.\n",
      "  warnings.warn(\n",
      "C:\\Users\\admin\\anaconda3\\lib\\site-packages\\sklearn\\svm\\_base.py:1206: ConvergenceWarning: Liblinear failed to converge, increase the number of iterations.\n",
      "  warnings.warn(\n",
      "C:\\Users\\admin\\anaconda3\\lib\\site-packages\\sklearn\\svm\\_base.py:1206: ConvergenceWarning: Liblinear failed to converge, increase the number of iterations.\n",
      "  warnings.warn(\n",
      "C:\\Users\\admin\\anaconda3\\lib\\site-packages\\sklearn\\svm\\_base.py:1206: ConvergenceWarning: Liblinear failed to converge, increase the number of iterations.\n",
      "  warnings.warn(\n",
      "C:\\Users\\admin\\anaconda3\\lib\\site-packages\\sklearn\\svm\\_base.py:1206: ConvergenceWarning: Liblinear failed to converge, increase the number of iterations.\n",
      "  warnings.warn(\n"
     ]
    },
    {
     "name": "stdout",
     "output_type": "stream",
     "text": [
      "Learning rate set to 0.149942\n",
      "0:\ttotal: 36.8ms\tremaining: 18.4s\n",
      "1:\ttotal: 71.4ms\tremaining: 17.8s\n",
      "2:\ttotal: 106ms\tremaining: 17.5s\n",
      "3:\ttotal: 138ms\tremaining: 17.1s\n",
      "4:\ttotal: 172ms\tremaining: 17s\n",
      "5:\ttotal: 211ms\tremaining: 17.4s\n",
      "6:\ttotal: 247ms\tremaining: 17.4s\n",
      "7:\ttotal: 289ms\tremaining: 17.8s\n",
      "8:\ttotal: 323ms\tremaining: 17.6s\n",
      "9:\ttotal: 353ms\tremaining: 17.3s\n",
      "10:\ttotal: 388ms\tremaining: 17.2s\n",
      "11:\ttotal: 420ms\tremaining: 17.1s\n",
      "12:\ttotal: 462ms\tremaining: 17.3s\n",
      "13:\ttotal: 507ms\tremaining: 17.6s\n",
      "14:\ttotal: 551ms\tremaining: 17.8s\n",
      "15:\ttotal: 584ms\tremaining: 17.7s\n",
      "16:\ttotal: 617ms\tremaining: 17.5s\n",
      "17:\ttotal: 651ms\tremaining: 17.4s\n",
      "18:\ttotal: 688ms\tremaining: 17.4s\n",
      "19:\ttotal: 730ms\tremaining: 17.5s\n",
      "20:\ttotal: 768ms\tremaining: 17.5s\n",
      "21:\ttotal: 802ms\tremaining: 17.4s\n",
      "22:\ttotal: 834ms\tremaining: 17.3s\n",
      "23:\ttotal: 868ms\tremaining: 17.2s\n",
      "24:\ttotal: 906ms\tremaining: 17.2s\n",
      "25:\ttotal: 948ms\tremaining: 17.3s\n",
      "26:\ttotal: 988ms\tremaining: 17.3s\n",
      "27:\ttotal: 1.02s\tremaining: 17.2s\n",
      "28:\ttotal: 1.05s\tremaining: 17.1s\n",
      "29:\ttotal: 1.09s\tremaining: 17.1s\n",
      "30:\ttotal: 1.13s\tremaining: 17s\n",
      "31:\ttotal: 1.18s\tremaining: 17.2s\n",
      "32:\ttotal: 1.22s\tremaining: 17.2s\n",
      "33:\ttotal: 1.25s\tremaining: 17.1s\n",
      "34:\ttotal: 1.28s\tremaining: 17s\n",
      "35:\ttotal: 1.31s\tremaining: 16.9s\n",
      "36:\ttotal: 1.35s\tremaining: 16.8s\n",
      "37:\ttotal: 1.39s\tremaining: 16.9s\n",
      "38:\ttotal: 1.43s\tremaining: 16.9s\n",
      "39:\ttotal: 1.46s\tremaining: 16.8s\n",
      "40:\ttotal: 1.49s\tremaining: 16.7s\n",
      "41:\ttotal: 1.53s\tremaining: 16.7s\n",
      "42:\ttotal: 1.57s\tremaining: 16.7s\n",
      "43:\ttotal: 1.61s\tremaining: 16.7s\n",
      "44:\ttotal: 1.65s\tremaining: 16.7s\n",
      "45:\ttotal: 1.69s\tremaining: 16.7s\n",
      "46:\ttotal: 1.72s\tremaining: 16.6s\n",
      "47:\ttotal: 1.75s\tremaining: 16.5s\n",
      "48:\ttotal: 1.79s\tremaining: 16.5s\n",
      "49:\ttotal: 1.83s\tremaining: 16.5s\n",
      "50:\ttotal: 1.88s\tremaining: 16.5s\n",
      "51:\ttotal: 1.91s\tremaining: 16.5s\n",
      "52:\ttotal: 1.95s\tremaining: 16.4s\n",
      "53:\ttotal: 1.98s\tremaining: 16.4s\n",
      "54:\ttotal: 2.02s\tremaining: 16.3s\n",
      "55:\ttotal: 2.06s\tremaining: 16.3s\n",
      "56:\ttotal: 2.1s\tremaining: 16.3s\n",
      "57:\ttotal: 2.13s\tremaining: 16.3s\n",
      "58:\ttotal: 2.17s\tremaining: 16.2s\n",
      "59:\ttotal: 2.2s\tremaining: 16.1s\n",
      "60:\ttotal: 2.24s\tremaining: 16.1s\n",
      "61:\ttotal: 2.28s\tremaining: 16.1s\n",
      "62:\ttotal: 2.32s\tremaining: 16.1s\n",
      "63:\ttotal: 2.35s\tremaining: 16s\n",
      "64:\ttotal: 2.38s\tremaining: 15.9s\n",
      "65:\ttotal: 2.42s\tremaining: 15.9s\n",
      "66:\ttotal: 2.46s\tremaining: 15.9s\n",
      "67:\ttotal: 2.5s\tremaining: 15.9s\n",
      "68:\ttotal: 2.54s\tremaining: 15.9s\n",
      "69:\ttotal: 2.57s\tremaining: 15.8s\n",
      "70:\ttotal: 2.6s\tremaining: 15.7s\n",
      "71:\ttotal: 2.65s\tremaining: 15.7s\n",
      "72:\ttotal: 2.7s\tremaining: 15.8s\n",
      "73:\ttotal: 2.75s\tremaining: 15.8s\n",
      "74:\ttotal: 2.78s\tremaining: 15.8s\n",
      "75:\ttotal: 2.81s\tremaining: 15.7s\n",
      "76:\ttotal: 2.85s\tremaining: 15.6s\n",
      "77:\ttotal: 2.88s\tremaining: 15.6s\n",
      "78:\ttotal: 2.92s\tremaining: 15.6s\n",
      "79:\ttotal: 2.96s\tremaining: 15.5s\n",
      "80:\ttotal: 3s\tremaining: 15.5s\n",
      "81:\ttotal: 3.03s\tremaining: 15.5s\n",
      "82:\ttotal: 3.07s\tremaining: 15.4s\n",
      "83:\ttotal: 3.1s\tremaining: 15.4s\n",
      "84:\ttotal: 3.14s\tremaining: 15.3s\n",
      "85:\ttotal: 3.18s\tremaining: 15.3s\n",
      "86:\ttotal: 3.21s\tremaining: 15.3s\n",
      "87:\ttotal: 3.25s\tremaining: 15.2s\n",
      "88:\ttotal: 3.29s\tremaining: 15.2s\n",
      "89:\ttotal: 3.32s\tremaining: 15.1s\n",
      "90:\ttotal: 3.35s\tremaining: 15.1s\n",
      "91:\ttotal: 3.4s\tremaining: 15.1s\n",
      "92:\ttotal: 3.43s\tremaining: 15s\n",
      "93:\ttotal: 3.47s\tremaining: 15s\n",
      "94:\ttotal: 3.5s\tremaining: 14.9s\n",
      "95:\ttotal: 3.53s\tremaining: 14.9s\n",
      "96:\ttotal: 3.57s\tremaining: 14.8s\n",
      "97:\ttotal: 3.62s\tremaining: 14.8s\n",
      "98:\ttotal: 3.66s\tremaining: 14.8s\n",
      "99:\ttotal: 3.69s\tremaining: 14.8s\n",
      "100:\ttotal: 3.72s\tremaining: 14.7s\n",
      "101:\ttotal: 3.75s\tremaining: 14.6s\n",
      "102:\ttotal: 3.79s\tremaining: 14.6s\n",
      "103:\ttotal: 3.83s\tremaining: 14.6s\n",
      "104:\ttotal: 3.87s\tremaining: 14.6s\n",
      "105:\ttotal: 3.91s\tremaining: 14.5s\n",
      "106:\ttotal: 3.94s\tremaining: 14.5s\n",
      "107:\ttotal: 3.97s\tremaining: 14.4s\n",
      "108:\ttotal: 4.01s\tremaining: 14.4s\n",
      "109:\ttotal: 4.05s\tremaining: 14.4s\n",
      "110:\ttotal: 4.09s\tremaining: 14.4s\n",
      "111:\ttotal: 4.13s\tremaining: 14.3s\n",
      "112:\ttotal: 4.16s\tremaining: 14.3s\n",
      "113:\ttotal: 4.2s\tremaining: 14.2s\n",
      "114:\ttotal: 4.23s\tremaining: 14.2s\n",
      "115:\ttotal: 4.27s\tremaining: 14.1s\n",
      "116:\ttotal: 4.31s\tremaining: 14.1s\n",
      "117:\ttotal: 4.35s\tremaining: 14.1s\n",
      "118:\ttotal: 4.38s\tremaining: 14s\n",
      "119:\ttotal: 4.41s\tremaining: 14s\n",
      "120:\ttotal: 4.45s\tremaining: 13.9s\n",
      "121:\ttotal: 4.49s\tremaining: 13.9s\n",
      "122:\ttotal: 4.53s\tremaining: 13.9s\n",
      "123:\ttotal: 4.58s\tremaining: 13.9s\n",
      "124:\ttotal: 4.61s\tremaining: 13.8s\n",
      "125:\ttotal: 4.65s\tremaining: 13.8s\n",
      "126:\ttotal: 4.68s\tremaining: 13.7s\n",
      "127:\ttotal: 4.72s\tremaining: 13.7s\n",
      "128:\ttotal: 4.76s\tremaining: 13.7s\n",
      "129:\ttotal: 4.8s\tremaining: 13.7s\n",
      "130:\ttotal: 4.83s\tremaining: 13.6s\n",
      "131:\ttotal: 4.87s\tremaining: 13.6s\n",
      "132:\ttotal: 4.9s\tremaining: 13.5s\n",
      "133:\ttotal: 4.94s\tremaining: 13.5s\n",
      "134:\ttotal: 4.97s\tremaining: 13.4s\n",
      "135:\ttotal: 5.02s\tremaining: 13.4s\n",
      "136:\ttotal: 5.05s\tremaining: 13.4s\n",
      "137:\ttotal: 5.09s\tremaining: 13.3s\n",
      "138:\ttotal: 5.12s\tremaining: 13.3s\n",
      "139:\ttotal: 5.16s\tremaining: 13.3s\n",
      "140:\ttotal: 5.2s\tremaining: 13.2s\n",
      "141:\ttotal: 5.24s\tremaining: 13.2s\n",
      "142:\ttotal: 5.28s\tremaining: 13.2s\n",
      "143:\ttotal: 5.31s\tremaining: 13.1s\n",
      "144:\ttotal: 5.34s\tremaining: 13.1s\n",
      "145:\ttotal: 5.38s\tremaining: 13s\n",
      "146:\ttotal: 5.42s\tremaining: 13s\n",
      "147:\ttotal: 5.46s\tremaining: 13s\n",
      "148:\ttotal: 5.5s\tremaining: 12.9s\n",
      "149:\ttotal: 5.53s\tremaining: 12.9s\n",
      "150:\ttotal: 5.56s\tremaining: 12.9s\n",
      "151:\ttotal: 5.6s\tremaining: 12.8s\n",
      "152:\ttotal: 5.64s\tremaining: 12.8s\n",
      "153:\ttotal: 5.68s\tremaining: 12.8s\n",
      "154:\ttotal: 5.71s\tremaining: 12.7s\n",
      "155:\ttotal: 5.75s\tremaining: 12.7s\n",
      "156:\ttotal: 5.78s\tremaining: 12.6s\n",
      "157:\ttotal: 5.82s\tremaining: 12.6s\n",
      "158:\ttotal: 5.86s\tremaining: 12.6s\n",
      "159:\ttotal: 5.91s\tremaining: 12.5s\n",
      "160:\ttotal: 5.94s\tremaining: 12.5s\n",
      "161:\ttotal: 5.97s\tremaining: 12.5s\n",
      "162:\ttotal: 6s\tremaining: 12.4s\n",
      "163:\ttotal: 6.04s\tremaining: 12.4s\n",
      "164:\ttotal: 6.08s\tremaining: 12.4s\n",
      "165:\ttotal: 6.12s\tremaining: 12.3s\n",
      "166:\ttotal: 6.16s\tremaining: 12.3s\n",
      "167:\ttotal: 6.19s\tremaining: 12.2s\n",
      "168:\ttotal: 6.23s\tremaining: 12.2s\n",
      "169:\ttotal: 6.26s\tremaining: 12.2s\n",
      "170:\ttotal: 6.3s\tremaining: 12.1s\n",
      "171:\ttotal: 6.34s\tremaining: 12.1s\n",
      "172:\ttotal: 6.38s\tremaining: 12.1s\n",
      "173:\ttotal: 6.41s\tremaining: 12s\n",
      "174:\ttotal: 6.45s\tremaining: 12s\n",
      "175:\ttotal: 6.49s\tremaining: 11.9s\n",
      "176:\ttotal: 6.53s\tremaining: 11.9s\n",
      "177:\ttotal: 6.57s\tremaining: 11.9s\n",
      "178:\ttotal: 6.6s\tremaining: 11.8s\n",
      "179:\ttotal: 6.64s\tremaining: 11.8s\n",
      "180:\ttotal: 6.67s\tremaining: 11.8s\n",
      "181:\ttotal: 6.71s\tremaining: 11.7s\n",
      "182:\ttotal: 6.75s\tremaining: 11.7s\n",
      "183:\ttotal: 6.8s\tremaining: 11.7s\n",
      "184:\ttotal: 6.84s\tremaining: 11.6s\n",
      "185:\ttotal: 6.87s\tremaining: 11.6s\n",
      "186:\ttotal: 6.91s\tremaining: 11.6s\n",
      "187:\ttotal: 6.95s\tremaining: 11.5s\n",
      "188:\ttotal: 6.99s\tremaining: 11.5s\n",
      "189:\ttotal: 7.03s\tremaining: 11.5s\n",
      "190:\ttotal: 7.06s\tremaining: 11.4s\n",
      "191:\ttotal: 7.1s\tremaining: 11.4s\n",
      "192:\ttotal: 7.13s\tremaining: 11.3s\n",
      "193:\ttotal: 7.16s\tremaining: 11.3s\n",
      "194:\ttotal: 7.2s\tremaining: 11.3s\n",
      "195:\ttotal: 7.25s\tremaining: 11.2s\n",
      "196:\ttotal: 7.28s\tremaining: 11.2s\n",
      "197:\ttotal: 7.31s\tremaining: 11.2s\n",
      "198:\ttotal: 7.35s\tremaining: 11.1s\n",
      "199:\ttotal: 7.39s\tremaining: 11.1s\n",
      "200:\ttotal: 7.43s\tremaining: 11.1s\n",
      "201:\ttotal: 7.47s\tremaining: 11s\n",
      "202:\ttotal: 7.5s\tremaining: 11s\n",
      "203:\ttotal: 7.54s\tremaining: 10.9s\n",
      "204:\ttotal: 7.58s\tremaining: 10.9s\n",
      "205:\ttotal: 7.61s\tremaining: 10.9s\n",
      "206:\ttotal: 7.66s\tremaining: 10.8s\n",
      "207:\ttotal: 7.7s\tremaining: 10.8s\n",
      "208:\ttotal: 7.73s\tremaining: 10.8s\n",
      "209:\ttotal: 7.77s\tremaining: 10.7s\n",
      "210:\ttotal: 7.8s\tremaining: 10.7s\n",
      "211:\ttotal: 7.83s\tremaining: 10.6s\n",
      "212:\ttotal: 7.88s\tremaining: 10.6s\n",
      "213:\ttotal: 7.91s\tremaining: 10.6s\n",
      "214:\ttotal: 7.95s\tremaining: 10.5s\n",
      "215:\ttotal: 7.98s\tremaining: 10.5s\n",
      "216:\ttotal: 8.02s\tremaining: 10.5s\n",
      "217:\ttotal: 8.05s\tremaining: 10.4s\n",
      "218:\ttotal: 8.09s\tremaining: 10.4s\n",
      "219:\ttotal: 8.13s\tremaining: 10.4s\n",
      "220:\ttotal: 8.17s\tremaining: 10.3s\n",
      "221:\ttotal: 8.2s\tremaining: 10.3s\n",
      "222:\ttotal: 8.25s\tremaining: 10.2s\n",
      "223:\ttotal: 8.29s\tremaining: 10.2s\n",
      "224:\ttotal: 8.33s\tremaining: 10.2s\n",
      "225:\ttotal: 8.37s\tremaining: 10.1s\n",
      "226:\ttotal: 8.4s\tremaining: 10.1s\n",
      "227:\ttotal: 8.44s\tremaining: 10.1s\n",
      "228:\ttotal: 8.47s\tremaining: 10s\n",
      "229:\ttotal: 8.51s\tremaining: 9.98s\n",
      "230:\ttotal: 8.55s\tremaining: 9.96s\n",
      "231:\ttotal: 8.59s\tremaining: 9.93s\n",
      "232:\ttotal: 8.63s\tremaining: 9.88s\n",
      "233:\ttotal: 8.66s\tremaining: 9.85s\n",
      "234:\ttotal: 8.7s\tremaining: 9.81s\n",
      "235:\ttotal: 8.74s\tremaining: 9.78s\n",
      "236:\ttotal: 8.78s\tremaining: 9.74s\n",
      "237:\ttotal: 8.81s\tremaining: 9.7s\n",
      "238:\ttotal: 8.85s\tremaining: 9.66s\n",
      "239:\ttotal: 8.88s\tremaining: 9.62s\n",
      "240:\ttotal: 8.91s\tremaining: 9.57s\n",
      "241:\ttotal: 8.94s\tremaining: 9.53s\n",
      "242:\ttotal: 8.98s\tremaining: 9.5s\n",
      "243:\ttotal: 9.03s\tremaining: 9.47s\n",
      "244:\ttotal: 9.06s\tremaining: 9.43s\n",
      "245:\ttotal: 9.09s\tremaining: 9.39s\n",
      "246:\ttotal: 9.13s\tremaining: 9.35s\n",
      "247:\ttotal: 9.16s\tremaining: 9.31s\n",
      "248:\ttotal: 9.19s\tremaining: 9.27s\n",
      "249:\ttotal: 9.23s\tremaining: 9.23s\n",
      "250:\ttotal: 9.28s\tremaining: 9.2s\n",
      "251:\ttotal: 9.32s\tremaining: 9.18s\n",
      "252:\ttotal: 9.37s\tremaining: 9.14s\n",
      "253:\ttotal: 9.4s\tremaining: 9.11s\n",
      "254:\ttotal: 9.44s\tremaining: 9.07s\n",
      "255:\ttotal: 9.49s\tremaining: 9.04s\n",
      "256:\ttotal: 9.53s\tremaining: 9.01s\n",
      "257:\ttotal: 9.56s\tremaining: 8.97s\n",
      "258:\ttotal: 9.6s\tremaining: 8.93s\n",
      "259:\ttotal: 9.64s\tremaining: 8.9s\n",
      "260:\ttotal: 9.68s\tremaining: 8.87s\n",
      "261:\ttotal: 9.72s\tremaining: 8.83s\n",
      "262:\ttotal: 9.75s\tremaining: 8.79s\n",
      "263:\ttotal: 9.79s\tremaining: 8.75s\n",
      "264:\ttotal: 9.82s\tremaining: 8.71s\n",
      "265:\ttotal: 9.85s\tremaining: 8.67s\n",
      "266:\ttotal: 9.9s\tremaining: 8.64s\n",
      "267:\ttotal: 9.94s\tremaining: 8.6s\n",
      "268:\ttotal: 9.97s\tremaining: 8.56s\n",
      "269:\ttotal: 10s\tremaining: 8.53s\n",
      "270:\ttotal: 10s\tremaining: 8.48s\n",
      "271:\ttotal: 10.1s\tremaining: 8.45s\n",
      "272:\ttotal: 10.1s\tremaining: 8.41s\n",
      "273:\ttotal: 10.2s\tremaining: 8.37s\n",
      "274:\ttotal: 10.2s\tremaining: 8.34s\n",
      "275:\ttotal: 10.2s\tremaining: 8.3s\n",
      "276:\ttotal: 10.3s\tremaining: 8.26s\n",
      "277:\ttotal: 10.3s\tremaining: 8.22s\n",
      "278:\ttotal: 10.3s\tremaining: 8.18s\n",
      "279:\ttotal: 10.4s\tremaining: 8.14s\n",
      "280:\ttotal: 10.4s\tremaining: 8.11s\n",
      "281:\ttotal: 10.4s\tremaining: 8.07s\n",
      "282:\ttotal: 10.5s\tremaining: 8.03s\n",
      "283:\ttotal: 10.5s\tremaining: 8s\n",
      "284:\ttotal: 10.6s\tremaining: 7.96s\n",
      "285:\ttotal: 10.6s\tremaining: 7.93s\n",
      "286:\ttotal: 10.6s\tremaining: 7.9s\n",
      "287:\ttotal: 10.7s\tremaining: 7.86s\n",
      "288:\ttotal: 10.7s\tremaining: 7.82s\n",
      "289:\ttotal: 10.7s\tremaining: 7.78s\n",
      "290:\ttotal: 10.8s\tremaining: 7.74s\n",
      "291:\ttotal: 10.8s\tremaining: 7.71s\n",
      "292:\ttotal: 10.9s\tremaining: 7.68s\n",
      "293:\ttotal: 10.9s\tremaining: 7.64s\n",
      "294:\ttotal: 10.9s\tremaining: 7.6s\n",
      "295:\ttotal: 11s\tremaining: 7.56s\n",
      "296:\ttotal: 11s\tremaining: 7.52s\n",
      "297:\ttotal: 11s\tremaining: 7.49s\n",
      "298:\ttotal: 11.1s\tremaining: 7.45s\n",
      "299:\ttotal: 11.1s\tremaining: 7.41s\n",
      "300:\ttotal: 11.2s\tremaining: 7.37s\n",
      "301:\ttotal: 11.2s\tremaining: 7.33s\n",
      "302:\ttotal: 11.2s\tremaining: 7.3s\n",
      "303:\ttotal: 11.3s\tremaining: 7.27s\n",
      "304:\ttotal: 11.3s\tremaining: 7.23s\n",
      "305:\ttotal: 11.3s\tremaining: 7.19s\n",
      "306:\ttotal: 11.4s\tremaining: 7.15s\n",
      "307:\ttotal: 11.4s\tremaining: 7.12s\n",
      "308:\ttotal: 11.5s\tremaining: 7.08s\n",
      "309:\ttotal: 11.5s\tremaining: 7.05s\n",
      "310:\ttotal: 11.5s\tremaining: 7.01s\n",
      "311:\ttotal: 11.6s\tremaining: 6.97s\n",
      "312:\ttotal: 11.6s\tremaining: 6.93s\n",
      "313:\ttotal: 11.6s\tremaining: 6.89s\n",
      "314:\ttotal: 11.7s\tremaining: 6.86s\n",
      "315:\ttotal: 11.7s\tremaining: 6.82s\n",
      "316:\ttotal: 11.8s\tremaining: 6.79s\n",
      "317:\ttotal: 11.8s\tremaining: 6.75s\n",
      "318:\ttotal: 11.8s\tremaining: 6.71s\n",
      "319:\ttotal: 11.9s\tremaining: 6.67s\n",
      "320:\ttotal: 11.9s\tremaining: 6.63s\n",
      "321:\ttotal: 11.9s\tremaining: 6.6s\n",
      "322:\ttotal: 12s\tremaining: 6.56s\n",
      "323:\ttotal: 12s\tremaining: 6.53s\n",
      "324:\ttotal: 12.1s\tremaining: 6.49s\n",
      "325:\ttotal: 12.1s\tremaining: 6.45s\n",
      "326:\ttotal: 12.1s\tremaining: 6.41s\n",
      "327:\ttotal: 12.2s\tremaining: 6.38s\n",
      "328:\ttotal: 12.2s\tremaining: 6.34s\n",
      "329:\ttotal: 12.2s\tremaining: 6.3s\n",
      "330:\ttotal: 12.3s\tremaining: 6.26s\n",
      "331:\ttotal: 12.3s\tremaining: 6.22s\n",
      "332:\ttotal: 12.3s\tremaining: 6.18s\n",
      "333:\ttotal: 12.4s\tremaining: 6.15s\n",
      "334:\ttotal: 12.4s\tremaining: 6.11s\n",
      "335:\ttotal: 12.4s\tremaining: 6.08s\n",
      "336:\ttotal: 12.5s\tremaining: 6.04s\n",
      "337:\ttotal: 12.5s\tremaining: 6s\n",
      "338:\ttotal: 12.6s\tremaining: 5.96s\n",
      "339:\ttotal: 12.6s\tremaining: 5.92s\n",
      "340:\ttotal: 12.6s\tremaining: 5.89s\n",
      "341:\ttotal: 12.7s\tremaining: 5.85s\n",
      "342:\ttotal: 12.7s\tremaining: 5.81s\n",
      "343:\ttotal: 12.7s\tremaining: 5.78s\n",
      "344:\ttotal: 12.8s\tremaining: 5.74s\n",
      "345:\ttotal: 12.8s\tremaining: 5.7s\n",
      "346:\ttotal: 12.8s\tremaining: 5.66s\n",
      "347:\ttotal: 12.9s\tremaining: 5.63s\n",
      "348:\ttotal: 12.9s\tremaining: 5.59s\n",
      "349:\ttotal: 13s\tremaining: 5.55s\n",
      "350:\ttotal: 13s\tremaining: 5.51s\n",
      "351:\ttotal: 13s\tremaining: 5.48s\n",
      "352:\ttotal: 13.1s\tremaining: 5.44s\n",
      "353:\ttotal: 13.1s\tremaining: 5.41s\n",
      "354:\ttotal: 13.1s\tremaining: 5.37s\n",
      "355:\ttotal: 13.2s\tremaining: 5.33s\n",
      "356:\ttotal: 13.2s\tremaining: 5.29s\n",
      "357:\ttotal: 13.2s\tremaining: 5.25s\n",
      "358:\ttotal: 13.3s\tremaining: 5.22s\n",
      "359:\ttotal: 13.3s\tremaining: 5.18s\n",
      "360:\ttotal: 13.4s\tremaining: 5.14s\n",
      "361:\ttotal: 13.4s\tremaining: 5.1s\n",
      "362:\ttotal: 13.4s\tremaining: 5.06s\n",
      "363:\ttotal: 13.5s\tremaining: 5.03s\n",
      "364:\ttotal: 13.5s\tremaining: 4.99s\n",
      "365:\ttotal: 13.5s\tremaining: 4.96s\n",
      "366:\ttotal: 13.6s\tremaining: 4.92s\n",
      "367:\ttotal: 13.6s\tremaining: 4.88s\n",
      "368:\ttotal: 13.6s\tremaining: 4.84s\n",
      "369:\ttotal: 13.7s\tremaining: 4.81s\n",
      "370:\ttotal: 13.7s\tremaining: 4.77s\n",
      "371:\ttotal: 13.8s\tremaining: 4.74s\n",
      "372:\ttotal: 13.8s\tremaining: 4.7s\n",
      "373:\ttotal: 13.8s\tremaining: 4.66s\n",
      "374:\ttotal: 13.9s\tremaining: 4.62s\n",
      "375:\ttotal: 13.9s\tremaining: 4.59s\n",
      "376:\ttotal: 14s\tremaining: 4.55s\n",
      "377:\ttotal: 14s\tremaining: 4.52s\n",
      "378:\ttotal: 14s\tremaining: 4.48s\n",
      "379:\ttotal: 14.1s\tremaining: 4.44s\n",
      "380:\ttotal: 14.1s\tremaining: 4.4s\n",
      "381:\ttotal: 14.1s\tremaining: 4.37s\n",
      "382:\ttotal: 14.2s\tremaining: 4.33s\n",
      "383:\ttotal: 14.2s\tremaining: 4.29s\n",
      "384:\ttotal: 14.3s\tremaining: 4.26s\n",
      "385:\ttotal: 14.3s\tremaining: 4.22s\n",
      "386:\ttotal: 14.3s\tremaining: 4.18s\n",
      "387:\ttotal: 14.4s\tremaining: 4.14s\n",
      "388:\ttotal: 14.4s\tremaining: 4.11s\n",
      "389:\ttotal: 14.4s\tremaining: 4.07s\n",
      "390:\ttotal: 14.5s\tremaining: 4.03s\n",
      "391:\ttotal: 14.5s\tremaining: 4s\n",
      "392:\ttotal: 14.5s\tremaining: 3.96s\n",
      "393:\ttotal: 14.6s\tremaining: 3.92s\n",
      "394:\ttotal: 14.6s\tremaining: 3.89s\n",
      "395:\ttotal: 14.7s\tremaining: 3.85s\n",
      "396:\ttotal: 14.7s\tremaining: 3.81s\n",
      "397:\ttotal: 14.7s\tremaining: 3.77s\n",
      "398:\ttotal: 14.8s\tremaining: 3.74s\n",
      "399:\ttotal: 14.8s\tremaining: 3.7s\n",
      "400:\ttotal: 14.8s\tremaining: 3.67s\n",
      "401:\ttotal: 14.9s\tremaining: 3.63s\n",
      "402:\ttotal: 14.9s\tremaining: 3.59s\n",
      "403:\ttotal: 15s\tremaining: 3.55s\n",
      "404:\ttotal: 15s\tremaining: 3.52s\n",
      "405:\ttotal: 15s\tremaining: 3.48s\n",
      "406:\ttotal: 15.1s\tremaining: 3.45s\n",
      "407:\ttotal: 15.1s\tremaining: 3.41s\n",
      "408:\ttotal: 15.1s\tremaining: 3.37s\n",
      "409:\ttotal: 15.2s\tremaining: 3.33s\n",
      "410:\ttotal: 15.2s\tremaining: 3.29s\n",
      "411:\ttotal: 15.2s\tremaining: 3.26s\n",
      "412:\ttotal: 15.3s\tremaining: 3.22s\n",
      "413:\ttotal: 15.3s\tremaining: 3.18s\n",
      "414:\ttotal: 15.4s\tremaining: 3.15s\n",
      "415:\ttotal: 15.4s\tremaining: 3.11s\n",
      "416:\ttotal: 15.4s\tremaining: 3.07s\n",
      "417:\ttotal: 15.5s\tremaining: 3.03s\n",
      "418:\ttotal: 15.5s\tremaining: 3s\n",
      "419:\ttotal: 15.5s\tremaining: 2.96s\n",
      "420:\ttotal: 15.6s\tremaining: 2.92s\n",
      "421:\ttotal: 15.6s\tremaining: 2.89s\n",
      "422:\ttotal: 15.7s\tremaining: 2.85s\n",
      "423:\ttotal: 15.7s\tremaining: 2.81s\n",
      "424:\ttotal: 15.7s\tremaining: 2.77s\n",
      "425:\ttotal: 15.8s\tremaining: 2.74s\n",
      "426:\ttotal: 15.8s\tremaining: 2.7s\n",
      "427:\ttotal: 15.8s\tremaining: 2.67s\n",
      "428:\ttotal: 15.9s\tremaining: 2.63s\n",
      "429:\ttotal: 15.9s\tremaining: 2.59s\n",
      "430:\ttotal: 15.9s\tremaining: 2.55s\n",
      "431:\ttotal: 16s\tremaining: 2.51s\n",
      "432:\ttotal: 16s\tremaining: 2.48s\n",
      "433:\ttotal: 16.1s\tremaining: 2.44s\n",
      "434:\ttotal: 16.1s\tremaining: 2.4s\n",
      "435:\ttotal: 16.1s\tremaining: 2.37s\n",
      "436:\ttotal: 16.2s\tremaining: 2.33s\n",
      "437:\ttotal: 16.2s\tremaining: 2.29s\n",
      "438:\ttotal: 16.2s\tremaining: 2.25s\n",
      "439:\ttotal: 16.3s\tremaining: 2.22s\n",
      "440:\ttotal: 16.3s\tremaining: 2.18s\n",
      "441:\ttotal: 16.4s\tremaining: 2.15s\n",
      "442:\ttotal: 16.4s\tremaining: 2.11s\n",
      "443:\ttotal: 16.4s\tremaining: 2.07s\n",
      "444:\ttotal: 16.4s\tremaining: 2.03s\n",
      "445:\ttotal: 16.5s\tremaining: 2s\n",
      "446:\ttotal: 16.5s\tremaining: 1.96s\n",
      "447:\ttotal: 16.6s\tremaining: 1.92s\n",
      "448:\ttotal: 16.6s\tremaining: 1.89s\n",
      "449:\ttotal: 16.6s\tremaining: 1.85s\n",
      "450:\ttotal: 16.7s\tremaining: 1.81s\n",
      "451:\ttotal: 16.7s\tremaining: 1.78s\n",
      "452:\ttotal: 16.8s\tremaining: 1.74s\n",
      "453:\ttotal: 16.8s\tremaining: 1.7s\n",
      "454:\ttotal: 16.9s\tremaining: 1.67s\n",
      "455:\ttotal: 16.9s\tremaining: 1.63s\n",
      "456:\ttotal: 16.9s\tremaining: 1.59s\n",
      "457:\ttotal: 16.9s\tremaining: 1.55s\n",
      "458:\ttotal: 17s\tremaining: 1.52s\n",
      "459:\ttotal: 17s\tremaining: 1.48s\n",
      "460:\ttotal: 17.1s\tremaining: 1.44s\n",
      "461:\ttotal: 17.1s\tremaining: 1.41s\n",
      "462:\ttotal: 17.1s\tremaining: 1.37s\n",
      "463:\ttotal: 17.2s\tremaining: 1.33s\n",
      "464:\ttotal: 17.2s\tremaining: 1.29s\n",
      "465:\ttotal: 17.3s\tremaining: 1.26s\n",
      "466:\ttotal: 17.3s\tremaining: 1.22s\n",
      "467:\ttotal: 17.3s\tremaining: 1.18s\n",
      "468:\ttotal: 17.4s\tremaining: 1.15s\n",
      "469:\ttotal: 17.4s\tremaining: 1.11s\n",
      "470:\ttotal: 17.4s\tremaining: 1.07s\n",
      "471:\ttotal: 17.5s\tremaining: 1.04s\n",
      "472:\ttotal: 17.5s\tremaining: 1000ms\n",
      "473:\ttotal: 17.5s\tremaining: 963ms\n",
      "474:\ttotal: 17.6s\tremaining: 925ms\n",
      "475:\ttotal: 17.6s\tremaining: 888ms\n",
      "476:\ttotal: 17.7s\tremaining: 852ms\n",
      "477:\ttotal: 17.7s\tremaining: 815ms\n",
      "478:\ttotal: 17.7s\tremaining: 778ms\n",
      "479:\ttotal: 17.8s\tremaining: 740ms\n",
      "480:\ttotal: 17.8s\tremaining: 703ms\n",
      "481:\ttotal: 17.8s\tremaining: 666ms\n",
      "482:\ttotal: 17.9s\tremaining: 629ms\n",
      "483:\ttotal: 17.9s\tremaining: 593ms\n",
      "484:\ttotal: 18s\tremaining: 556ms\n",
      "485:\ttotal: 18s\tremaining: 518ms\n",
      "486:\ttotal: 18s\tremaining: 481ms\n",
      "487:\ttotal: 18.1s\tremaining: 444ms\n",
      "488:\ttotal: 18.1s\tremaining: 407ms\n",
      "489:\ttotal: 18.1s\tremaining: 370ms\n",
      "490:\ttotal: 18.2s\tremaining: 333ms\n",
      "491:\ttotal: 18.2s\tremaining: 296ms\n",
      "492:\ttotal: 18.2s\tremaining: 259ms\n",
      "493:\ttotal: 18.3s\tremaining: 222ms\n",
      "494:\ttotal: 18.3s\tremaining: 185ms\n",
      "495:\ttotal: 18.4s\tremaining: 148ms\n",
      "496:\ttotal: 18.4s\tremaining: 111ms\n",
      "497:\ttotal: 18.4s\tremaining: 74ms\n",
      "498:\ttotal: 18.5s\tremaining: 37ms\n",
      "499:\ttotal: 18.5s\tremaining: 0us\n",
      "Wall time: 32min 28s\n"
     ]
    },
    {
     "data": {
      "text/plain": [
       "StackingClassifier(estimators=[('rf', RandomForestClassifier(n_estimators=500)),\n",
       "                               ('svr',\n",
       "                                Pipeline(steps=[('standardscaler',\n",
       "                                                 StandardScaler()),\n",
       "                                                ('linearsvc',\n",
       "                                                 LinearSVC(random_state=42))])),\n",
       "                               ('cat1',\n",
       "                                <catboost.core.CatBoostClassifier object at 0x0000020483C5D5E0>),\n",
       "                               ('cat2',\n",
       "                                <catboost.core.CatBoostClassifier object at 0x0000020483C5D640>),\n",
       "                               ('cat3',\n",
       "                                <catboost.core.CatBoostClassifier object at 0x0000020483C5D130>),\n",
       "                               ('cat4',\n",
       "                                <catboost.core.CatBoostClassifier object at 0x0000020483C5D940>)],\n",
       "                   final_estimator=<catboost.core.CatBoostClassifier object at 0x0000020483C5D340>)"
      ]
     },
     "execution_count": 133,
     "metadata": {},
     "output_type": "execute_result"
    }
   ],
   "source": [
    "%%time\n",
    "clf.fit(X_train, y_train)#.score(X_test, y_test) "
   ]
  },
  {
   "cell_type": "code",
   "execution_count": 134,
   "id": "34a6143f-72fd-4e6a-9f12-f19b82c80b3c",
   "metadata": {},
   "outputs": [
    {
     "name": "stdout",
     "output_type": "stream",
     "text": [
      "Правильность на обучающем наборе: 0.807\n",
      "Правильность на обучающем наборе: 0.783\n"
     ]
    }
   ],
   "source": [
    "train_preds1 = clf.predict(X_train)\n",
    "test_preds1 = clf.predict(X_test)\n",
    "print('Правильность на обучающем наборе: {:.3f}'.format(roc_auc_score(train_preds1, y_train)))\n",
    "print('Правильность на обучающем наборе: {:.3f}'.format(roc_auc_score(test_preds1, y_test)))#.astype(bool)"
   ]
  },
  {
   "cell_type": "code",
   "execution_count": 128,
   "id": "e38d2b4a-8076-4092-9bc9-b7bd455f24fe",
   "metadata": {},
   "outputs": [],
   "source": [
    "test_df_polyed = pd.DataFrame(poly.fit_transform(test_df[num_cols]), columns = cl, index = test_df.index)\n",
    "test_df1 = test_df.join(test_df_polyed)#.drop(['smoking'], axis = 1)"
   ]
  },
  {
   "cell_type": "code",
   "execution_count": 129,
   "id": "b1832618-e92a-454d-a050-062db221ae2a",
   "metadata": {},
   "outputs": [],
   "source": [
    "fin_pred_2 = clf.predict_proba(test_df)[:, 1]"
   ]
  },
  {
   "cell_type": "code",
   "execution_count": 130,
   "id": "ff137590-f8b3-4f2a-b022-c617b176cf27",
   "metadata": {},
   "outputs": [],
   "source": [
    "fin_pred_2= pd.DataFrame({'id': test_df.index, 'smoking': fin_pred_2})\n",
    "fin_pred_2.to_csv('submission_stack.csv', index = False)\n",
    "# fin_pred_2 = test_df.index.join(pd.DataFrame(fin_pred_2, columns = ['Probability']))\n",
    "# тот же результат"
   ]
  },
  {
   "cell_type": "code",
   "execution_count": null,
   "id": "bcdfb236-ce9c-4684-ba27-aea1536835bb",
   "metadata": {},
   "outputs": [],
   "source": []
  },
  {
   "cell_type": "markdown",
   "id": "87d863e7-26ce-45d5-bb91-b3651a80f726",
   "metadata": {},
   "source": [
    "# NN"
   ]
  },
  {
   "cell_type": "code",
   "execution_count": 167,
   "id": "a6beb8ba-7735-4de6-b9e2-d63698d707b9",
   "metadata": {},
   "outputs": [],
   "source": [
    "from sklearn.preprocessing import StandardScaler, MinMaxScaler\n",
    "sc = StandardScaler()\n",
    "mns = MinMaxScaler()"
   ]
  },
  {
   "cell_type": "code",
   "execution_count": 203,
   "id": "2da76974-cf80-4390-a518-bb896abdbec1",
   "metadata": {},
   "outputs": [],
   "source": [
    "poly = PolynomialFeatures(degree=2, include_bias=False, )\n",
    "\n",
    "X_train, X_test, y_train, y_test = train_test_split(df.drop(['smoking'], axis = 1)\n",
    "                                                    , df.smoking, shuffle= True)\n",
    "\n",
    "num_cols = df.drop(['smoking'], axis = 1).columns[X_train.dtypes != object].tolist()"
   ]
  },
  {
   "cell_type": "code",
   "execution_count": 204,
   "id": "5229c88e-09a6-494b-9a18-45d297fcb1e6",
   "metadata": {},
   "outputs": [
    {
     "data": {
      "text/plain": [
       "(119442, 297)"
      ]
     },
     "execution_count": 204,
     "metadata": {},
     "output_type": "execute_result"
    }
   ],
   "source": [
    "cl = list()\n",
    "for i in range(275):\n",
    "    cl.append('col_%s' %i)\n",
    "\n",
    "X_train_polyed = pd.DataFrame(poly.fit_transform(X_train[num_cols]), columns = cl, index = X_train.index)\n",
    "X_test_polyed = pd.DataFrame(poly.fit_transform(X_test[num_cols]), columns = cl, index = X_test.index)\n",
    "\n",
    "X_train = X_train.join(X_train_polyed)\n",
    "X_test = X_test.join(X_test_polyed)\n",
    "\n",
    "test_df_polyed = pd.DataFrame(poly.fit_transform(test_df[num_cols]), columns = cl, index = test_df.index)\n",
    "test_df1 = test_df.join(test_df_polyed)#.drop(['smoking'], axis = 1)\n",
    "X_train.shape"
   ]
  },
  {
   "cell_type": "code",
   "execution_count": 172,
   "id": "5fe3dcf2-2d65-45f8-a28e-5813161aa0bf",
   "metadata": {},
   "outputs": [],
   "source": [
    "X_train_scaled = sc.fit_transform(X_train)\n",
    "X_test_scaled = sc.transform(X_test)\n",
    "test_df_scaled = sc.transform(test_df1) # test_df1 for poly"
   ]
  },
  {
   "cell_type": "code",
   "execution_count": 173,
   "id": "3d5e289f-5657-44ff-a6d6-7daa8418ecad",
   "metadata": {},
   "outputs": [
    {
     "data": {
      "text/plain": [
       "{}"
      ]
     },
     "execution_count": 173,
     "metadata": {},
     "output_type": "execute_result"
    }
   ],
   "source": [
    "list_of_null_cols = [feat for feat in X_train.columns if X_train[feat].isnull().any().sum() > 0]\n",
    "list_of_nulls = {feat: X_train[feat].isnull().sum()  for feat in X_train.columns if X_train[feat].isnull().any().sum() > 0}\n",
    "list_of_nulls"
   ]
  },
  {
   "cell_type": "code",
   "execution_count": 196,
   "id": "6faf74df-ad73-4aa0-ab81-fc64d2ad9227",
   "metadata": {},
   "outputs": [],
   "source": [
    "seq_model = Sequential()\n",
    "seq_model.add(Dense(units = 30, activation= 'tanh'))\n",
    "seq_model.add(Dropout(0.2))\n",
    "seq_model.add(Dense(units = 30, activation= 'LeakyReLU'))\n",
    "seq_model.add(Dropout(0.2))\n",
    "seq_model.add(Dense(units = 30, activation= 'LeakyReLU'))\n",
    "seq_model.add(Dropout(0.2))\n",
    "seq_model.add(Dense(units = 1, activation= 'sigmoid'))\n",
    "es = EarlyStopping(monitor='val_auc', mode='max', min_delta = 0.001,verbose=1, patience=25)\n",
    "mc = ModelCheckpoint('seq_model.h5', monitor='val_auc', mode='max', verbose=1, save_best_only=True)\n",
    "\n",
    "seq_model.compile(optimizer = 'adam', loss = 'binary_crossentropy', metrics = ['AUC'])"
   ]
  },
  {
   "cell_type": "code",
   "execution_count": 197,
   "id": "485f7067-9253-430c-8152-c0b41482df76",
   "metadata": {},
   "outputs": [
    {
     "data": {
      "image/png": "[encoded data removed]",
      "text/plain": [
       "<Figure size 1200x800 with 2 Axes>"
      ]
     },
     "metadata": {},
     "output_type": "display_data"
    },
    {
     "name": "stdout",
     "output_type": "stream",
     "text": [
      "auc\n",
      "\ttraining         \t (min:    0.835, max:    0.853, cur:    0.853)\n",
      "\tvalidation       \t (min:    0.850, max:    0.858, cur:    0.857)\n",
      "Loss\n",
      "\ttraining         \t (min:    0.461, max:    0.484, cur:    0.461)\n",
      "\tvalidation       \t (min:    0.454, max:    0.465, cur:    0.456)\n",
      "\n",
      "Epoch 39: val_auc did not improve from 0.85766\n",
      "3733/3733 [==============================] - 31s 8ms/step - loss: 0.4607 - auc: 0.8530 - val_loss: 0.4558 - val_auc: 0.8566\n",
      "Epoch 39: early stopping\n"
     ]
    }
   ],
   "source": [
    "model_hist = seq_model.fit(X_train_scaled, y_train, epochs=100\n",
    "                     , batch_size = 32\n",
    "                    ,validation_data=(X_test_scaled, y_test)\n",
    "                     # ,inp\n",
    "                     , callbacks=[PlotLossesKeras(), es, mc]\n",
    "                    )"
   ]
  },
  {
   "cell_type": "code",
   "execution_count": 195,
   "id": "d01a7ba2-8326-4ac0-b0c9-dbbb6ef4425a",
   "metadata": {},
   "outputs": [
    {
     "name": "stdout",
     "output_type": "stream",
     "text": [
      "3733/3733 [==============================] - 12s 2ms/step\n",
      "1245/1245 [==============================] - 6s 2ms/step\n",
      "Правильность на train наборе: 0.428\n",
      "Правильность на test наборе: 0.425\n"
     ]
    }
   ],
   "source": [
    "seq_model = load_model('seq_model.h5')\n",
    "train_proba = seq_model.predict(X_train)\n",
    "test_proba = seq_model.predict(X_test)\n",
    "\n",
    "train_preds_seq = np.where(train_proba[:, 0] >= 0.5, 1, 0)\n",
    "test_preds_seq = np.where(test_proba[:, 0] >= 0.5, 1, 0)\n",
    "print('Правильность на train наборе: {:.3f}'.format(roc_auc_score(train_preds_seq, y_train)))\n",
    "print('Правильность на test наборе: {:.3f}'.format(roc_auc_score(test_preds_seq, y_test)))"
   ]
  },
  {
   "cell_type": "code",
   "execution_count": 185,
   "id": "d33585c1-4787-4c90-ab1d-fea6775245bb",
   "metadata": {},
   "outputs": [
    {
     "name": "stdout",
     "output_type": "stream",
     "text": [
      "Правильность на train наборе: 0.502\n",
      "Правильность на test наборе: 0.508\n"
     ]
    }
   ],
   "source": [
    "print('Правильность на train наборе: {:.3f}'.format(roc_auc_score(train_preds_seq, y_train)))\n",
    "print('Правильность на test наборе: {:.3f}'.format(roc_auc_score(test_preds_seq, y_test)))"
   ]
  },
  {
   "cell_type": "code",
   "execution_count": 205,
   "id": "e873f79a-a488-4ac7-a50e-764dfc5104d9",
   "metadata": {},
   "outputs": [
    {
     "name": "stdout",
     "output_type": "stream",
     "text": [
      "3318/3318 [==============================] - 16s 2ms/step\n"
     ]
    },
    {
     "data": {
      "text/plain": [
       "array([0.66533995, 0.48720452, 0.74389285, ..., 0.7910712 , 0.8206492 ,\n",
       "       0.7593574 ], dtype=float32)"
      ]
     },
     "execution_count": 205,
     "metadata": {},
     "output_type": "execute_result"
    }
   ],
   "source": [
    "seq_proba = seq_model.predict(test_df1)[:, 0]\n",
    "seq_proba"
   ]
  },
  {
   "cell_type": "code",
   "execution_count": 206,
   "id": "5aa33f5b-2b2f-4482-9fbd-9e70810900e0",
   "metadata": {},
   "outputs": [],
   "source": [
    "seq_pred_2= pd.DataFrame({'id': test_df.index, 'smoking': seq_proba})\n",
    "seq_pred_2.to_csv('submission_seq.csv', index = False)"
   ]
  },
  {
   "cell_type": "code",
   "execution_count": null,
   "id": "8853a8fe-f977-4379-942e-623ec9e872f2",
   "metadata": {},
   "outputs": [],
   "source": []
  }
 ],
 "metadata": {
  "kernelspec": {
   "display_name": "Python 3 (ipykernel)",
   "language": "python",
   "name": "python3"
  },
  "language_info": {
   "codemirror_mode": {
    "name": "ipython",
    "version": 3
   },
   "file_extension": ".py",
   "mimetype": "text/x-python",
   "name": "python",
   "nbconvert_exporter": "python",
   "pygments_lexer": "ipython3",
   "version": "3.9.13"
  }
 },
 "nbformat": 4,
 "nbformat_minor": 5
}

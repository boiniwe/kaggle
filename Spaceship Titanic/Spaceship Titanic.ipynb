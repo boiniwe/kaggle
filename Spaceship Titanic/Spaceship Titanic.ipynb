{
 "cells": [
  {
   "cell_type": "code",
   "execution_count": 1,
   "metadata": {},
   "outputs": [],
   "source": [
    "import numpy as np\n",
    "import pandas as pd\n",
    "import seaborn as sns\n",
    "import matplotlib.pyplot as plt"
   ]
  },
  {
   "cell_type": "markdown",
   "metadata": {},
   "source": [
    "PassengerId - A unique Id for each passenger. Each Id takes the form gggg_pp \n",
    "    where gggg indicates a group the passenger is travelling with and pp is their number within the group.\n",
    "People in a group are often family members, but not always.\n",
    "HomePlanet - The planet the passenger departed from, typically their planet of permanent residence.\n",
    "CryoSleep - Indicates whether the passenger elected to be put into suspended animation \n",
    "    for the duration of the voyage. Passengers in cryosleep are confined to their cabins.\n",
    "Cabin - The cabin number where the passenger is staying. Takes the form deck/num/side, \n",
    "    where side can be either P for Port or S for Starboard.\n",
    "Destination - The planet the passenger will be debarking to.\n",
    "Age - The age of the passenger.\n",
    "VIP - Whether the passenger has paid for special VIP service during the voyage.\n",
    "RoomService, FoodCourt, ShoppingMall, Spa, VRDeck - Amount the passenger has billed at \n",
    "    each of the Spaceship Titanic's many luxury amenities.\n",
    "Name - The first and last names of the passenger.\n",
    "Transported - Whether the passenger was transported to another dimension. \n",
    "    This is the target, the column you are trying to predict.\n",
    "test.csv - Personal records for the remaining one-third (~4300) of the passengers, \n",
    "    to be used as test data. Your task is to predict the value of Transported for the passengers in this set."
   ]
  },
  {
   "cell_type": "code",
   "execution_count": 2,
   "metadata": {},
   "outputs": [
    {
     "name": "stdout",
     "output_type": "stream",
     "text": [
      "(8693, 14) (4277, 13) (12970, 14)\n"
     ]
    },
    {
     "name": "stderr",
     "output_type": "stream",
     "text": [
      "E:\\Programms\\anaconda3\\lib\\site-packages\\ipykernel_launcher.py:5: FutureWarning: Sorting because non-concatenation axis is not aligned. A future version\n",
      "of pandas will change to not sort by default.\n",
      "\n",
      "To accept the future behavior, pass 'sort=False'.\n",
      "\n",
      "To retain the current behavior and silence the warning, pass 'sort=True'.\n",
      "\n",
      "  \"\"\"\n"
     ]
    }
   ],
   "source": [
    "train_dataset = pd.read_csv('train.csv')\n",
    "# making test dataset\n",
    "test_dataset = pd.read_csv('test.csv') \n",
    "\n",
    "all_data = pd.concat([train_dataset, test_dataset], ignore_index=True)\n",
    "print(train_dataset.shape, test_dataset.shape, all_data.shape)"
   ]
  },
  {
   "cell_type": "code",
   "execution_count": 10,
   "metadata": {},
   "outputs": [
    {
     "name": "stdout",
     "output_type": "stream",
     "text": [
      "<class 'pandas.core.frame.DataFrame'>\n",
      "RangeIndex: 8693 entries, 0 to 8692\n",
      "Data columns (total 14 columns):\n",
      "PassengerId     8693 non-null object\n",
      "HomePlanet      8492 non-null object\n",
      "CryoSleep       8476 non-null object\n",
      "Cabin           8494 non-null object\n",
      "Destination     8511 non-null object\n",
      "Age             8514 non-null float64\n",
      "VIP             8490 non-null object\n",
      "RoomService     8512 non-null float64\n",
      "FoodCourt       8510 non-null float64\n",
      "ShoppingMall    8485 non-null float64\n",
      "Spa             8510 non-null float64\n",
      "VRDeck          8505 non-null float64\n",
      "Name            8493 non-null object\n",
      "Transported     8693 non-null bool\n",
      "dtypes: bool(1), float64(6), object(7)\n",
      "memory usage: 891.5+ KB\n"
     ]
    }
   ],
   "source": [
    "train_dataset.info()"
   ]
  },
  {
   "cell_type": "code",
   "execution_count": 20,
   "metadata": {},
   "outputs": [
    {
     "data": {
      "text/html": [
       "<div>\n",
       "<style scoped>\n",
       "    .dataframe tbody tr th:only-of-type {\n",
       "        vertical-align: middle;\n",
       "    }\n",
       "\n",
       "    .dataframe tbody tr th {\n",
       "        vertical-align: top;\n",
       "    }\n",
       "\n",
       "    .dataframe thead th {\n",
       "        text-align: right;\n",
       "    }\n",
       "</style>\n",
       "<table border=\"1\" class=\"dataframe\">\n",
       "  <thead>\n",
       "    <tr style=\"text-align: right;\">\n",
       "      <th></th>\n",
       "      <th>VIP</th>\n",
       "      <th>total_expenses</th>\n",
       "      <th>RoomService</th>\n",
       "      <th>FoodCourt</th>\n",
       "      <th>ShoppingMall</th>\n",
       "      <th>Spa</th>\n",
       "      <th>VRDeck</th>\n",
       "    </tr>\n",
       "  </thead>\n",
       "  <tbody>\n",
       "  </tbody>\n",
       "</table>\n",
       "</div>"
      ],
      "text/plain": [
       "Empty DataFrame\n",
       "Columns: [VIP, total_expenses, RoomService, FoodCourt, ShoppingMall, Spa, VRDeck]\n",
       "Index: []"
      ]
     },
     "execution_count": 20,
     "metadata": {},
     "output_type": "execute_result"
    }
   ],
   "source": [
    "train_dataset[(train_dataset.total_expenses.isna())&(\n",
    "    train_dataset.VIP > 0)][['VIP', 'total_expenses','RoomService', 'FoodCourt', 'ShoppingMall', 'Spa', 'VRDeck']]"
   ]
  },
  {
   "cell_type": "code",
   "execution_count": 40,
   "metadata": {},
   "outputs": [
    {
     "data": {
      "text/plain": [
       "False    12401\n",
       "True       273\n",
       "Name: VIP, dtype: int64"
      ]
     },
     "execution_count": 40,
     "metadata": {},
     "output_type": "execute_result"
    }
   ],
   "source": [
    "# train_dataset.VIP.value_counts()\n",
    "all_data.VIP.value_counts()"
   ]
  },
  {
   "cell_type": "code",
   "execution_count": 45,
   "metadata": {},
   "outputs": [],
   "source": []
  },
  {
   "cell_type": "code",
   "execution_count": 39,
   "metadata": {},
   "outputs": [
    {
     "data": {
      "text/plain": [
       "296"
      ]
     },
     "execution_count": 39,
     "metadata": {},
     "output_type": "execute_result"
    }
   ],
   "source": [
    "len(all_data[all_data.VIP.isna()])"
   ]
  },
  {
   "cell_type": "code",
   "execution_count": 3,
   "metadata": {},
   "outputs": [
    {
     "data": {
      "text/plain": [
       "Index(['PassengerId', 'HomePlanet', 'CryoSleep', 'Cabin', 'Destination', 'Age',\n",
       "       'VIP', 'RoomService', 'FoodCourt', 'ShoppingMall', 'Spa', 'VRDeck',\n",
       "       'Name', 'Transported'],\n",
       "      dtype='object')"
      ]
     },
     "execution_count": 3,
     "metadata": {},
     "output_type": "execute_result"
    }
   ],
   "source": [
    "train_dataset.columns"
   ]
  },
  {
   "cell_type": "code",
   "execution_count": null,
   "metadata": {},
   "outputs": [],
   "source": []
  },
  {
   "cell_type": "code",
   "execution_count": null,
   "metadata": {},
   "outputs": [],
   "source": [
    "# gggg_pp parse it     \n",
    "    # where gggg indicates a group the passenger is travelling with and pp is their number within the group.\n",
    "    # People in a group are often family members, but not always.\n",
    "\n",
    "1. percent ofsurvavils per groupe\n",
    "2. number of persons in groupe\n",
    "3. check of groups simularities in train/test\n",
    "4. Family groupe flag  #split Name for surname\n",
    "5. \n",
    " \n"
   ]
  },
  {
   "cell_type": "code",
   "execution_count": null,
   "metadata": {},
   "outputs": [],
   "source": [
    "Cabin - The cabin number where the passenger is staying. Takes the form deck/num/side, \n",
    "    where side can be either P for Port or S for Starboard."
   ]
  },
  {
   "cell_type": "code",
   "execution_count": 76,
   "metadata": {},
   "outputs": [
    {
     "data": {
      "text/plain": [
       "array(['B/0/P', 'F/0/S', 'A/0/S', ..., 'G/1499/S', 'G/1500/S', 'E/608/S'],\n",
       "      dtype=object)"
      ]
     },
     "execution_count": 76,
     "metadata": {},
     "output_type": "execute_result"
    }
   ],
   "source": [
    "train_dataset.Cabin.unique()  "
   ]
  },
  {
   "cell_type": "code",
   "execution_count": 252,
   "metadata": {},
   "outputs": [],
   "source": [
    "# from xgboost import XGBClassifier\n",
    "from sklearn.preprocessing import LabelEncoder\n",
    "from sklearn.model_selection import train_test_split"
   ]
  },
  {
   "cell_type": "code",
   "execution_count": 216,
   "metadata": {},
   "outputs": [
    {
     "name": "stdout",
     "output_type": "stream",
     "text": [
      "<class 'pandas.core.frame.DataFrame'>\n",
      "RangeIndex: 12970 entries, 0 to 12969\n",
      "Data columns (total 14 columns):\n",
      "Age             12700 non-null float64\n",
      "Cabin           12671 non-null object\n",
      "CryoSleep       12660 non-null object\n",
      "Destination     12696 non-null object\n",
      "FoodCourt       12681 non-null float64\n",
      "HomePlanet      12682 non-null object\n",
      "Name            12676 non-null object\n",
      "PassengerId     12970 non-null object\n",
      "RoomService     12707 non-null float64\n",
      "ShoppingMall    12664 non-null float64\n",
      "Spa             12686 non-null float64\n",
      "Transported     8693 non-null object\n",
      "VIP             12674 non-null object\n",
      "VRDeck          12702 non-null float64\n",
      "dtypes: float64(6), object(8)\n",
      "memory usage: 1.4+ MB\n"
     ]
    }
   ],
   "source": [
    "all_data.info()"
   ]
  },
  {
   "cell_type": "code",
   "execution_count": 214,
   "metadata": {},
   "outputs": [
    {
     "data": {
      "text/plain": [
       "Index(['PassengerId', 'HomePlanet', 'CryoSleep', 'Cabin', 'Destination', 'Age',\n",
       "       'VIP', 'RoomService', 'FoodCourt', 'ShoppingMall', 'Spa', 'VRDeck',\n",
       "       'Name', 'Transported'],\n",
       "      dtype='object')"
      ]
     },
     "execution_count": 214,
     "metadata": {},
     "output_type": "execute_result"
    }
   ],
   "source": [
    "train_dataset.columns"
   ]
  },
  {
   "cell_type": "code",
   "execution_count": 4,
   "metadata": {},
   "outputs": [],
   "source": [
    "# Expenses\n",
    "all_data['total_expenses'] = all_data[['RoomService', 'FoodCourt', \n",
    "                                                 'ShoppingMall', 'Spa', 'VRDeck']].sum(axis=1)\n",
    "\n",
    "all_data['RoomServicePercent'] = all_data['RoomService'] / all_data['total_expenses']\n",
    "all_data['FoodCourtPercent'] = all_data['FoodCourt'] / all_data['total_expenses']\n",
    "all_data['ShoppingMallPercent'] = all_data['ShoppingMall'] / all_data['total_expenses']\n",
    "all_data['SpaPercent'] = all_data['Spa'] / all_data['total_expenses']\n",
    "all_data['VRDeckPercent'] = all_data['VRDeck'] / all_data['total_expenses']"
   ]
  },
  {
   "cell_type": "code",
   "execution_count": null,
   "metadata": {},
   "outputs": [],
   "source": []
  },
  {
   "cell_type": "code",
   "execution_count": null,
   "metadata": {},
   "outputs": [],
   "source": []
  },
  {
   "cell_type": "code",
   "execution_count": null,
   "metadata": {},
   "outputs": [],
   "source": []
  },
  {
   "cell_type": "code",
   "execution_count": null,
   "metadata": {},
   "outputs": [],
   "source": [
    "'HomePlanet', 'CryoSleep', 'Destination', 'VIP',\n",
    "# nums to predict \n",
    "'Age', 'RoomService', 'FoodCourt', 'ShoppingMall', 'Spa', 'VRDeck'"
   ]
  },
  {
   "cell_type": "code",
   "execution_count": null,
   "metadata": {},
   "outputs": [],
   "source": []
  },
  {
   "cell_type": "code",
   "execution_count": 226,
   "metadata": {},
   "outputs": [
    {
     "data": {
      "text/plain": [
       "Earth     6865\n",
       "Europa    3133\n",
       "Mars      2684\n",
       "Name: HomePlanet, dtype: int64"
      ]
     },
     "execution_count": 226,
     "metadata": {},
     "output_type": "execute_result"
    }
   ],
   "source": [
    "all_data['HomePlanet'].value_counts()"
   ]
  },
  {
   "cell_type": "code",
   "execution_count": 246,
   "metadata": {},
   "outputs": [],
   "source": [
    "# all_data[[local_target]]"
   ]
  },
  {
   "cell_type": "code",
   "execution_count": null,
   "metadata": {},
   "outputs": [],
   "source": [
    "train_2 = 'Transported'"
   ]
  },
  {
   "cell_type": "code",
   "execution_count": 248,
   "metadata": {},
   "outputs": [
    {
     "name": "stderr",
     "output_type": "stream",
     "text": [
      "E:\\Programms\\anaconda3\\lib\\site-packages\\sklearn\\preprocessing\\label.py:235: DataConversionWarning: A column-vector y was passed when a 1d array was expected. Please change the shape of y to (n_samples, ), for example using ravel().\n",
      "  y = column_or_1d(y, warn=True)\n",
      "E:\\Programms\\anaconda3\\lib\\site-packages\\ipykernel_launcher.py:8: SettingWithCopyWarning: \n",
      "A value is trying to be set on a copy of a slice from a DataFrame.\n",
      "Try using .loc[row_indexer,col_indexer] = value instead\n",
      "\n",
      "See the caveats in the documentation: http://pandas.pydata.org/pandas-docs/stable/indexing.html#indexing-view-versus-copy\n",
      "  \n",
      "E:\\Programms\\anaconda3\\lib\\site-packages\\pandas\\core\\indexing.py:543: SettingWithCopyWarning: \n",
      "A value is trying to be set on a copy of a slice from a DataFrame.\n",
      "Try using .loc[row_indexer,col_indexer] = value instead\n",
      "\n",
      "See the caveats in the documentation: http://pandas.pydata.org/pandas-docs/stable/indexing.html#indexing-view-versus-copy\n",
      "  self.obj[item] = s\n"
     ]
    }
   ],
   "source": [
    "ultimate_target = 'Transported'\n",
    "local_target = 'HomePlanet'\n",
    "\n",
    "local_df = all_data[all_data[local_target].notna()]\n",
    "to_predict_df = all_data[all_data[local_target].isna()]\n",
    "\n",
    "le = LabelEncoder()\n",
    "local_df[[local_target]] = le.fit_transform(local_df[[local_target]])\n",
    "\n",
    "trgt = local_df['HomePlanet']\n",
    "trn = local_df.drop(columns = [ultimate_target, local_target])      \n",
    "X_tr, X_te, y_tr, y_te = train_test_split(trn, trgt)"
   ]
  },
  {
   "cell_type": "code",
   "execution_count": 254,
   "metadata": {},
   "outputs": [],
   "source": [
    "local_cat_feat = ['Cabin', 'CryoSleep', 'Destination', 'VIP']"
   ]
  },
  {
   "cell_type": "code",
   "execution_count": 255,
   "metadata": {},
   "outputs": [
    {
     "ename": "CatBoostError",
     "evalue": "Invalid type for cat_feature[non-default value idx=6,feature_idx=1]=nan : cat_features must be integer or string, real number values and NaN values should be converted to string.",
     "output_type": "error",
     "traceback": [
      "\u001b[1;31m---------------------------------------------------------------------------\u001b[0m",
      "\u001b[1;31mCatBoostError\u001b[0m                             Traceback (most recent call last)",
      "\u001b[1;32m_catboost.pyx\u001b[0m in \u001b[0;36m_catboost.get_cat_factor_bytes_representation\u001b[1;34m()\u001b[0m\n",
      "\u001b[1;32m_catboost.pyx\u001b[0m in \u001b[0;36m_catboost.get_id_object_bytes_string_representation\u001b[1;34m()\u001b[0m\n",
      "\u001b[1;31mCatBoostError\u001b[0m: bad object for id: nan",
      "\nDuring handling of the above exception, another exception occurred:\n",
      "\u001b[1;31mCatBoostError\u001b[0m                             Traceback (most recent call last)",
      "\u001b[1;32m<ipython-input-255-f4762134c6e4>\u001b[0m in \u001b[0;36m<module>\u001b[1;34m\u001b[0m\n\u001b[0;32m      1\u001b[0m train_dataset = Pool(data = X_tr,\n\u001b[0;32m      2\u001b[0m                      \u001b[0mlabel\u001b[0m \u001b[1;33m=\u001b[0m \u001b[0my_tr\u001b[0m\u001b[1;33m,\u001b[0m\u001b[1;33m\u001b[0m\u001b[1;33m\u001b[0m\u001b[0m\n\u001b[1;32m----> 3\u001b[1;33m                      cat_features=local_cat_feat)\n\u001b[0m\u001b[0;32m      4\u001b[0m \u001b[1;33m\u001b[0m\u001b[0m\n\u001b[0;32m      5\u001b[0m eval_dataset = Pool(data = X_te,\n",
      "\u001b[1;32mE:\\Programms\\anaconda3\\lib\\site-packages\\catboost\\core.py\u001b[0m in \u001b[0;36m__init__\u001b[1;34m(self, data, label, cat_features, text_features, embedding_features, embedding_features_data, column_description, pairs, delimiter, has_header, ignore_csv_quoting, weight, group_id, group_weight, subgroup_id, pairs_weight, baseline, timestamp, feature_names, feature_tags, thread_count, log_cout, log_cerr)\u001b[0m\n\u001b[0;32m    789\u001b[0m \u001b[1;33m\u001b[0m\u001b[0m\n\u001b[0;32m    790\u001b[0m                 self._init(data, label, cat_features, text_features, embedding_features, embedding_features_data, pairs, weight,\n\u001b[1;32m--> 791\u001b[1;33m                            group_id, group_weight, subgroup_id, pairs_weight, baseline, timestamp, feature_names, feature_tags, thread_count)\n\u001b[0m\u001b[0;32m    792\u001b[0m         \u001b[0msuper\u001b[0m\u001b[1;33m(\u001b[0m\u001b[0mPool\u001b[0m\u001b[1;33m,\u001b[0m \u001b[0mself\u001b[0m\u001b[1;33m)\u001b[0m\u001b[1;33m.\u001b[0m\u001b[0m__init__\u001b[0m\u001b[1;33m(\u001b[0m\u001b[1;33m)\u001b[0m\u001b[1;33m\u001b[0m\u001b[1;33m\u001b[0m\u001b[0m\n\u001b[0;32m    793\u001b[0m \u001b[1;33m\u001b[0m\u001b[0m\n",
      "\u001b[1;32mE:\\Programms\\anaconda3\\lib\\site-packages\\catboost\\core.py\u001b[0m in \u001b[0;36m_init\u001b[1;34m(self, data, label, cat_features, text_features, embedding_features, embedding_features_data, pairs, weight, group_id, group_weight, subgroup_id, pairs_weight, baseline, timestamp, feature_names, feature_tags, thread_count)\u001b[0m\n\u001b[0;32m   1410\u001b[0m             \u001b[0mfeature_tags\u001b[0m \u001b[1;33m=\u001b[0m \u001b[0mself\u001b[0m\u001b[1;33m.\u001b[0m\u001b[0m_check_transform_tags\u001b[0m\u001b[1;33m(\u001b[0m\u001b[0mfeature_tags\u001b[0m\u001b[1;33m,\u001b[0m \u001b[0mfeature_names\u001b[0m\u001b[1;33m)\u001b[0m\u001b[1;33m\u001b[0m\u001b[1;33m\u001b[0m\u001b[0m\n\u001b[0;32m   1411\u001b[0m         self._init_pool(data, label, cat_features, text_features, embedding_features, embedding_features_data, pairs, weight,\n\u001b[1;32m-> 1412\u001b[1;33m                         group_id, group_weight, subgroup_id, pairs_weight, baseline, timestamp, feature_names, feature_tags, thread_count)\n\u001b[0m\u001b[0;32m   1413\u001b[0m \u001b[1;33m\u001b[0m\u001b[0m\n\u001b[0;32m   1414\u001b[0m \u001b[1;33m\u001b[0m\u001b[0m\n",
      "\u001b[1;32m_catboost.pyx\u001b[0m in \u001b[0;36m_catboost._PoolBase._init_pool\u001b[1;34m()\u001b[0m\n",
      "\u001b[1;32m_catboost.pyx\u001b[0m in \u001b[0;36m_catboost._PoolBase._init_pool\u001b[1;34m()\u001b[0m\n",
      "\u001b[1;32m_catboost.pyx\u001b[0m in \u001b[0;36m_catboost._PoolBase._init_features_order_layout_pool\u001b[1;34m()\u001b[0m\n",
      "\u001b[1;32m_catboost.pyx\u001b[0m in \u001b[0;36m_catboost._set_features_order_data_pd_data_frame\u001b[1;34m()\u001b[0m\n",
      "\u001b[1;32m_catboost.pyx\u001b[0m in \u001b[0;36m_catboost.get_cat_factor_bytes_representation\u001b[1;34m()\u001b[0m\n",
      "\u001b[1;31mCatBoostError\u001b[0m: Invalid type for cat_feature[non-default value idx=6,feature_idx=1]=nan : cat_features must be integer or string, real number values and NaN values should be converted to string."
     ]
    }
   ],
   "source": [
    "train_dataset = Pool(data = X_tr,\n",
    "                     label = y_tr,\n",
    "                     cat_features=local_cat_feat)\n",
    "\n",
    "eval_dataset = Pool(data = X_te,\n",
    "                     label = y_te,\n",
    "                    cat_features=local_cat_feat)"
   ]
  },
  {
   "cell_type": "code",
   "execution_count": 251,
   "metadata": {},
   "outputs": [
    {
     "ename": "ValueError",
     "evalue": "DataFrame.dtypes for data must be int, float, bool or category.  When\ncategorical type is supplied, DMatrix parameter `enable_categorical` must\nbe set to `True`. Invalid columns:Cabin, CryoSleep, Destination, Name, PassengerId, VIP",
     "output_type": "error",
     "traceback": [
      "\u001b[1;31m---------------------------------------------------------------------------\u001b[0m",
      "\u001b[1;31mValueError\u001b[0m                                Traceback (most recent call last)",
      "\u001b[1;32m<ipython-input-251-672d439e792d>\u001b[0m in \u001b[0;36m<module>\u001b[1;34m\u001b[0m\n\u001b[0;32m      1\u001b[0m \u001b[0mbst\u001b[0m \u001b[1;33m=\u001b[0m \u001b[0mXGBClassifier\u001b[0m\u001b[1;33m(\u001b[0m\u001b[0mn_estimators\u001b[0m\u001b[1;33m=\u001b[0m\u001b[1;36m100\u001b[0m\u001b[1;33m)\u001b[0m\u001b[1;33m\u001b[0m\u001b[1;33m\u001b[0m\u001b[0m\n\u001b[0;32m      2\u001b[0m \u001b[1;31m# fit model\u001b[0m\u001b[1;33m\u001b[0m\u001b[1;33m\u001b[0m\u001b[1;33m\u001b[0m\u001b[0m\n\u001b[1;32m----> 3\u001b[1;33m \u001b[0mbst\u001b[0m\u001b[1;33m.\u001b[0m\u001b[0mfit\u001b[0m\u001b[1;33m(\u001b[0m\u001b[0mX_tr\u001b[0m\u001b[1;33m,\u001b[0m \u001b[0my_tr\u001b[0m\u001b[1;33m)\u001b[0m\u001b[1;33m\u001b[0m\u001b[1;33m\u001b[0m\u001b[0m\n\u001b[0m\u001b[0;32m      4\u001b[0m \u001b[1;31m# make predictions\u001b[0m\u001b[1;33m\u001b[0m\u001b[1;33m\u001b[0m\u001b[1;33m\u001b[0m\u001b[0m\n\u001b[0;32m      5\u001b[0m \u001b[0mpreds\u001b[0m \u001b[1;33m=\u001b[0m \u001b[0mbst\u001b[0m\u001b[1;33m.\u001b[0m\u001b[0mpredict\u001b[0m\u001b[1;33m(\u001b[0m\u001b[0mX_te\u001b[0m\u001b[1;33m)\u001b[0m\u001b[1;33m\u001b[0m\u001b[1;33m\u001b[0m\u001b[0m\n",
      "\u001b[1;32mE:\\Programms\\anaconda3\\lib\\site-packages\\xgboost\\core.py\u001b[0m in \u001b[0;36minner_f\u001b[1;34m(*args, **kwargs)\u001b[0m\n\u001b[0;32m    573\u001b[0m         \u001b[1;32mfor\u001b[0m \u001b[0mk\u001b[0m\u001b[1;33m,\u001b[0m \u001b[0marg\u001b[0m \u001b[1;32min\u001b[0m \u001b[0mzip\u001b[0m\u001b[1;33m(\u001b[0m\u001b[0msig\u001b[0m\u001b[1;33m.\u001b[0m\u001b[0mparameters\u001b[0m\u001b[1;33m,\u001b[0m \u001b[0margs\u001b[0m\u001b[1;33m)\u001b[0m\u001b[1;33m:\u001b[0m\u001b[1;33m\u001b[0m\u001b[1;33m\u001b[0m\u001b[0m\n\u001b[0;32m    574\u001b[0m             \u001b[0mkwargs\u001b[0m\u001b[1;33m[\u001b[0m\u001b[0mk\u001b[0m\u001b[1;33m]\u001b[0m \u001b[1;33m=\u001b[0m \u001b[0marg\u001b[0m\u001b[1;33m\u001b[0m\u001b[1;33m\u001b[0m\u001b[0m\n\u001b[1;32m--> 575\u001b[1;33m         \u001b[1;32mreturn\u001b[0m \u001b[0mf\u001b[0m\u001b[1;33m(\u001b[0m\u001b[1;33m**\u001b[0m\u001b[0mkwargs\u001b[0m\u001b[1;33m)\u001b[0m\u001b[1;33m\u001b[0m\u001b[1;33m\u001b[0m\u001b[0m\n\u001b[0m\u001b[0;32m    576\u001b[0m \u001b[1;33m\u001b[0m\u001b[0m\n\u001b[0;32m    577\u001b[0m     \u001b[1;32mreturn\u001b[0m \u001b[0minner_f\u001b[0m\u001b[1;33m\u001b[0m\u001b[1;33m\u001b[0m\u001b[0m\n",
      "\u001b[1;32mE:\\Programms\\anaconda3\\lib\\site-packages\\xgboost\\sklearn.py\u001b[0m in \u001b[0;36mfit\u001b[1;34m(self, X, y, sample_weight, base_margin, eval_set, eval_metric, early_stopping_rounds, verbose, xgb_model, sample_weight_eval_set, base_margin_eval_set, feature_weights, callbacks)\u001b[0m\n\u001b[0;32m   1395\u001b[0m             \u001b[0meval_qid\u001b[0m\u001b[1;33m=\u001b[0m\u001b[1;32mNone\u001b[0m\u001b[1;33m,\u001b[0m\u001b[1;33m\u001b[0m\u001b[1;33m\u001b[0m\u001b[0m\n\u001b[0;32m   1396\u001b[0m             \u001b[0mcreate_dmatrix\u001b[0m\u001b[1;33m=\u001b[0m\u001b[1;32mlambda\u001b[0m \u001b[1;33m**\u001b[0m\u001b[0mkwargs\u001b[0m\u001b[1;33m:\u001b[0m \u001b[0mDMatrix\u001b[0m\u001b[1;33m(\u001b[0m\u001b[0mnthread\u001b[0m\u001b[1;33m=\u001b[0m\u001b[0mself\u001b[0m\u001b[1;33m.\u001b[0m\u001b[0mn_jobs\u001b[0m\u001b[1;33m,\u001b[0m \u001b[1;33m**\u001b[0m\u001b[0mkwargs\u001b[0m\u001b[1;33m)\u001b[0m\u001b[1;33m,\u001b[0m\u001b[1;33m\u001b[0m\u001b[1;33m\u001b[0m\u001b[0m\n\u001b[1;32m-> 1397\u001b[1;33m             \u001b[0menable_categorical\u001b[0m\u001b[1;33m=\u001b[0m\u001b[0mself\u001b[0m\u001b[1;33m.\u001b[0m\u001b[0menable_categorical\u001b[0m\u001b[1;33m,\u001b[0m\u001b[1;33m\u001b[0m\u001b[1;33m\u001b[0m\u001b[0m\n\u001b[0m\u001b[0;32m   1398\u001b[0m         )\n\u001b[0;32m   1399\u001b[0m \u001b[1;33m\u001b[0m\u001b[0m\n",
      "\u001b[1;32mE:\\Programms\\anaconda3\\lib\\site-packages\\xgboost\\sklearn.py\u001b[0m in \u001b[0;36m_wrap_evaluation_matrices\u001b[1;34m(missing, X, y, group, qid, sample_weight, base_margin, feature_weights, eval_set, sample_weight_eval_set, base_margin_eval_set, eval_group, eval_qid, create_dmatrix, enable_categorical)\u001b[0m\n\u001b[0;32m    408\u001b[0m         \u001b[0mfeature_weights\u001b[0m\u001b[1;33m=\u001b[0m\u001b[0mfeature_weights\u001b[0m\u001b[1;33m,\u001b[0m\u001b[1;33m\u001b[0m\u001b[1;33m\u001b[0m\u001b[0m\n\u001b[0;32m    409\u001b[0m         \u001b[0mmissing\u001b[0m\u001b[1;33m=\u001b[0m\u001b[0mmissing\u001b[0m\u001b[1;33m,\u001b[0m\u001b[1;33m\u001b[0m\u001b[1;33m\u001b[0m\u001b[0m\n\u001b[1;32m--> 410\u001b[1;33m         \u001b[0menable_categorical\u001b[0m\u001b[1;33m=\u001b[0m\u001b[0menable_categorical\u001b[0m\u001b[1;33m,\u001b[0m\u001b[1;33m\u001b[0m\u001b[1;33m\u001b[0m\u001b[0m\n\u001b[0m\u001b[0;32m    411\u001b[0m     )\n\u001b[0;32m    412\u001b[0m \u001b[1;33m\u001b[0m\u001b[0m\n",
      "\u001b[1;32mE:\\Programms\\anaconda3\\lib\\site-packages\\xgboost\\sklearn.py\u001b[0m in \u001b[0;36m<lambda>\u001b[1;34m(**kwargs)\u001b[0m\n\u001b[0;32m   1394\u001b[0m             \u001b[0meval_group\u001b[0m\u001b[1;33m=\u001b[0m\u001b[1;32mNone\u001b[0m\u001b[1;33m,\u001b[0m\u001b[1;33m\u001b[0m\u001b[1;33m\u001b[0m\u001b[0m\n\u001b[0;32m   1395\u001b[0m             \u001b[0meval_qid\u001b[0m\u001b[1;33m=\u001b[0m\u001b[1;32mNone\u001b[0m\u001b[1;33m,\u001b[0m\u001b[1;33m\u001b[0m\u001b[1;33m\u001b[0m\u001b[0m\n\u001b[1;32m-> 1396\u001b[1;33m             \u001b[0mcreate_dmatrix\u001b[0m\u001b[1;33m=\u001b[0m\u001b[1;32mlambda\u001b[0m \u001b[1;33m**\u001b[0m\u001b[0mkwargs\u001b[0m\u001b[1;33m:\u001b[0m \u001b[0mDMatrix\u001b[0m\u001b[1;33m(\u001b[0m\u001b[0mnthread\u001b[0m\u001b[1;33m=\u001b[0m\u001b[0mself\u001b[0m\u001b[1;33m.\u001b[0m\u001b[0mn_jobs\u001b[0m\u001b[1;33m,\u001b[0m \u001b[1;33m**\u001b[0m\u001b[0mkwargs\u001b[0m\u001b[1;33m)\u001b[0m\u001b[1;33m,\u001b[0m\u001b[1;33m\u001b[0m\u001b[1;33m\u001b[0m\u001b[0m\n\u001b[0m\u001b[0;32m   1397\u001b[0m             \u001b[0menable_categorical\u001b[0m\u001b[1;33m=\u001b[0m\u001b[0mself\u001b[0m\u001b[1;33m.\u001b[0m\u001b[0menable_categorical\u001b[0m\u001b[1;33m,\u001b[0m\u001b[1;33m\u001b[0m\u001b[1;33m\u001b[0m\u001b[0m\n\u001b[0;32m   1398\u001b[0m         )\n",
      "\u001b[1;32mE:\\Programms\\anaconda3\\lib\\site-packages\\xgboost\\core.py\u001b[0m in \u001b[0;36minner_f\u001b[1;34m(*args, **kwargs)\u001b[0m\n\u001b[0;32m    573\u001b[0m         \u001b[1;32mfor\u001b[0m \u001b[0mk\u001b[0m\u001b[1;33m,\u001b[0m \u001b[0marg\u001b[0m \u001b[1;32min\u001b[0m \u001b[0mzip\u001b[0m\u001b[1;33m(\u001b[0m\u001b[0msig\u001b[0m\u001b[1;33m.\u001b[0m\u001b[0mparameters\u001b[0m\u001b[1;33m,\u001b[0m \u001b[0margs\u001b[0m\u001b[1;33m)\u001b[0m\u001b[1;33m:\u001b[0m\u001b[1;33m\u001b[0m\u001b[1;33m\u001b[0m\u001b[0m\n\u001b[0;32m    574\u001b[0m             \u001b[0mkwargs\u001b[0m\u001b[1;33m[\u001b[0m\u001b[0mk\u001b[0m\u001b[1;33m]\u001b[0m \u001b[1;33m=\u001b[0m \u001b[0marg\u001b[0m\u001b[1;33m\u001b[0m\u001b[1;33m\u001b[0m\u001b[0m\n\u001b[1;32m--> 575\u001b[1;33m         \u001b[1;32mreturn\u001b[0m \u001b[0mf\u001b[0m\u001b[1;33m(\u001b[0m\u001b[1;33m**\u001b[0m\u001b[0mkwargs\u001b[0m\u001b[1;33m)\u001b[0m\u001b[1;33m\u001b[0m\u001b[1;33m\u001b[0m\u001b[0m\n\u001b[0m\u001b[0;32m    576\u001b[0m \u001b[1;33m\u001b[0m\u001b[0m\n\u001b[0;32m    577\u001b[0m     \u001b[1;32mreturn\u001b[0m \u001b[0minner_f\u001b[0m\u001b[1;33m\u001b[0m\u001b[1;33m\u001b[0m\u001b[0m\n",
      "\u001b[1;32mE:\\Programms\\anaconda3\\lib\\site-packages\\xgboost\\core.py\u001b[0m in \u001b[0;36m__init__\u001b[1;34m(self, data, label, weight, base_margin, missing, silent, feature_names, feature_types, nthread, group, qid, label_lower_bound, label_upper_bound, feature_weights, enable_categorical)\u001b[0m\n\u001b[0;32m    690\u001b[0m             \u001b[0mfeature_names\u001b[0m\u001b[1;33m=\u001b[0m\u001b[0mfeature_names\u001b[0m\u001b[1;33m,\u001b[0m\u001b[1;33m\u001b[0m\u001b[1;33m\u001b[0m\u001b[0m\n\u001b[0;32m    691\u001b[0m             \u001b[0mfeature_types\u001b[0m\u001b[1;33m=\u001b[0m\u001b[0mfeature_types\u001b[0m\u001b[1;33m,\u001b[0m\u001b[1;33m\u001b[0m\u001b[1;33m\u001b[0m\u001b[0m\n\u001b[1;32m--> 692\u001b[1;33m             \u001b[0menable_categorical\u001b[0m\u001b[1;33m=\u001b[0m\u001b[0menable_categorical\u001b[0m\u001b[1;33m,\u001b[0m\u001b[1;33m\u001b[0m\u001b[1;33m\u001b[0m\u001b[0m\n\u001b[0m\u001b[0;32m    693\u001b[0m         )\n\u001b[0;32m    694\u001b[0m         \u001b[1;32massert\u001b[0m \u001b[0mhandle\u001b[0m \u001b[1;32mis\u001b[0m \u001b[1;32mnot\u001b[0m \u001b[1;32mNone\u001b[0m\u001b[1;33m\u001b[0m\u001b[1;33m\u001b[0m\u001b[0m\n",
      "\u001b[1;32mE:\\Programms\\anaconda3\\lib\\site-packages\\xgboost\\data.py\u001b[0m in \u001b[0;36mdispatch_data_backend\u001b[1;34m(data, missing, threads, feature_names, feature_types, enable_categorical)\u001b[0m\n\u001b[0;32m    888\u001b[0m     \u001b[1;32mif\u001b[0m \u001b[0m_is_pandas_df\u001b[0m\u001b[1;33m(\u001b[0m\u001b[0mdata\u001b[0m\u001b[1;33m)\u001b[0m\u001b[1;33m:\u001b[0m\u001b[1;33m\u001b[0m\u001b[1;33m\u001b[0m\u001b[0m\n\u001b[0;32m    889\u001b[0m         return _from_pandas_df(data, enable_categorical, missing, threads,\n\u001b[1;32m--> 890\u001b[1;33m                                feature_names, feature_types)\n\u001b[0m\u001b[0;32m    891\u001b[0m     \u001b[1;32mif\u001b[0m \u001b[0m_is_pandas_series\u001b[0m\u001b[1;33m(\u001b[0m\u001b[0mdata\u001b[0m\u001b[1;33m)\u001b[0m\u001b[1;33m:\u001b[0m\u001b[1;33m\u001b[0m\u001b[1;33m\u001b[0m\u001b[0m\n\u001b[0;32m    892\u001b[0m         return _from_pandas_series(\n",
      "\u001b[1;32mE:\\Programms\\anaconda3\\lib\\site-packages\\xgboost\\data.py\u001b[0m in \u001b[0;36m_from_pandas_df\u001b[1;34m(data, enable_categorical, missing, nthread, feature_names, feature_types)\u001b[0m\n\u001b[0;32m    343\u001b[0m ) -> Tuple[ctypes.c_void_p, FeatureNames, Optional[List[str]]]:\n\u001b[0;32m    344\u001b[0m     data, feature_names, feature_types = _transform_pandas_df(\n\u001b[1;32m--> 345\u001b[1;33m         \u001b[0mdata\u001b[0m\u001b[1;33m,\u001b[0m \u001b[0menable_categorical\u001b[0m\u001b[1;33m,\u001b[0m \u001b[0mfeature_names\u001b[0m\u001b[1;33m,\u001b[0m \u001b[0mfeature_types\u001b[0m\u001b[1;33m\u001b[0m\u001b[1;33m\u001b[0m\u001b[0m\n\u001b[0m\u001b[0;32m    346\u001b[0m     )\n\u001b[0;32m    347\u001b[0m     \u001b[1;32mreturn\u001b[0m \u001b[0m_from_numpy_array\u001b[0m\u001b[1;33m(\u001b[0m\u001b[0mdata\u001b[0m\u001b[1;33m,\u001b[0m \u001b[0mmissing\u001b[0m\u001b[1;33m,\u001b[0m \u001b[0mnthread\u001b[0m\u001b[1;33m,\u001b[0m \u001b[0mfeature_names\u001b[0m\u001b[1;33m,\u001b[0m \u001b[0mfeature_types\u001b[0m\u001b[1;33m)\u001b[0m\u001b[1;33m\u001b[0m\u001b[1;33m\u001b[0m\u001b[0m\n",
      "\u001b[1;32mE:\\Programms\\anaconda3\\lib\\site-packages\\xgboost\\data.py\u001b[0m in \u001b[0;36m_transform_pandas_df\u001b[1;34m(data, enable_categorical, feature_names, feature_types, meta, meta_type)\u001b[0m\n\u001b[0;32m    280\u001b[0m         \u001b[1;32mfor\u001b[0m \u001b[0mdtype\u001b[0m \u001b[1;32min\u001b[0m \u001b[0mdata\u001b[0m\u001b[1;33m.\u001b[0m\u001b[0mdtypes\u001b[0m\u001b[1;33m\u001b[0m\u001b[1;33m\u001b[0m\u001b[0m\n\u001b[0;32m    281\u001b[0m     ):\n\u001b[1;32m--> 282\u001b[1;33m         \u001b[0m_invalid_dataframe_dtype\u001b[0m\u001b[1;33m(\u001b[0m\u001b[0mdata\u001b[0m\u001b[1;33m)\u001b[0m\u001b[1;33m\u001b[0m\u001b[1;33m\u001b[0m\u001b[0m\n\u001b[0m\u001b[0;32m    283\u001b[0m \u001b[1;33m\u001b[0m\u001b[0m\n\u001b[0;32m    284\u001b[0m     \u001b[1;31m# handle feature names\u001b[0m\u001b[1;33m\u001b[0m\u001b[1;33m\u001b[0m\u001b[1;33m\u001b[0m\u001b[0m\n",
      "\u001b[1;32mE:\\Programms\\anaconda3\\lib\\site-packages\\xgboost\\data.py\u001b[0m in \u001b[0;36m_invalid_dataframe_dtype\u001b[1;34m(data)\u001b[0m\n\u001b[0;32m    244\u001b[0m \u001b[0mcategorical\u001b[0m \u001b[0mtype\u001b[0m \u001b[1;32mis\u001b[0m \u001b[0msupplied\u001b[0m\u001b[1;33m,\u001b[0m \u001b[0mDMatrix\u001b[0m \u001b[0mparameter\u001b[0m\u001b[0;31m \u001b[0m\u001b[0;31m`\u001b[0m\u001b[0menable_categorical\u001b[0m\u001b[0;31m`\u001b[0m \u001b[0mmust\u001b[0m\u001b[1;33m\u001b[0m\u001b[1;33m\u001b[0m\u001b[0m\n\u001b[0;32m    245\u001b[0m be set to `True`.\"\"\" + err\n\u001b[1;32m--> 246\u001b[1;33m     \u001b[1;32mraise\u001b[0m \u001b[0mValueError\u001b[0m\u001b[1;33m(\u001b[0m\u001b[0mmsg\u001b[0m\u001b[1;33m)\u001b[0m\u001b[1;33m\u001b[0m\u001b[1;33m\u001b[0m\u001b[0m\n\u001b[0m\u001b[0;32m    247\u001b[0m \u001b[1;33m\u001b[0m\u001b[0m\n\u001b[0;32m    248\u001b[0m \u001b[1;33m\u001b[0m\u001b[0m\n",
      "\u001b[1;31mValueError\u001b[0m: DataFrame.dtypes for data must be int, float, bool or category.  When\ncategorical type is supplied, DMatrix parameter `enable_categorical` must\nbe set to `True`. Invalid columns:Cabin, CryoSleep, Destination, Name, PassengerId, VIP"
     ]
    }
   ],
   "source": [
    "bst = XGBClassifier(n_estimators=100)\n",
    "# fit model\n",
    "bst.fit(X_tr, y_tr)\n",
    "# make predictions\n",
    "preds = bst.predict(X_te)"
   ]
  },
  {
   "cell_type": "code",
   "execution_count": null,
   "metadata": {},
   "outputs": [],
   "source": [
    "# evaluate predictions\n",
    "accuracy = accuracy_score(y_test, predictions)\n",
    "print(\"Accuracy: %.2f%%\" % (accuracy * 100.0))"
   ]
  },
  {
   "cell_type": "code",
   "execution_count": null,
   "metadata": {},
   "outputs": [],
   "source": []
  },
  {
   "cell_type": "code",
   "execution_count": null,
   "metadata": {},
   "outputs": [],
   "source": []
  },
  {
   "cell_type": "markdown",
   "metadata": {},
   "source": [
    "# Start"
   ]
  },
  {
   "cell_type": "code",
   "execution_count": 98,
   "metadata": {},
   "outputs": [
    {
     "name": "stdout",
     "output_type": "stream",
     "text": [
      "(8693, 14) (4277, 13) (12970, 14)\n"
     ]
    },
    {
     "name": "stderr",
     "output_type": "stream",
     "text": [
      "E:\\Programms\\anaconda3\\lib\\site-packages\\ipykernel_launcher.py:5: FutureWarning: Sorting because non-concatenation axis is not aligned. A future version\n",
      "of pandas will change to not sort by default.\n",
      "\n",
      "To accept the future behavior, pass 'sort=False'.\n",
      "\n",
      "To retain the current behavior and silence the warning, pass 'sort=True'.\n",
      "\n",
      "  \"\"\"\n"
     ]
    }
   ],
   "source": [
    "train_dataset = pd.read_csv('train.csv')\n",
    "# making test dataset\n",
    "test_dataset = pd.read_csv('test.csv') \n",
    "\n",
    "all_data = pd.concat([train_dataset, test_dataset], ignore_index=True)\n",
    "print(train_dataset.shape, test_dataset.shape, all_data.shape)"
   ]
  },
  {
   "cell_type": "code",
   "execution_count": 99,
   "metadata": {},
   "outputs": [],
   "source": [
    "# filling with mean spendings by vip-status\n",
    "all_data['VRDeck'] = all_data['VRDeck'].fillna(all_data.groupby('VIP')['VRDeck'].transform('mean'))\n",
    "all_data['RoomService'] = all_data['RoomService'].fillna(all_data.groupby('VIP')['RoomService'].transform('mean'))\n",
    "all_data['ShoppingMall'] = all_data['ShoppingMall'].fillna(all_data.groupby('VIP')['ShoppingMall'].transform('mean'))\n",
    "all_data['Spa'] = all_data['Spa'].fillna(all_data.groupby('VIP')['Spa'].transform('mean'))\n",
    "all_data['FoodCourt'] = all_data['FoodCourt'].fillna(all_data.groupby('VIP')['FoodCourt'].transform('mean'))"
   ]
  },
  {
   "cell_type": "code",
   "execution_count": 100,
   "metadata": {},
   "outputs": [],
   "source": [
    "# all_data.info() "
   ]
  },
  {
   "cell_type": "code",
   "execution_count": 101,
   "metadata": {},
   "outputs": [],
   "source": [
    "# Expenses\n",
    "all_data['total_expenses'] = all_data[['RoomService', 'FoodCourt', \n",
    "                                                 'ShoppingMall', 'Spa', 'VRDeck']].sum(axis=1)\n",
    "\n",
    "all_data['RoomServicePercent'] = all_data['RoomService'] / all_data['total_expenses']\n",
    "all_data['FoodCourtPercent'] = all_data['FoodCourt'] / all_data['total_expenses']\n",
    "all_data['ShoppingMallPercent'] = all_data['ShoppingMall'] / all_data['total_expenses']\n",
    "all_data['SpaPercent'] = all_data['Spa'] / all_data['total_expenses']\n",
    "all_data['VRDeckPercent'] = all_data['VRDeck'] / all_data['total_expenses']\n",
    "\n",
    "\n",
    "all_data[['RoomServicePercent', 'FoodCourtPercent', 'ShoppingMallPercent','SpaPercent'\n",
    "         , 'VRDeckPercent']] = all_data[['RoomServicePercent', 'FoodCourtPercent', \n",
    "                            'ShoppingMallPercent','SpaPercent', 'VRDeckPercent']].fillna(0)"
   ]
  },
  {
   "cell_type": "code",
   "execution_count": 102,
   "metadata": {
    "scrolled": true
   },
   "outputs": [],
   "source": [
    "all_data[['total_expenses','RoomService', 'FoodCourt', 'ShoppingMall', 'Spa', 'VRDeck', 'RoomServicePercent',\n",
    "              'FoodCourtPercent', 'ShoppingMallPercent', 'SpaPercent','VRDeckPercent']] = all_data[[\n",
    "    'total_expenses','RoomService', 'FoodCourt', 'ShoppingMall', 'Spa', 'VRDeck', 'RoomServicePercent',\n",
    "              'FoodCourtPercent', 'ShoppingMallPercent', 'SpaPercent','VRDeckPercent']].fillna(\n",
    "    all_data[['total_expenses','RoomService', 'FoodCourt', 'ShoppingMall', 'Spa', 'VRDeck', 'RoomServicePercent',\n",
    "              'FoodCourtPercent', 'ShoppingMallPercent', 'SpaPercent','VRDeckPercent']].mean())"
   ]
  },
  {
   "cell_type": "code",
   "execution_count": 103,
   "metadata": {},
   "outputs": [],
   "source": [
    "all_data['Destination'] = all_data['Destination'].fillna('None')\n",
    "all_data['HomePlanet'] = all_data['HomePlanet'].fillna('None')\n",
    "all_data['deck'] = all_data['HomePlanet'].fillna('None')\n",
    "all_data['side'] = all_data['HomePlanet'].fillna('None')\n"
   ]
  },
  {
   "cell_type": "code",
   "execution_count": 104,
   "metadata": {},
   "outputs": [],
   "source": [
    "# Spliting few columns\n",
    "all_data[['deck', 'num', 'side']] = all_data.Cabin.str.split('/', 2, expand=True)\n",
    "all_data[['deck', 'num', 'side']] = all_data.Cabin.str.split('/', 2, expand=True)\n",
    "\n",
    "all_data[['p_group', 'p_num']] = all_data.PassengerId.str.split('_', 1, expand=True) \n",
    "\n",
    "all_data['group_members'] = all_data.groupby('p_group')['p_group'].transform('count')\n",
    "all_data['ppl_in_cabin'] = all_data.groupby('num')['num'].transform('count')\n",
    "\n",
    "all_data['no_name'] = all_data['Name'].isna()"
   ]
  },
  {
   "cell_type": "code",
   "execution_count": 105,
   "metadata": {},
   "outputs": [],
   "source": [
    "all_data['Age'] = all_data['Age'].fillna(np.mean(all_data['Age']))\n",
    "all_data['ppl_in_cabin'] = all_data['ppl_in_cabin'].fillna(np.mean(all_data['ppl_in_cabin']))"
   ]
  },
  {
   "cell_type": "code",
   "execution_count": 13,
   "metadata": {},
   "outputs": [
    {
     "data": {
      "text/plain": [
       "Index(['Age', 'Cabin', 'CryoSleep', 'Destination', 'FoodCourt', 'HomePlanet',\n",
       "       'Name', 'PassengerId', 'RoomService', 'ShoppingMall', 'Spa',\n",
       "       'Transported', 'VIP', 'VRDeck', 'total_expenses', 'RoomServicePercent',\n",
       "       'FoodCourtPercent', 'ShoppingMallPercent', 'SpaPercent',\n",
       "       'VRDeckPercent', 'deck', 'side', 'num', 'p_group', 'p_num',\n",
       "       'group_members', 'ppl_in_cabin', 'no_name'],\n",
       "      dtype='object')"
      ]
     },
     "execution_count": 13,
     "metadata": {},
     "output_type": "execute_result"
    }
   ],
   "source": [
    "all_data.columns"
   ]
  },
  {
   "cell_type": "code",
   "execution_count": 265,
   "metadata": {},
   "outputs": [],
   "source": [
    "# all_data.info()"
   ]
  },
  {
   "cell_type": "code",
   "execution_count": 106,
   "metadata": {},
   "outputs": [],
   "source": [
    "to_drop = ['Cabin', 'Name', 'PassengerId']\n",
    "# 'p_num'\n",
    "categ_features = ['Destination', 'HomePlanet', 'deck', 'side', 'p_group']"
   ]
  },
  {
   "cell_type": "code",
   "execution_count": 107,
   "metadata": {},
   "outputs": [],
   "source": [
    "all_data[categ_features] = all_data[categ_features].astype(str)\n",
    "all_data = all_data.drop(to_drop, axis = 1)"
   ]
  },
  {
   "cell_type": "code",
   "execution_count": 108,
   "metadata": {},
   "outputs": [
    {
     "data": {
      "text/plain": [
       "Index(['Age', 'CryoSleep', 'Destination', 'FoodCourt', 'HomePlanet',\n",
       "       'RoomService', 'ShoppingMall', 'Spa', 'Transported', 'VIP', 'VRDeck',\n",
       "       'total_expenses', 'RoomServicePercent', 'FoodCourtPercent',\n",
       "       'ShoppingMallPercent', 'SpaPercent', 'VRDeckPercent', 'deck', 'side',\n",
       "       'num', 'p_group', 'p_num', 'group_members', 'ppl_in_cabin', 'no_name'],\n",
       "      dtype='object')"
      ]
     },
     "execution_count": 108,
     "metadata": {},
     "output_type": "execute_result"
    }
   ],
   "source": [
    "all_data.columns"
   ]
  },
  {
   "cell_type": "code",
   "execution_count": 78,
   "metadata": {},
   "outputs": [],
   "source": [
    "# all_data.groupby('deck')['ppl_in_cabin'].agg('mean')"
   ]
  },
  {
   "cell_type": "code",
   "execution_count": 79,
   "metadata": {},
   "outputs": [],
   "source": [
    "# all_data.groupby('VIP')['ppl_in_cabin'].agg('mean')"
   ]
  },
  {
   "cell_type": "code",
   "execution_count": 17,
   "metadata": {},
   "outputs": [],
   "source": [
    "# np.mean(all_data['ppl_in_cabin'])"
   ]
  },
  {
   "cell_type": "code",
   "execution_count": 100,
   "metadata": {},
   "outputs": [
    {
     "data": {
      "text/plain": [
       "Index(['Age', 'CryoSleep', 'Destination', 'FoodCourt', 'HomePlanet',\n",
       "       'RoomService', 'ShoppingMall', 'Spa', 'Transported', 'VIP', 'VRDeck',\n",
       "       'total_expenses', 'RoomServicePercent', 'FoodCourtPercent',\n",
       "       'ShoppingMallPercent', 'SpaPercent', 'VRDeckPercent', 'deck', 'side',\n",
       "       'num', 'p_group', 'p_num', 'group_members', 'ppl_in_cabin', 'no_name'],\n",
       "      dtype='object')"
      ]
     },
     "execution_count": 100,
     "metadata": {},
     "output_type": "execute_result"
    }
   ],
   "source": [
    "all_data.columns"
   ]
  },
  {
   "cell_type": "code",
   "execution_count": 101,
   "metadata": {},
   "outputs": [],
   "source": [
    "# all_data[all_data['Transported'].notna()].drop(columns = ['Transported'])"
   ]
  },
  {
   "cell_type": "code",
   "execution_count": 112,
   "metadata": {},
   "outputs": [
    {
     "name": "stdout",
     "output_type": "stream",
     "text": [
      "(8693, 25) (4277, 25)\n"
     ]
    }
   ],
   "source": [
    "train_df = all_data[all_data['Transported'].notna()]\n",
    "test_df = all_data[all_data['Transported'].isna()]\n",
    "print(train_df.shape, test_df.shape)"
   ]
  },
  {
   "cell_type": "code",
   "execution_count": 113,
   "metadata": {},
   "outputs": [],
   "source": [
    "from sklearn.model_selection import train_test_split, ShuffleSplit\n",
    "from catboost import CatBoostClassifier, Pool\n",
    "from sklearn.metrics import mean_squared_error, accuracy_score\n",
    "from sklearn.preprocessing import PolynomialFeatures"
   ]
  },
  {
   "cell_type": "code",
   "execution_count": null,
   "metadata": {},
   "outputs": [],
   "source": []
  },
  {
   "cell_type": "code",
   "execution_count": 114,
   "metadata": {},
   "outputs": [],
   "source": [
    "X_train, X_test, y_train, y_test = train_test_split(train_df.drop(['Transported'], axis = 1)\n",
    "                                                    , train_df.Transported, shuffle= True)"
   ]
  },
  {
   "cell_type": "code",
   "execution_count": 21,
   "metadata": {},
   "outputs": [],
   "source": [
    "# train_dataset = Pool(data=train_df.drop(['Transported'], axis = 1),\n",
    "#                      label=train_df.Transported.astype(bool),\n",
    "#                      cat_features=categ_features)\n",
    "\n",
    "# eval_dataset = Pool(data=test_df.drop(['Transported'], axis = 1),\n",
    "#                      label=test_df.Transported.astype(bool),\n",
    "#                     cat_features=categ_features)"
   ]
  },
  {
   "cell_type": "code",
   "execution_count": 22,
   "metadata": {},
   "outputs": [],
   "source": [
    "train_dataset = Pool(data = X_train,\n",
    "                     label = y_train.astype(bool),\n",
    "                     cat_features=categ_features)\n",
    "\n",
    "eval_dataset = Pool(data = X_test,\n",
    "                     label = y_test.astype(bool),\n",
    "                    cat_features=categ_features)"
   ]
  },
  {
   "cell_type": "code",
   "execution_count": 23,
   "metadata": {},
   "outputs": [
    {
     "data": {
      "text/plain": [
       "(2174, 24)"
      ]
     },
     "execution_count": 23,
     "metadata": {},
     "output_type": "execute_result"
    }
   ],
   "source": [
    "eval_dataset.shape"
   ]
  },
  {
   "cell_type": "code",
   "execution_count": 24,
   "metadata": {},
   "outputs": [],
   "source": [
    "# X_train, X_test, y_train, y_test = train_test_split(train_df.drop(['Transported'], axis = 1)\n",
    "#                                                     , train_df.Transported, shuffle= True)\n",
    "\n",
    "# eval_dataset = Pool(X_test, y_test.astype(str))\n",
    "\n",
    "# print(X_train.shape, X_test.shape)"
   ]
  },
  {
   "cell_type": "code",
   "execution_count": 25,
   "metadata": {},
   "outputs": [],
   "source": [
    "cat_model = CatBoostClassifier(verbose = False, eval_metric='Accuracy')"
   ]
  },
  {
   "cell_type": "code",
   "execution_count": 32,
   "metadata": {},
   "outputs": [],
   "source": [
    "# cat_model.score(train_dataset)"
   ]
  },
  {
   "cell_type": "code",
   "execution_count": 26,
   "metadata": {
    "scrolled": true
   },
   "outputs": [
    {
     "data": {
      "text/plain": [
       "<catboost.core.CatBoostClassifier at 0x26e441ad278>"
      ]
     },
     "execution_count": 26,
     "metadata": {},
     "output_type": "execute_result"
    }
   ],
   "source": [
    "cat_model.fit(train_dataset)"
   ]
  },
  {
   "cell_type": "code",
   "execution_count": 27,
   "metadata": {},
   "outputs": [
    {
     "name": "stdout",
     "output_type": "stream",
     "text": [
      "None\n"
     ]
    }
   ],
   "source": [
    "print(cat_model.get_best_iteration())"
   ]
  },
  {
   "cell_type": "code",
   "execution_count": 28,
   "metadata": {},
   "outputs": [],
   "source": [
    "train_preds = cat_model.predict(X_train)\n",
    "test_preds = cat_model.predict(X_test)"
   ]
  },
  {
   "cell_type": "code",
   "execution_count": 29,
   "metadata": {},
   "outputs": [
    {
     "name": "stdout",
     "output_type": "stream",
     "text": [
      "Правильность на обучающем наборе: 0.879\n",
      "Правильность на обучающем наборе: 0.831\n"
     ]
    }
   ],
   "source": [
    "print('Правильность на обучающем наборе: {:.3f}'.format(accuracy_score(train_preds, y_train.astype(str))))\n",
    "print('Правильность на обучающем наборе: {:.3f}'.format(accuracy_score(test_preds, y_test.astype(str))))"
   ]
  },
  {
   "cell_type": "code",
   "execution_count": 37,
   "metadata": {},
   "outputs": [
    {
     "data": {
      "text/plain": [
       "Index(['Age', 'CryoSleep', 'Destination', 'FoodCourt', 'HomePlanet',\n",
       "       'RoomService', 'ShoppingMall', 'Spa', 'Transported', 'VIP', 'VRDeck',\n",
       "       'total_expenses', 'RoomServicePercent', 'FoodCourtPercent',\n",
       "       'ShoppingMallPercent', 'SpaPercent', 'VRDeckPercent', 'deck', 'side',\n",
       "       'num', 'p_group', 'p_num', 'group_members', 'ppl_in_cabin', 'no_name'],\n",
       "      dtype='object')"
      ]
     },
     "execution_count": 37,
     "metadata": {},
     "output_type": "execute_result"
    }
   ],
   "source": [
    "test_df.columns"
   ]
  },
  {
   "cell_type": "code",
   "execution_count": 56,
   "metadata": {},
   "outputs": [],
   "source": [
    "fin_pred1 = cat_model.predict(test_df.drop(columns = ['Transported'])) "
   ]
  },
  {
   "cell_type": "code",
   "execution_count": 57,
   "metadata": {},
   "outputs": [],
   "source": [
    "fin_pred1 = test_dataset[['PassengerId']].join(pd.DataFrame(fin_pred1, columns = ['Transported']))\n",
    "fin_pred1.to_csv('sample_submission.csv', index = False)"
   ]
  },
  {
   "cell_type": "markdown",
   "metadata": {},
   "source": [
    "# fin_pred1 0.803 Score in Kaggle\n"
   ]
  },
  {
   "cell_type": "markdown",
   "metadata": {},
   "source": [
    " "
   ]
  },
  {
   "cell_type": "markdown",
   "metadata": {},
   "source": [
    "# Adding polynomes"
   ]
  },
  {
   "cell_type": "code",
   "execution_count": 115,
   "metadata": {},
   "outputs": [],
   "source": [
    "poly = PolynomialFeatures(degree=2, include_bias=False)"
   ]
  },
  {
   "cell_type": "code",
   "execution_count": 116,
   "metadata": {},
   "outputs": [],
   "source": [
    "X_train, X_test, y_train, y_test = train_test_split(train_df.drop(['Transported'], axis = 1)\n",
    "                                                    , train_df.Transported, shuffle= True)\n",
    "\n",
    "num_cols = train_df.drop(['Transported'], axis = 1).columns[X_train.dtypes != object].tolist()\n",
    "# X_train[num_cols].info()"
   ]
  },
  {
   "cell_type": "code",
   "execution_count": 117,
   "metadata": {},
   "outputs": [],
   "source": [
    "X_train_polyed = pd.DataFrame(poly.fit_transform(X_train[num_cols]))\n",
    "X_test_polyed = pd.DataFrame(poly.fit_transform(X_test[num_cols]))\n",
    "\n",
    "# X_train = X_train.drop(columns = num_cols)#.reset_index(drop = True)\n",
    "# X_test = X_test.drop(columns = num_cols)#.reset_index(drop = True)"
   ]
  },
  {
   "cell_type": "code",
   "execution_count": 179,
   "metadata": {},
   "outputs": [
    {
     "data": {
      "text/plain": [
       "(6519, 135)"
      ]
     },
     "execution_count": 179,
     "metadata": {},
     "output_type": "execute_result"
    }
   ],
   "source": [
    "X_train_polyed.shape"
   ]
  },
  {
   "cell_type": "code",
   "execution_count": 118,
   "metadata": {},
   "outputs": [],
   "source": [
    "X_train = X_train.join(X_train_polyed)\n",
    "X_test = X_test.join(X_test_polyed)"
   ]
  },
  {
   "cell_type": "code",
   "execution_count": 119,
   "metadata": {
    "scrolled": true
   },
   "outputs": [],
   "source": [
    "# X_test"
   ]
  },
  {
   "cell_type": "code",
   "execution_count": 120,
   "metadata": {},
   "outputs": [],
   "source": [
    "train_dataset = Pool(data = X_train,\n",
    "                     label = y_train.astype(bool),\n",
    "                     cat_features=categ_features)\n",
    "\n",
    "eval_dataset = Pool(data = X_test,\n",
    "                     label = y_test.astype(bool),\n",
    "                    cat_features=categ_features)"
   ]
  },
  {
   "cell_type": "code",
   "execution_count": 121,
   "metadata": {},
   "outputs": [],
   "source": [
    "cat_model2 = CatBoostClassifier(verbose = False, eval_metric='Accuracy')"
   ]
  },
  {
   "cell_type": "code",
   "execution_count": 122,
   "metadata": {},
   "outputs": [
    {
     "data": {
      "text/plain": [
       "<catboost.core.CatBoostClassifier at 0x26e42200e80>"
      ]
     },
     "execution_count": 122,
     "metadata": {},
     "output_type": "execute_result"
    }
   ],
   "source": [
    "cat_model2.fit(train_dataset)"
   ]
  },
  {
   "cell_type": "code",
   "execution_count": 87,
   "metadata": {},
   "outputs": [
    {
     "name": "stdout",
     "output_type": "stream",
     "text": [
      "None\n"
     ]
    }
   ],
   "source": [
    "print(cat_model2.get_best_iteration())"
   ]
  },
  {
   "cell_type": "code",
   "execution_count": 123,
   "metadata": {},
   "outputs": [],
   "source": [
    "dd = {'feat': X_train.columns, 'rate': cat_model2.get_feature_importance()}"
   ]
  },
  {
   "cell_type": "code",
   "execution_count": 124,
   "metadata": {},
   "outputs": [
    {
     "data": {
      "text/html": [
       "<div>\n",
       "<style scoped>\n",
       "    .dataframe tbody tr th:only-of-type {\n",
       "        vertical-align: middle;\n",
       "    }\n",
       "\n",
       "    .dataframe tbody tr th {\n",
       "        vertical-align: top;\n",
       "    }\n",
       "\n",
       "    .dataframe thead th {\n",
       "        text-align: right;\n",
       "    }\n",
       "</style>\n",
       "<table border=\"1\" class=\"dataframe\">\n",
       "  <thead>\n",
       "    <tr style=\"text-align: right;\">\n",
       "      <th></th>\n",
       "      <th>feat</th>\n",
       "      <th>rate</th>\n",
       "    </tr>\n",
       "  </thead>\n",
       "  <tbody>\n",
       "    <tr>\n",
       "      <th>10</th>\n",
       "      <td>total_expenses</td>\n",
       "      <td>11.332011</td>\n",
       "    </tr>\n",
       "    <tr>\n",
       "      <th>12</th>\n",
       "      <td>FoodCourtPercent</td>\n",
       "      <td>8.074596</td>\n",
       "    </tr>\n",
       "    <tr>\n",
       "      <th>16</th>\n",
       "      <td>deck</td>\n",
       "      <td>6.983501</td>\n",
       "    </tr>\n",
       "    <tr>\n",
       "      <th>1</th>\n",
       "      <td>CryoSleep</td>\n",
       "      <td>6.418913</td>\n",
       "    </tr>\n",
       "    <tr>\n",
       "      <th>4</th>\n",
       "      <td>HomePlanet</td>\n",
       "      <td>6.084177</td>\n",
       "    </tr>\n",
       "    <tr>\n",
       "      <th>18</th>\n",
       "      <td>num</td>\n",
       "      <td>5.907374</td>\n",
       "    </tr>\n",
       "    <tr>\n",
       "      <th>13</th>\n",
       "      <td>ShoppingMallPercent</td>\n",
       "      <td>4.362285</td>\n",
       "    </tr>\n",
       "    <tr>\n",
       "      <th>7</th>\n",
       "      <td>Spa</td>\n",
       "      <td>4.110067</td>\n",
       "    </tr>\n",
       "    <tr>\n",
       "      <th>17</th>\n",
       "      <td>side</td>\n",
       "      <td>3.595436</td>\n",
       "    </tr>\n",
       "    <tr>\n",
       "      <th>0</th>\n",
       "      <td>Age</td>\n",
       "      <td>3.403251</td>\n",
       "    </tr>\n",
       "  </tbody>\n",
       "</table>\n",
       "</div>"
      ],
      "text/plain": [
       "                   feat       rate\n",
       "10       total_expenses  11.332011\n",
       "12     FoodCourtPercent   8.074596\n",
       "16                 deck   6.983501\n",
       "1             CryoSleep   6.418913\n",
       "4            HomePlanet   6.084177\n",
       "18                  num   5.907374\n",
       "13  ShoppingMallPercent   4.362285\n",
       "7                   Spa   4.110067\n",
       "17                 side   3.595436\n",
       "0                   Age   3.403251"
      ]
     },
     "execution_count": 124,
     "metadata": {},
     "output_type": "execute_result"
    }
   ],
   "source": [
    "pd.DataFrame(dd).sort_values(['rate'], ascending = False).head(10)\n",
    "#     dict('feat': X_train.columns, 'rate': cat_model.get_feature_importance()))"
   ]
  },
  {
   "cell_type": "code",
   "execution_count": 176,
   "metadata": {},
   "outputs": [],
   "source": [
    "train_preds = cat_model2.predict(X_train)\n",
    "test_preds = cat_model2.predict(X_test)"
   ]
  },
  {
   "cell_type": "code",
   "execution_count": 177,
   "metadata": {},
   "outputs": [
    {
     "name": "stdout",
     "output_type": "stream",
     "text": [
      "Правильность на обучающем наборе: 0.895\n",
      "Правильность на обучающем наборе: 0.808\n"
     ]
    }
   ],
   "source": [
    "print('Правильность на обучающем наборе: {:.3f}'.format(accuracy_score(train_preds, y_train.astype(str))))\n",
    "print('Правильность на обучающем наборе: {:.3f}'.format(accuracy_score(test_preds, y_test.astype(str))))"
   ]
  },
  {
   "cell_type": "code",
   "execution_count": null,
   "metadata": {},
   "outputs": [],
   "source": [
    "Basic catboost\n",
    "# Правильность на обучающем наборе: 0.863\n",
    "# Правильность на обучающем наборе: 0.812"
   ]
  },
  {
   "cell_type": "code",
   "execution_count": 180,
   "metadata": {
    "scrolled": true
   },
   "outputs": [
    {
     "data": {
      "text/plain": [
       "(4277, 135)"
      ]
     },
     "execution_count": 180,
     "metadata": {},
     "output_type": "execute_result"
    }
   ],
   "source": [
    "test_df_polyed = pd.DataFrame(poly.fit_transform(test_df[num_cols]))\n",
    "test_df1 = test_df.join(test_df_polyed).drop(['Transported'], axis = 1)"
   ]
  },
  {
   "cell_type": "code",
   "execution_count": 190,
   "metadata": {},
   "outputs": [],
   "source": [
    "fin_pred2 = cat_model2.predict(test_df1)\n",
    "fin_pred2 = test_dataset[['PassengerId']].join(pd.DataFrame(fin_pred2, columns = ['Transported']))\n",
    "fin_pred2.to_csv('sample_submission2.csv', index = False)\n",
    "# тот же результат"
   ]
  },
  {
   "cell_type": "code",
   "execution_count": null,
   "metadata": {},
   "outputs": [],
   "source": []
  },
  {
   "cell_type": "code",
   "execution_count": null,
   "metadata": {},
   "outputs": [],
   "source": []
  },
  {
   "cell_type": "code",
   "execution_count": null,
   "metadata": {},
   "outputs": [],
   "source": []
  },
  {
   "cell_type": "code",
   "execution_count": null,
   "metadata": {},
   "outputs": [],
   "source": [
    "from catboost import CatBoostRegressor\n",
    "from sklearn.linear_model import ElasticNet, ElasticNetCV, MultiTaskElasticNetCV, LinearRegression\n",
    "from sklearn.metrics import r2_score\n",
    "from sklearn.model_selection import cross_val_score, StratifiedKFold, KFold"
   ]
  },
  {
   "cell_type": "code",
   "execution_count": null,
   "metadata": {},
   "outputs": [],
   "source": [
    "# ll = cat_cols.columns.tolist()\n",
    "cat_model = CatBoostRegressor(n_estimators = 500, cat_features = cat_cols.tolist()\n",
    "#                               cat_cols\n",
    "                             )"
   ]
  },
  {
   "cell_type": "code",
   "execution_count": null,
   "metadata": {},
   "outputs": [],
   "source": []
  },
  {
   "cell_type": "code",
   "execution_count": null,
   "metadata": {},
   "outputs": [],
   "source": []
  },
  {
   "cell_type": "code",
   "execution_count": null,
   "metadata": {},
   "outputs": [],
   "source": []
  },
  {
   "cell_type": "code",
   "execution_count": 53,
   "metadata": {},
   "outputs": [],
   "source": [
    "# all_data.info()"
   ]
  },
  {
   "cell_type": "code",
   "execution_count": 35,
   "metadata": {},
   "outputs": [
    {
     "data": {
      "text/html": [
       "<div>\n",
       "<style scoped>\n",
       "    .dataframe tbody tr th:only-of-type {\n",
       "        vertical-align: middle;\n",
       "    }\n",
       "\n",
       "    .dataframe tbody tr th {\n",
       "        vertical-align: top;\n",
       "    }\n",
       "\n",
       "    .dataframe thead th {\n",
       "        text-align: right;\n",
       "    }\n",
       "</style>\n",
       "<table border=\"1\" class=\"dataframe\">\n",
       "  <thead>\n",
       "    <tr style=\"text-align: right;\">\n",
       "      <th></th>\n",
       "      <th>Name</th>\n",
       "      <th>HomePlanet</th>\n",
       "      <th>Age</th>\n",
       "      <th>Cabin</th>\n",
       "      <th>CryoSleep</th>\n",
       "      <th>Destination</th>\n",
       "      <th>Transported</th>\n",
       "    </tr>\n",
       "  </thead>\n",
       "  <tbody>\n",
       "    <tr>\n",
       "      <th>12947</th>\n",
       "      <td>Joana Garnettiz</td>\n",
       "      <td>Earth</td>\n",
       "      <td>10.0</td>\n",
       "      <td>G/1501/P</td>\n",
       "      <td>False</td>\n",
       "      <td>TRAPPIST-1e</td>\n",
       "      <td>NaN</td>\n",
       "    </tr>\n",
       "    <tr>\n",
       "      <th>12948</th>\n",
       "      <td>Ricke Emenez</td>\n",
       "      <td>Earth</td>\n",
       "      <td>3.0</td>\n",
       "      <td>G/1501/P</td>\n",
       "      <td>True</td>\n",
       "      <td>55 Cancri e</td>\n",
       "      <td>NaN</td>\n",
       "    </tr>\n",
       "    <tr>\n",
       "      <th>12949</th>\n",
       "      <td>Herina Emenez</td>\n",
       "      <td>Earth</td>\n",
       "      <td>16.0</td>\n",
       "      <td>G/1501/P</td>\n",
       "      <td>True</td>\n",
       "      <td>TRAPPIST-1e</td>\n",
       "      <td>NaN</td>\n",
       "    </tr>\n",
       "    <tr>\n",
       "      <th>12950</th>\n",
       "      <td>Marlie Emenez</td>\n",
       "      <td>Earth</td>\n",
       "      <td>26.0</td>\n",
       "      <td>G/1501/P</td>\n",
       "      <td>False</td>\n",
       "      <td>TRAPPIST-1e</td>\n",
       "      <td>NaN</td>\n",
       "    </tr>\n",
       "    <tr>\n",
       "      <th>12951</th>\n",
       "      <td>Caseye Emenez</td>\n",
       "      <td>Earth</td>\n",
       "      <td>14.0</td>\n",
       "      <td>NaN</td>\n",
       "      <td>True</td>\n",
       "      <td>TRAPPIST-1e</td>\n",
       "      <td>NaN</td>\n",
       "    </tr>\n",
       "    <tr>\n",
       "      <th>12952</th>\n",
       "      <td>Blance Garnettiz</td>\n",
       "      <td>Earth</td>\n",
       "      <td>0.0</td>\n",
       "      <td>G/1501/P</td>\n",
       "      <td>False</td>\n",
       "      <td>55 Cancri e</td>\n",
       "      <td>NaN</td>\n",
       "    </tr>\n",
       "  </tbody>\n",
       "</table>\n",
       "</div>"
      ],
      "text/plain": [
       "                   Name HomePlanet   Age     Cabin CryoSleep  Destination  \\\n",
       "12947   Joana Garnettiz      Earth  10.0  G/1501/P     False  TRAPPIST-1e   \n",
       "12948      Ricke Emenez      Earth   3.0  G/1501/P      True  55 Cancri e   \n",
       "12949     Herina Emenez      Earth  16.0  G/1501/P      True  TRAPPIST-1e   \n",
       "12950     Marlie Emenez      Earth  26.0  G/1501/P     False  TRAPPIST-1e   \n",
       "12951     Caseye Emenez      Earth  14.0       NaN      True  TRAPPIST-1e   \n",
       "12952  Blance Garnettiz      Earth   0.0  G/1501/P     False  55 Cancri e   \n",
       "\n",
       "      Transported  \n",
       "12947         NaN  \n",
       "12948         NaN  \n",
       "12949         NaN  \n",
       "12950         NaN  \n",
       "12951         NaN  \n",
       "12952         NaN  "
      ]
     },
     "execution_count": 35,
     "metadata": {},
     "output_type": "execute_result"
    }
   ],
   "source": [
    "# if surname is the same cabin is the same\n",
    "# if cabin is NA and both next and previos cabins are the same then u can fill it \n",
    "# is there only VIP cabins with no not VIPs?\n",
    "all_data.loc[12947:12952, ['Name', 'HomePlanet', 'Age', 'Cabin', 'CryoSleep', 'Destination', 'Transported']]"
   ]
  },
  {
   "cell_type": "code",
   "execution_count": 28,
   "metadata": {
    "scrolled": true
   },
   "outputs": [
    {
     "data": {
      "text/html": [
       "<div>\n",
       "<style scoped>\n",
       "    .dataframe tbody tr th:only-of-type {\n",
       "        vertical-align: middle;\n",
       "    }\n",
       "\n",
       "    .dataframe tbody tr th {\n",
       "        vertical-align: top;\n",
       "    }\n",
       "\n",
       "    .dataframe thead th {\n",
       "        text-align: right;\n",
       "    }\n",
       "</style>\n",
       "<table border=\"1\" class=\"dataframe\">\n",
       "  <thead>\n",
       "    <tr style=\"text-align: right;\">\n",
       "      <th></th>\n",
       "      <th>Name</th>\n",
       "      <th>Cabin</th>\n",
       "    </tr>\n",
       "  </thead>\n",
       "  <tbody>\n",
       "    <tr>\n",
       "      <th>1517</th>\n",
       "      <td>Furuson Entenedy</td>\n",
       "      <td>E/101/P</td>\n",
       "    </tr>\n",
       "    <tr>\n",
       "      <th>1518</th>\n",
       "      <td>Arraid Entenedy</td>\n",
       "      <td>E/101/P</td>\n",
       "    </tr>\n",
       "    <tr>\n",
       "      <th>1519</th>\n",
       "      <td>Judya Josey</td>\n",
       "      <td>NaN</td>\n",
       "    </tr>\n",
       "    <tr>\n",
       "      <th>1520</th>\n",
       "      <td>Duckes Conie</td>\n",
       "      <td>F/321/P</td>\n",
       "    </tr>\n",
       "    <tr>\n",
       "      <th>1521</th>\n",
       "      <td>Kencey Lopelases</td>\n",
       "      <td>F/322/P</td>\n",
       "    </tr>\n",
       "    <tr>\n",
       "      <th>1522</th>\n",
       "      <td>Therta Harperez</td>\n",
       "      <td>G/259/P</td>\n",
       "    </tr>\n",
       "    <tr>\n",
       "      <th>1523</th>\n",
       "      <td>Terina Lopelases</td>\n",
       "      <td>G/259/P</td>\n",
       "    </tr>\n",
       "    <tr>\n",
       "      <th>1524</th>\n",
       "      <td>Ots Blan</td>\n",
       "      <td>D/53/P</td>\n",
       "    </tr>\n",
       "    <tr>\n",
       "      <th>1525</th>\n",
       "      <td>Vanard Hinglendez</td>\n",
       "      <td>G/249/S</td>\n",
       "    </tr>\n",
       "    <tr>\n",
       "      <th>1526</th>\n",
       "      <td>Jeane Dukertyler</td>\n",
       "      <td>F/308/S</td>\n",
       "    </tr>\n",
       "    <tr>\n",
       "      <th>1527</th>\n",
       "      <td>Valex Dukertyler</td>\n",
       "      <td>F/308/S</td>\n",
       "    </tr>\n",
       "    <tr>\n",
       "      <th>1528</th>\n",
       "      <td>Jayrin Sau</td>\n",
       "      <td>F/323/P</td>\n",
       "    </tr>\n",
       "    <tr>\n",
       "      <th>1529</th>\n",
       "      <td>Joanry Barbes</td>\n",
       "      <td>G/250/S</td>\n",
       "    </tr>\n",
       "    <tr>\n",
       "      <th>1530</th>\n",
       "      <td>Dorice Barbes</td>\n",
       "      <td>G/250/S</td>\n",
       "    </tr>\n",
       "    <tr>\n",
       "      <th>1531</th>\n",
       "      <td>Eristy Barbes</td>\n",
       "      <td>G/250/S</td>\n",
       "    </tr>\n",
       "    <tr>\n",
       "      <th>1532</th>\n",
       "      <td>Weznif Patimonne</td>\n",
       "      <td>C/59/P</td>\n",
       "    </tr>\n",
       "    <tr>\n",
       "      <th>1533</th>\n",
       "      <td>Dabik Patimonne</td>\n",
       "      <td>C/59/P</td>\n",
       "    </tr>\n",
       "    <tr>\n",
       "      <th>1534</th>\n",
       "      <td>Raceky Logannon</td>\n",
       "      <td>F/324/P</td>\n",
       "    </tr>\n",
       "    <tr>\n",
       "      <th>1535</th>\n",
       "      <td>Zauri Foraud</td>\n",
       "      <td>B/71/S</td>\n",
       "    </tr>\n",
       "    <tr>\n",
       "      <th>1536</th>\n",
       "      <td>Rayne Cofferson</td>\n",
       "      <td>G/252/S</td>\n",
       "    </tr>\n",
       "    <tr>\n",
       "      <th>1537</th>\n",
       "      <td>Shery Cofferson</td>\n",
       "      <td>G/252/S</td>\n",
       "    </tr>\n",
       "    <tr>\n",
       "      <th>1538</th>\n",
       "      <td>Elanda Cofferson</td>\n",
       "      <td>F/309/S</td>\n",
       "    </tr>\n",
       "    <tr>\n",
       "      <th>1539</th>\n",
       "      <td>Toniel Kennetty</td>\n",
       "      <td>E/118/S</td>\n",
       "    </tr>\n",
       "    <tr>\n",
       "      <th>1540</th>\n",
       "      <td>Cella Fatted</td>\n",
       "      <td>C/62/S</td>\n",
       "    </tr>\n",
       "    <tr>\n",
       "      <th>1541</th>\n",
       "      <td>Ferry Thony</td>\n",
       "      <td>G/261/P</td>\n",
       "    </tr>\n",
       "    <tr>\n",
       "      <th>1542</th>\n",
       "      <td>Tyrony Thony</td>\n",
       "      <td>G/261/P</td>\n",
       "    </tr>\n",
       "    <tr>\n",
       "      <th>1543</th>\n",
       "      <td>Armen Conleydenan</td>\n",
       "      <td>G/253/S</td>\n",
       "    </tr>\n",
       "    <tr>\n",
       "      <th>1544</th>\n",
       "      <td>Iandy Tuckers</td>\n",
       "      <td>F/325/P</td>\n",
       "    </tr>\n",
       "    <tr>\n",
       "      <th>1545</th>\n",
       "      <td>Daisya Connelson</td>\n",
       "      <td>G/254/S</td>\n",
       "    </tr>\n",
       "    <tr>\n",
       "      <th>1546</th>\n",
       "      <td>Leony Ricews</td>\n",
       "      <td>G/255/S</td>\n",
       "    </tr>\n",
       "    <tr>\n",
       "      <th>...</th>\n",
       "      <td>...</td>\n",
       "      <td>...</td>\n",
       "    </tr>\n",
       "    <tr>\n",
       "      <th>1561</th>\n",
       "      <td>Keithy Mallerez</td>\n",
       "      <td>F/311/S</td>\n",
       "    </tr>\n",
       "    <tr>\n",
       "      <th>1562</th>\n",
       "      <td>Shally Alest</td>\n",
       "      <td>G/267/P</td>\n",
       "    </tr>\n",
       "    <tr>\n",
       "      <th>1563</th>\n",
       "      <td>Sallos Part</td>\n",
       "      <td>F/312/S</td>\n",
       "    </tr>\n",
       "    <tr>\n",
       "      <th>1564</th>\n",
       "      <td>Rayle Pugherman</td>\n",
       "      <td>F/313/S</td>\n",
       "    </tr>\n",
       "    <tr>\n",
       "      <th>1565</th>\n",
       "      <td>Estina Cardner</td>\n",
       "      <td>E/122/S</td>\n",
       "    </tr>\n",
       "    <tr>\n",
       "      <th>1566</th>\n",
       "      <td>Arin Fringh</td>\n",
       "      <td>A/20/S</td>\n",
       "    </tr>\n",
       "    <tr>\n",
       "      <th>1567</th>\n",
       "      <td>Almino Earmeter</td>\n",
       "      <td>A/20/S</td>\n",
       "    </tr>\n",
       "    <tr>\n",
       "      <th>1568</th>\n",
       "      <td>Quarkib Fringh</td>\n",
       "      <td>A/20/S</td>\n",
       "    </tr>\n",
       "    <tr>\n",
       "      <th>1569</th>\n",
       "      <td>Branev Fringh</td>\n",
       "      <td>A/20/S</td>\n",
       "    </tr>\n",
       "    <tr>\n",
       "      <th>1570</th>\n",
       "      <td>Wenise Sterson</td>\n",
       "      <td>F/314/S</td>\n",
       "    </tr>\n",
       "    <tr>\n",
       "      <th>1571</th>\n",
       "      <td>Carita Villenson</td>\n",
       "      <td>G/268/P</td>\n",
       "    </tr>\n",
       "    <tr>\n",
       "      <th>1572</th>\n",
       "      <td>Askedus Retefule</td>\n",
       "      <td>D/59/S</td>\n",
       "    </tr>\n",
       "    <tr>\n",
       "      <th>1573</th>\n",
       "      <td>Millia Watsongley</td>\n",
       "      <td>F/316/S</td>\n",
       "    </tr>\n",
       "    <tr>\n",
       "      <th>1574</th>\n",
       "      <td>Flams Spane</td>\n",
       "      <td>F/317/S</td>\n",
       "    </tr>\n",
       "    <tr>\n",
       "      <th>1575</th>\n",
       "      <td>Spuffs Spane</td>\n",
       "      <td>F/317/S</td>\n",
       "    </tr>\n",
       "    <tr>\n",
       "      <th>1576</th>\n",
       "      <td>Pokix Perte</td>\n",
       "      <td>F/317/S</td>\n",
       "    </tr>\n",
       "    <tr>\n",
       "      <th>1577</th>\n",
       "      <td>Aleen Sancasey</td>\n",
       "      <td>G/269/P</td>\n",
       "    </tr>\n",
       "    <tr>\n",
       "      <th>1578</th>\n",
       "      <td>Jordy Sancasey</td>\n",
       "      <td>G/269/P</td>\n",
       "    </tr>\n",
       "    <tr>\n",
       "      <th>1579</th>\n",
       "      <td>Muonan Mosteraked</td>\n",
       "      <td>B/73/S</td>\n",
       "    </tr>\n",
       "    <tr>\n",
       "      <th>1580</th>\n",
       "      <td>Elicia Solivers</td>\n",
       "      <td>F/318/S</td>\n",
       "    </tr>\n",
       "    <tr>\n",
       "      <th>1581</th>\n",
       "      <td>Benny Perrerojass</td>\n",
       "      <td>F/330/P</td>\n",
       "    </tr>\n",
       "    <tr>\n",
       "      <th>1582</th>\n",
       "      <td>NaN</td>\n",
       "      <td>G/260/S</td>\n",
       "    </tr>\n",
       "    <tr>\n",
       "      <th>1583</th>\n",
       "      <td>Pennie Staffersby</td>\n",
       "      <td>G/270/P</td>\n",
       "    </tr>\n",
       "    <tr>\n",
       "      <th>1584</th>\n",
       "      <td>Warry Robins</td>\n",
       "      <td>E/103/P</td>\n",
       "    </tr>\n",
       "    <tr>\n",
       "      <th>1585</th>\n",
       "      <td>Tonia Englence</td>\n",
       "      <td>G/261/S</td>\n",
       "    </tr>\n",
       "    <tr>\n",
       "      <th>1586</th>\n",
       "      <td>Miten Watte</td>\n",
       "      <td>F/331/P</td>\n",
       "    </tr>\n",
       "    <tr>\n",
       "      <th>1587</th>\n",
       "      <td>Sanda Dillestron</td>\n",
       "      <td>NaN</td>\n",
       "    </tr>\n",
       "    <tr>\n",
       "      <th>1588</th>\n",
       "      <td>Vana Dillestron</td>\n",
       "      <td>G/272/P</td>\n",
       "    </tr>\n",
       "    <tr>\n",
       "      <th>1589</th>\n",
       "      <td>Camina Dillestron</td>\n",
       "      <td>G/272/P</td>\n",
       "    </tr>\n",
       "    <tr>\n",
       "      <th>1590</th>\n",
       "      <td>Bases Batte</td>\n",
       "      <td>F/334/P</td>\n",
       "    </tr>\n",
       "  </tbody>\n",
       "</table>\n",
       "<p>74 rows × 2 columns</p>\n",
       "</div>"
      ],
      "text/plain": [
       "                   Name    Cabin\n",
       "1517   Furuson Entenedy  E/101/P\n",
       "1518    Arraid Entenedy  E/101/P\n",
       "1519        Judya Josey      NaN\n",
       "1520       Duckes Conie  F/321/P\n",
       "1521   Kencey Lopelases  F/322/P\n",
       "1522    Therta Harperez  G/259/P\n",
       "1523   Terina Lopelases  G/259/P\n",
       "1524           Ots Blan   D/53/P\n",
       "1525  Vanard Hinglendez  G/249/S\n",
       "1526   Jeane Dukertyler  F/308/S\n",
       "1527   Valex Dukertyler  F/308/S\n",
       "1528         Jayrin Sau  F/323/P\n",
       "1529      Joanry Barbes  G/250/S\n",
       "1530      Dorice Barbes  G/250/S\n",
       "1531      Eristy Barbes  G/250/S\n",
       "1532   Weznif Patimonne   C/59/P\n",
       "1533    Dabik Patimonne   C/59/P\n",
       "1534    Raceky Logannon  F/324/P\n",
       "1535       Zauri Foraud   B/71/S\n",
       "1536    Rayne Cofferson  G/252/S\n",
       "1537    Shery Cofferson  G/252/S\n",
       "1538   Elanda Cofferson  F/309/S\n",
       "1539    Toniel Kennetty  E/118/S\n",
       "1540       Cella Fatted   C/62/S\n",
       "1541        Ferry Thony  G/261/P\n",
       "1542       Tyrony Thony  G/261/P\n",
       "1543  Armen Conleydenan  G/253/S\n",
       "1544      Iandy Tuckers  F/325/P\n",
       "1545   Daisya Connelson  G/254/S\n",
       "1546       Leony Ricews  G/255/S\n",
       "...                 ...      ...\n",
       "1561    Keithy Mallerez  F/311/S\n",
       "1562       Shally Alest  G/267/P\n",
       "1563        Sallos Part  F/312/S\n",
       "1564    Rayle Pugherman  F/313/S\n",
       "1565     Estina Cardner  E/122/S\n",
       "1566        Arin Fringh   A/20/S\n",
       "1567    Almino Earmeter   A/20/S\n",
       "1568     Quarkib Fringh   A/20/S\n",
       "1569      Branev Fringh   A/20/S\n",
       "1570     Wenise Sterson  F/314/S\n",
       "1571   Carita Villenson  G/268/P\n",
       "1572   Askedus Retefule   D/59/S\n",
       "1573  Millia Watsongley  F/316/S\n",
       "1574        Flams Spane  F/317/S\n",
       "1575       Spuffs Spane  F/317/S\n",
       "1576        Pokix Perte  F/317/S\n",
       "1577     Aleen Sancasey  G/269/P\n",
       "1578     Jordy Sancasey  G/269/P\n",
       "1579  Muonan Mosteraked   B/73/S\n",
       "1580    Elicia Solivers  F/318/S\n",
       "1581  Benny Perrerojass  F/330/P\n",
       "1582                NaN  G/260/S\n",
       "1583  Pennie Staffersby  G/270/P\n",
       "1584       Warry Robins  E/103/P\n",
       "1585     Tonia Englence  G/261/S\n",
       "1586        Miten Watte  F/331/P\n",
       "1587   Sanda Dillestron      NaN\n",
       "1588    Vana Dillestron  G/272/P\n",
       "1589  Camina Dillestron  G/272/P\n",
       "1590        Bases Batte  F/334/P\n",
       "\n",
       "[74 rows x 2 columns]"
      ]
     },
     "execution_count": 28,
     "metadata": {},
     "output_type": "execute_result"
    }
   ],
   "source": [
    "all_data.loc[1517:1590,['Name', 'Cabin']]"
   ]
  },
  {
   "cell_type": "code",
   "execution_count": 31,
   "metadata": {},
   "outputs": [],
   "source": [
    "# all_data.loc[1117:1130,['Name', 'Cabin']]"
   ]
  },
  {
   "cell_type": "code",
   "execution_count": 32,
   "metadata": {},
   "outputs": [
    {
     "data": {
      "text/plain": [
       "Index(['Age', 'Cabin', 'CryoSleep', 'Destination', 'FoodCourt', 'HomePlanet',\n",
       "       'Name', 'PassengerId', 'RoomService', 'ShoppingMall', 'Spa',\n",
       "       'Transported', 'VIP', 'VRDeck', 'total_expenses', 'RoomServicePercent',\n",
       "       'FoodCourtPercent', 'ShoppingMallPercent', 'SpaPercent',\n",
       "       'VRDeckPercent', 'no_name', 'deck', 'num', 'side', 'p_group', 'p_num',\n",
       "       'group_members', 'ppl_in_cabin'],\n",
       "      dtype='object')"
      ]
     },
     "execution_count": 32,
     "metadata": {},
     "output_type": "execute_result"
    }
   ],
   "source": [
    "all_data.columns"
   ]
  },
  {
   "cell_type": "code",
   "execution_count": 43,
   "metadata": {},
   "outputs": [
    {
     "data": {
      "text/plain": [
       "16.0    27\n",
       "18.0    25\n",
       "19.0    23\n",
       "14.0    20\n",
       "21.0    20\n",
       "20.0    20\n",
       "17.0    18\n",
       "15.0    17\n",
       "6.0     13\n",
       "4.0     12\n",
       "13.0    11\n",
       "23.0     9\n",
       "24.0     8\n",
       "8.0      7\n",
       "2.0      5\n",
       "12.0     5\n",
       "22.0     5\n",
       "9.0      4\n",
       "7.0      4\n",
       "10.0     3\n",
       "26.0     3\n",
       "28.0     2\n",
       "11.0     2\n",
       "27.0     1\n",
       "34.0     1\n",
       "25.0     1\n",
       "Name: ppl_in_cabin, dtype: int64"
      ]
     },
     "execution_count": 43,
     "metadata": {},
     "output_type": "execute_result"
    }
   ],
   "source": [
    "all_data[all_data['VIP'] == 1]['ppl_in_cabin'].value_counts()"
   ]
  },
  {
   "cell_type": "code",
   "execution_count": 39,
   "metadata": {},
   "outputs": [
    {
     "data": {
      "text/plain": [
       "4.0     2036\n",
       "6.0     1344\n",
       "5.0      970\n",
       "7.0      721\n",
       "16.0     688\n",
       "8.0      560\n",
       "20.0     520\n",
       "17.0     493\n",
       "14.0     490\n",
       "18.0     486\n",
       "19.0     475\n",
       "2.0      464\n",
       "13.0     442\n",
       "21.0     420\n",
       "15.0     420\n",
       "9.0      333\n",
       "23.0     253\n",
       "22.0     242\n",
       "11.0     231\n",
       "3.0      225\n",
       "24.0     192\n",
       "10.0     170\n",
       "12.0     156\n",
       "1.0       93\n",
       "27.0      81\n",
       "28.0      56\n",
       "25.0      50\n",
       "34.0      34\n",
       "26.0      26\n",
       "Name: ppl_in_cabin, dtype: int64"
      ]
     },
     "execution_count": 39,
     "metadata": {},
     "output_type": "execute_result"
    }
   ],
   "source": [
    "all_data['ppl_in_cabin'].value_counts()"
   ]
  },
  {
   "cell_type": "code",
   "execution_count": 38,
   "metadata": {},
   "outputs": [
    {
     "data": {
      "image/png": "[encoded data removed]",
      "text/plain": [
       "<Figure size 432x288 with 1 Axes>"
      ]
     },
     "metadata": {
      "needs_background": "light"
     },
     "output_type": "display_data"
    },
    {
     "data": {
      "text/plain": [
       "<Figure size 2880x2880 with 0 Axes>"
      ]
     },
     "metadata": {},
     "output_type": "display_data"
    }
   ],
   "source": [
    "plt.hist(all_data['ppl_in_cabin'].value_counts())\n",
    "plt.figure(figsize=(40, 40))\n",
    "plt.show()"
   ]
  },
  {
   "cell_type": "code",
   "execution_count": 33,
   "metadata": {},
   "outputs": [
    {
     "data": {
      "text/plain": [
       "array(['B', 'F', 'A', 'G', nan, 'E', 'D', 'C', 'T'], dtype=object)"
      ]
     },
     "execution_count": 33,
     "metadata": {},
     "output_type": "execute_result"
    }
   ],
   "source": [
    "all_data['deck'].unique()"
   ]
  },
  {
   "cell_type": "code",
   "execution_count": null,
   "metadata": {},
   "outputs": [],
   "source": []
  },
  {
   "cell_type": "code",
   "execution_count": null,
   "metadata": {},
   "outputs": [],
   "source": [
    "# filling NaN with zeros for expenses\n",
    "train_dataset['total_expenses','RoomService', 'FoodCourt', 'ShoppingMall', 'Spa', 'VRDeck', 'RoomServicePercent',\n",
    "              'FoodCourtPercent', 'ShoppingMallPercent', 'SpaPercent','VRDeckPercent'].fillna(0, inplace = True)\n",
    "test_dataset['total_expenses','RoomService', 'FoodCourt', 'ShoppingMall', 'Spa', 'VRDeck', 'RoomServicePercent',\n",
    "              'FoodCourtPercent', 'ShoppingMallPercent', 'SpaPercent','VRDeckPercent'].fillna(0, inplace = True)"
   ]
  }
 ],
 "metadata": {
  "kernelspec": {
   "display_name": "Python 3 (ipykernel)",
   "language": "python",
   "name": "python3"
  },
  "language_info": {
   "codemirror_mode": {
    "name": "ipython",
    "version": 3
   },
   "file_extension": ".py",
   "mimetype": "text/x-python",
   "name": "python",
   "nbconvert_exporter": "python",
   "pygments_lexer": "ipython3",
   "version": "3.9.13"
  }
 },
 "nbformat": 4,
 "nbformat_minor": 2
}

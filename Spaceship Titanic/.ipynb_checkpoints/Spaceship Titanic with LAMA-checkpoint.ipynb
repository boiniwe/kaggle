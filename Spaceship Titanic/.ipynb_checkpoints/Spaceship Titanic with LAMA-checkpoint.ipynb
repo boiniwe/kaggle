{
 "cells": [
  {
   "cell_type": "markdown",
   "metadata": {},
   "source": [
    "# Spaceship Titanic"
   ]
  },
  {
   "cell_type": "markdown",
   "metadata": {},
   "source": [
    "https://www.kaggle.com/competitions/spaceship-titanic"
   ]
  },
  {
   "cell_type": "code",
   "execution_count": 1,
   "metadata": {},
   "outputs": [],
   "source": [
    "import numpy as np\n",
    "import pandas as pd\n",
    "import seaborn as sns\n",
    "import matplotlib.pyplot as plt"
   ]
  },
  {
   "cell_type": "code",
   "execution_count": 2,
   "metadata": {},
   "outputs": [],
   "source": [
    "# !pip install lightautoml"
   ]
  },
  {
   "cell_type": "code",
   "execution_count": 3,
   "metadata": {},
   "outputs": [],
   "source": [
    "# LightAutoML presets, task and report generation\n",
    "from lightautoml.automl.presets.tabular_presets import TabularAutoML, TabularUtilizedAutoML\n",
    "from lightautoml.tasks import Task\n",
    "from lightautoml.report.report_deco import ReportDeco\n",
    "from sklearn.ensemble import StackingClassifier\n",
    "from xgboost import XGBClassifier\n",
    "from catboost import CatBoostRegressor, Pool\n",
    "from sklearn.preprocessing import LabelEncoder\n",
    "from sklearn.model_selection import train_test_split\n",
    "from sklearn.metrics import mean_squared_error, accuracy_score, r2_score"
   ]
  },
  {
   "cell_type": "markdown",
   "metadata": {},
   "source": [
    "PassengerId - A unique Id for each passenger. Each Id takes the form gggg_pp \n",
    "    where gggg indicates a group the passenger is travelling with and pp is their number within the group.\n",
    "People in a group are often family members, but not always.\n",
    "HomePlanet - The planet the passenger departed from, typically their planet of permanent residence.\n",
    "CryoSleep - Indicates whether the passenger elected to be put into suspended animation \n",
    "    for the duration of the voyage. Passengers in cryosleep are confined to their cabins.\n",
    "Cabin - The cabin number where the passenger is staying. Takes the form deck/num/side, \n",
    "    where side can be either P for Port or S for Starboard.\n",
    "Destination - The planet the passenger will be debarking to.\n",
    "Age - The age of the passenger.\n",
    "VIP - Whether the passenger has paid for special VIP service during the voyage.\n",
    "RoomService, FoodCourt, ShoppingMall, Spa, VRDeck - Amount the passenger has billed at \n",
    "    each of the Spaceship Titanic's many luxury amenities.\n",
    "Name - The first and last names of the passenger.\n",
    "Transported - Whether the passenger was transported to another dimension. \n",
    "    This is the target, the column you are trying to predict.\n",
    "test.csv - Personal records for the remaining one-third (~4300) of the passengers, \n",
    "    to be used as test data. Your task is to predict the value of Transported for the passengers in this set."
   ]
  },
  {
   "cell_type": "code",
   "execution_count": 4,
   "metadata": {},
   "outputs": [
    {
     "name": "stdout",
     "output_type": "stream",
     "text": [
      "(8693, 14) (4277, 13) (12970, 14)\n"
     ]
    }
   ],
   "source": [
    "train_dataset = pd.read_csv('train.csv')\n",
    "# making test dataset\n",
    "test_dataset = pd.read_csv('test.csv') \n",
    "\n",
    "all_data = pd.concat([train_dataset, test_dataset], ignore_index=True)\n",
    "print(train_dataset.shape, test_dataset.shape, all_data.shape)"
   ]
  },
  {
   "cell_type": "code",
   "execution_count": 8,
   "metadata": {},
   "outputs": [
    {
     "data": {
      "text/plain": [
       "7513"
      ]
     },
     "execution_count": 8,
     "metadata": {},
     "output_type": "execute_result"
    }
   ],
   "source": [
    "all_data['total_expenses'] = all_data[['RoomService', 'FoodCourt', \n",
    "                                                 'ShoppingMall', 'Spa', 'VRDeck']].sum(axis=1)\n",
    "len(all_data[all_data.total_expenses != 0])"
   ]
  },
  {
   "cell_type": "code",
   "execution_count": null,
   "metadata": {},
   "outputs": [],
   "source": [
    "all_data"
   ]
  },
  {
   "cell_type": "code",
   "execution_count": 199,
   "metadata": {},
   "outputs": [
    {
     "name": "stdout",
     "output_type": "stream",
     "text": [
      "<class 'pandas.core.frame.DataFrame'>\n",
      "RangeIndex: 12970 entries, 0 to 12969\n",
      "Data columns (total 14 columns):\n",
      "Age             12700 non-null float64\n",
      "Cabin           12671 non-null object\n",
      "CryoSleep       12660 non-null object\n",
      "Destination     12696 non-null object\n",
      "FoodCourt       12681 non-null float64\n",
      "HomePlanet      12682 non-null object\n",
      "Name            12676 non-null object\n",
      "PassengerId     12970 non-null object\n",
      "RoomService     12707 non-null float64\n",
      "ShoppingMall    12664 non-null float64\n",
      "Spa             12686 non-null float64\n",
      "Transported     8693 non-null object\n",
      "VIP             12674 non-null object\n",
      "VRDeck          12702 non-null float64\n",
      "dtypes: float64(6), object(8)\n",
      "memory usage: 1.4+ MB\n"
     ]
    }
   ],
   "source": [
    "all_data.info()"
   ]
  },
  {
   "cell_type": "markdown",
   "metadata": {},
   "source": [
    "## Some ideas for features"
   ]
  },
  {
   "cell_type": "code",
   "execution_count": null,
   "metadata": {},
   "outputs": [],
   "source": [
    "# gggg_pp parse it     \n",
    "    # where gggg indicates a group the passenger is travelling with and pp is their number within the group.\n",
    "    # People in a group are often family members, but not always.\n",
    "\n",
    "1. percent of survavils per groupe\n",
    "2. number of persons in groupe\n",
    "3. check of groups simularities in train/test\n",
    "4. Family groupe flag  #split Name for surname\n",
    "5. \n",
    "Cabin - The cabin number where the passenger is staying. Takes the form deck/num/side, \n",
    "    where side can be either P for Port or S for Starboard."
   ]
  },
  {
   "cell_type": "code",
   "execution_count": 76,
   "metadata": {},
   "outputs": [
    {
     "data": {
      "text/plain": [
       "array(['B/0/P', 'F/0/S', 'A/0/S', ..., 'G/1499/S', 'G/1500/S', 'E/608/S'],\n",
       "      dtype=object)"
      ]
     },
     "execution_count": 76,
     "metadata": {},
     "output_type": "execute_result"
    }
   ],
   "source": [
    "train_dataset.Cabin.unique()  "
   ]
  },
  {
   "cell_type": "markdown",
   "metadata": {},
   "source": [
    "# Filling NA with predictions"
   ]
  },
  {
   "cell_type": "code",
   "execution_count": 8,
   "metadata": {},
   "outputs": [],
   "source": [
    "# all_data.info()"
   ]
  },
  {
   "cell_type": "code",
   "execution_count": 28,
   "metadata": {},
   "outputs": [
    {
     "name": "stdout",
     "output_type": "stream",
     "text": [
      "(8693, 14) (4277, 13) (12970, 14)\n"
     ]
    }
   ],
   "source": [
    "train_dataset = pd.read_csv('train.csv')\n",
    "# making test dataset\n",
    "test_dataset = pd.read_csv('test.csv') \n",
    "\n",
    "all_data = pd.concat([train_dataset, test_dataset], ignore_index=True)\n",
    "print(train_dataset.shape, test_dataset.shape, all_data.shape)"
   ]
  },
  {
   "cell_type": "code",
   "execution_count": 29,
   "metadata": {},
   "outputs": [],
   "source": [
    "# # Expenses\n",
    "# all_data['total_expenses'] = all_data[['RoomService', 'FoodCourt', \n",
    "#                                                  'ShoppingMall', 'Spa', 'VRDeck']].sum(axis=1)\n",
    "\n",
    "# all_data['RoomServicePercent'] = all_data['RoomService'] / all_data['total_expenses']\n",
    "# all_data['FoodCourtPercent'] = all_data['FoodCourt'] / all_data['total_expenses']\n",
    "# all_data['ShoppingMallPercent'] = all_data['ShoppingMall'] / all_data['total_expenses']\n",
    "# all_data['SpaPercent'] = all_data['Spa'] / all_data['total_expenses']\n",
    "# all_data['VRDeckPercent'] = all_data['VRDeck'] / all_data['total_expenses']"
   ]
  },
  {
   "cell_type": "code",
   "execution_count": 30,
   "metadata": {},
   "outputs": [],
   "source": [
    "all_data['Destination'] = all_data['Destination'].fillna('None')\n",
    "all_data['HomePlanet'] = all_data['HomePlanet'].fillna('None')\n",
    "all_data['deck'] = all_data['HomePlanet'].fillna('None')\n",
    "all_data['side'] = all_data['HomePlanet'].fillna('None')\n",
    "\n",
    "# Spliting few columns\n",
    "all_data[['deck', 'num', 'side']] = all_data.Cabin.str.split('/', 2, expand=True)\n",
    "all_data[['deck', 'num', 'side']] = all_data.Cabin.str.split('/', 2, expand=True)\n",
    "\n",
    "# person's group and number\n",
    "all_data[['p_group', 'p_num']] = all_data.PassengerId.str.split('_', 1, expand=True) \n",
    "\n",
    "# number of members in a group and cabin\n",
    "all_data['group_members'] = all_data.groupby('p_group')['p_group'].transform('count')\n",
    "all_data['ppl_in_cabin'] = all_data.groupby('num')['num'].transform('count')\n",
    "\n",
    "# filling some NA\n",
    "all_data['no_name'] = all_data['Name'].isna()\n",
    "all_data['Age'] = all_data['Age'].fillna(np.mean(all_data['Age']))\n",
    "all_data['ppl_in_cabin'] = all_data['ppl_in_cabin'].fillna(np.mean(all_data['ppl_in_cabin']))\n",
    "\n",
    "all_data[['p_name', 'surname']] = all_data.Name.str.split(' ', 1, expand=True)"
   ]
  },
  {
   "cell_type": "code",
   "execution_count": 31,
   "metadata": {},
   "outputs": [],
   "source": [
    "# filling NA for Familys and VIP, HomePlanet\n",
    "for i in range(0, len(all_data)):\n",
    "    if all_data.loc[i, ['Cabin']].isna().any() == True:\n",
    "        if all_data.loc[i, ['surname']].any() == all_data.loc[i + 1, ['surname']].any():    \n",
    "            all_data.loc[i, ['Cabin']] = all_data.loc[i, ['Cabin']].fillna(all_data.loc[i + 1, ['Cabin']])\n",
    "            \n",
    "        elif all_data.loc[i, ['surname']].any() == all_data.loc[i -1, ['surname']].any():\n",
    "            all_data.loc[i, ['Cabin']] = all_data.loc[i, ['Cabin']].fillna(all_data.loc[i -1, ['Cabin']])\n",
    "            \n",
    "for i in range(0, len(all_data)):\n",
    "    if all_data.loc[i, ['VIP']].isna().any() == True:\n",
    "        if all_data.loc[i, ['surname']].any() == all_data.loc[i + 1, ['surname']].any():    \n",
    "            all_data.loc[i, ['VIP']] = all_data.loc[i, ['VIP']].fillna(all_data.loc[i + 1, ['VIP']])\n",
    "            \n",
    "        elif all_data.loc[i, ['surname']].any() == all_data.loc[i -1, ['surname']].any():\n",
    "            all_data.loc[i, ['VIP']] = all_data.loc[i, ['VIP']].fillna(all_data.loc[i -1, ['VIP']])   \n",
    "\n",
    "for i in range(0, len(all_data)):\n",
    "    if all_data.loc[i, ['HomePlanet']].isna().any() == True:\n",
    "        if all_data.loc[i, ['surname']].any() == all_data.loc[i + 1, ['surname']].any():    \n",
    "            all_data.loc[i, ['HomePlanet']] = all_data.loc[i, ['HomePlanet']].fillna(all_data.loc[i + 1, ['HomePlanet']])\n",
    "            \n",
    "        elif all_data.loc[i, ['surname']].any() == all_data.loc[i -1, ['surname']].any():\n",
    "            all_data.loc[i, ['HomePlanet']] = all_data.loc[i, ['HomePlanet']].fillna(all_data.loc[i -1, ['HomePlanet']])             "
   ]
  },
  {
   "cell_type": "code",
   "execution_count": 41,
   "metadata": {},
   "outputs": [],
   "source": [
    "# all_data['families_inCab'] = all_data.groupby('Cabin')['surname'].transform('unique')\n",
    "# all_data['families_inCab'] = all_data.families_inCab.str.len().fillna(1)"
   ]
  },
  {
   "cell_type": "code",
   "execution_count": 8,
   "metadata": {},
   "outputs": [],
   "source": [
    "# all_data.info()"
   ]
  },
  {
   "cell_type": "code",
   "execution_count": null,
   "metadata": {},
   "outputs": [],
   "source": [
    "# catfeatures to predict\n",
    "'HomePlanet', 'CryoSleep', 'Destination', 'VIP',\n",
    "# nums to predict \n",
    "'Age', 'RoomService', 'FoodCourt', 'ShoppingMall', 'Spa', 'VRDeck'"
   ]
  },
  {
   "cell_type": "markdown",
   "metadata": {},
   "source": [
    "# Auto predicting num values"
   ]
  },
  {
   "cell_type": "code",
   "execution_count": 6,
   "metadata": {},
   "outputs": [],
   "source": [
    "# all_data.info()"
   ]
  },
  {
   "cell_type": "code",
   "execution_count": 42,
   "metadata": {},
   "outputs": [
    {
     "data": {
      "text/plain": [
       "Index(['PassengerId', 'HomePlanet', 'CryoSleep', 'Cabin', 'Destination', 'Age',\n",
       "       'VIP', 'RoomService', 'FoodCourt', 'ShoppingMall', 'Spa', 'VRDeck',\n",
       "       'Name', 'Transported', 'deck', 'side', 'num', 'p_group', 'p_num',\n",
       "       'group_members', 'ppl_in_cabin', 'no_name', 'p_name', 'surname'],\n",
       "      dtype='object')"
      ]
     },
     "execution_count": 42,
     "metadata": {},
     "output_type": "execute_result"
    }
   ],
   "source": [
    "all_data.columns"
   ]
  },
  {
   "cell_type": "markdown",
   "metadata": {},
   "source": [
    "## Using CatBoost to predict missing values"
   ]
  },
  {
   "cell_type": "code",
   "execution_count": 34,
   "metadata": {},
   "outputs": [
    {
     "name": "stderr",
     "output_type": "stream",
     "text": [
      "<timed exec>:16: SettingWithCopyWarning: \n",
      "A value is trying to be set on a copy of a slice from a DataFrame.\n",
      "Try using .loc[row_indexer,col_indexer] = value instead\n",
      "\n",
      "See the caveats in the documentation: https://pandas.pydata.org/pandas-docs/stable/user_guide/indexing.html#returning-a-view-versus-a-copy\n",
      "<timed exec>:17: SettingWithCopyWarning: \n",
      "A value is trying to be set on a copy of a slice from a DataFrame.\n",
      "Try using .loc[row_indexer,col_indexer] = value instead\n",
      "\n",
      "See the caveats in the documentation: https://pandas.pydata.org/pandas-docs/stable/user_guide/indexing.html#returning-a-view-versus-a-copy\n"
     ]
    },
    {
     "name": "stdout",
     "output_type": "stream",
     "text": [
      "processing  FoodCourt 289 missing values\n",
      "Index(['HomePlanet', 'CryoSleep', 'Destination', 'Age', 'VIP', 'RoomService',\n",
      "       'ShoppingMall', 'Spa', 'VRDeck', 'deck', 'side', 'num', 'p_num',\n",
      "       'group_members', 'ppl_in_cabin', 'no_name'],\n",
      "      dtype='object')\n",
      "Train score: 0.5828401019329074\n",
      "TEST score: 0.33715651105502986 \n",
      "\n",
      "processing  RoomService 263 missing values\n",
      "Index(['HomePlanet', 'CryoSleep', 'Destination', 'Age', 'VIP', 'FoodCourt',\n",
      "       'ShoppingMall', 'Spa', 'VRDeck', 'deck', 'side', 'num', 'p_num',\n",
      "       'group_members', 'ppl_in_cabin', 'no_name'],\n",
      "      dtype='object')\n"
     ]
    },
    {
     "name": "stderr",
     "output_type": "stream",
     "text": [
      "<timed exec>:16: SettingWithCopyWarning: \n",
      "A value is trying to be set on a copy of a slice from a DataFrame.\n",
      "Try using .loc[row_indexer,col_indexer] = value instead\n",
      "\n",
      "See the caveats in the documentation: https://pandas.pydata.org/pandas-docs/stable/user_guide/indexing.html#returning-a-view-versus-a-copy\n",
      "<timed exec>:17: SettingWithCopyWarning: \n",
      "A value is trying to be set on a copy of a slice from a DataFrame.\n",
      "Try using .loc[row_indexer,col_indexer] = value instead\n",
      "\n",
      "See the caveats in the documentation: https://pandas.pydata.org/pandas-docs/stable/user_guide/indexing.html#returning-a-view-versus-a-copy\n"
     ]
    },
    {
     "name": "stdout",
     "output_type": "stream",
     "text": [
      "Train score: 0.4774660160545655\n",
      "TEST score: 0.32690751968805254 \n",
      "\n",
      "processing  ShoppingMall 306 missing values\n",
      "Index(['HomePlanet', 'CryoSleep', 'Destination', 'Age', 'VIP', 'RoomService',\n",
      "       'FoodCourt', 'Spa', 'VRDeck', 'deck', 'side', 'num', 'p_num',\n",
      "       'group_members', 'ppl_in_cabin', 'no_name'],\n",
      "      dtype='object')\n"
     ]
    },
    {
     "name": "stderr",
     "output_type": "stream",
     "text": [
      "<timed exec>:16: SettingWithCopyWarning: \n",
      "A value is trying to be set on a copy of a slice from a DataFrame.\n",
      "Try using .loc[row_indexer,col_indexer] = value instead\n",
      "\n",
      "See the caveats in the documentation: https://pandas.pydata.org/pandas-docs/stable/user_guide/indexing.html#returning-a-view-versus-a-copy\n",
      "<timed exec>:17: SettingWithCopyWarning: \n",
      "A value is trying to be set on a copy of a slice from a DataFrame.\n",
      "Try using .loc[row_indexer,col_indexer] = value instead\n",
      "\n",
      "See the caveats in the documentation: https://pandas.pydata.org/pandas-docs/stable/user_guide/indexing.html#returning-a-view-versus-a-copy\n"
     ]
    },
    {
     "name": "stdout",
     "output_type": "stream",
     "text": [
      "Train score: 0.46974028568446025\n",
      "TEST score: 0.19752862343746247 \n",
      "\n",
      "processing  Spa 284 missing values\n",
      "Index(['HomePlanet', 'CryoSleep', 'Destination', 'Age', 'VIP', 'RoomService',\n",
      "       'FoodCourt', 'ShoppingMall', 'VRDeck', 'deck', 'side', 'num', 'p_num',\n",
      "       'group_members', 'ppl_in_cabin', 'no_name'],\n",
      "      dtype='object')\n"
     ]
    },
    {
     "name": "stderr",
     "output_type": "stream",
     "text": [
      "<timed exec>:16: SettingWithCopyWarning: \n",
      "A value is trying to be set on a copy of a slice from a DataFrame.\n",
      "Try using .loc[row_indexer,col_indexer] = value instead\n",
      "\n",
      "See the caveats in the documentation: https://pandas.pydata.org/pandas-docs/stable/user_guide/indexing.html#returning-a-view-versus-a-copy\n",
      "<timed exec>:17: SettingWithCopyWarning: \n",
      "A value is trying to be set on a copy of a slice from a DataFrame.\n",
      "Try using .loc[row_indexer,col_indexer] = value instead\n",
      "\n",
      "See the caveats in the documentation: https://pandas.pydata.org/pandas-docs/stable/user_guide/indexing.html#returning-a-view-versus-a-copy\n"
     ]
    },
    {
     "name": "stdout",
     "output_type": "stream",
     "text": [
      "Train score: 0.5219139625046267\n",
      "TEST score: 0.20274726782944696 \n",
      "\n",
      "processing  VRDeck 268 missing values\n",
      "Index(['HomePlanet', 'CryoSleep', 'Destination', 'Age', 'VIP', 'RoomService',\n",
      "       'FoodCourt', 'ShoppingMall', 'Spa', 'deck', 'side', 'num', 'p_num',\n",
      "       'group_members', 'ppl_in_cabin', 'no_name'],\n",
      "      dtype='object')\n"
     ]
    },
    {
     "name": "stderr",
     "output_type": "stream",
     "text": [
      "<timed exec>:16: SettingWithCopyWarning: \n",
      "A value is trying to be set on a copy of a slice from a DataFrame.\n",
      "Try using .loc[row_indexer,col_indexer] = value instead\n",
      "\n",
      "See the caveats in the documentation: https://pandas.pydata.org/pandas-docs/stable/user_guide/indexing.html#returning-a-view-versus-a-copy\n",
      "<timed exec>:17: SettingWithCopyWarning: \n",
      "A value is trying to be set on a copy of a slice from a DataFrame.\n",
      "Try using .loc[row_indexer,col_indexer] = value instead\n",
      "\n",
      "See the caveats in the documentation: https://pandas.pydata.org/pandas-docs/stable/user_guide/indexing.html#returning-a-view-versus-a-copy\n"
     ]
    },
    {
     "name": "stdout",
     "output_type": "stream",
     "text": [
      "Train score: 0.5606550287636278\n",
      "TEST score: 0.2937335910955843 \n",
      "\n",
      "Wall time: 2min 4s\n"
     ]
    }
   ],
   "source": [
    "%%time\n",
    "# CatBoost\n",
    "ultimate_target = 'Transported'\n",
    "\n",
    "# predicting num features in order to fulfill NA\n",
    "local_target_list = ['FoodCourt', 'RoomService', 'ShoppingMall', 'Spa', 'VRDeck']\n",
    "\n",
    "\n",
    "for lt in local_target_list:\n",
    "    local_df = all_data[all_data[lt].notna()]\n",
    "    to_predict_df = all_data[all_data[lt].isna()]    \n",
    "    \n",
    "    \n",
    "    to_drop = ['Cabin','Name', 'p_name', 'surname', 'PassengerId', 'p_group']\n",
    "    categ_features = ['Destination', 'HomePlanet', 'deck', 'side', 'CryoSleep', 'VIP', 'no_name']\n",
    "\n",
    "    local_df[categ_features] = local_df[categ_features].astype(str)\n",
    "    to_predict_df[categ_features] = to_predict_df[categ_features].astype(str)\n",
    "\n",
    "    local_df = local_df.drop(columns = to_drop)\n",
    "    to_predict_df = to_predict_df.drop(columns = to_drop)\n",
    "    \n",
    "    \n",
    "\n",
    "    print('processing ', lt, len(to_predict_df), 'missing values')\n",
    "    \n",
    "\n",
    "    trgt = local_df[lt] #будем брать логарифм ?\n",
    "    trn = local_df.drop(columns = [ultimate_target, lt])#, 'total_expenses'])\n",
    "    \n",
    "    to_predict_df = to_predict_df.drop(columns=[ultimate_target, lt])\n",
    "\n",
    "    X_tr, X_te, y_tr, y_te = train_test_split(trn, trgt)# local_df, local_df[local_target]\n",
    "    #     Pool is CatBoost object for fitting\n",
    "    print(X_tr.columns)\n",
    "    train_dataset_loc = Pool(data = X_tr,\n",
    "                         label = y_tr,\n",
    "                         cat_features=categ_features)\n",
    "\n",
    "    eval_dataset_loc = Pool(data = X_te,\n",
    "                         label = y_te,\n",
    "                        cat_features=categ_features)\n",
    "    #     Fitting CatBoost\n",
    "    cat_reg_model = CatBoostRegressor(max_depth=4, n_estimators = 1000)\n",
    "    cat_reg_model.fit(train_dataset_loc, verbose=False)\n",
    "\n",
    "#   \n",
    "    \n",
    "#     globals()['tr_pred1_%s' % lt] = automl_loc.predict(X_tr)\n",
    "#     globals()['te_pred1_%s' % lt] = automl_loc.predict(X_te)\n",
    "    tr_loc_pred = cat_reg_model.predict(train_dataset_loc)\n",
    "    te_loc_pred = cat_reg_model.predict(eval_dataset_loc)\n",
    "    \n",
    "    print(f'Train score: {r2_score(y_tr, tr_loc_pred)}')\n",
    "    \n",
    "    print(f'TEST score: {r2_score(y_te, te_loc_pred)}', '\\n')  \n",
    "\n",
    "    globals()['fin_pred_%s' % lt] = cat_reg_model.predict(to_predict_df)\n",
    "    \n",
    "    rep_df = pd.DataFrame(globals()[\"fin_pred_\" + str(lt)]#.data[:, 0]\n",
    "                          , index = all_data[all_data[lt].isna()].loc[:,[lt]].index, columns = ['pred_values'])\n",
    "    \n",
    "#     -----------------------------------------------------------\n",
    "#    insertion\n",
    "    all_data[lt].fillna(rep_df['pred_values'], inplace = True)    "
   ]
  },
  {
   "cell_type": "markdown",
   "metadata": {},
   "source": [
    "## Quality is not good enough, but generally works"
   ]
  },
  {
   "cell_type": "code",
   "execution_count": 14,
   "metadata": {},
   "outputs": [],
   "source": [
    "# Expenses\n",
    "all_data['total_expenses'] = all_data[['RoomService', 'FoodCourt', \n",
    "                                                 'ShoppingMall', 'Spa', 'VRDeck']].sum(axis=1)\n",
    "\n",
    "all_data['RoomServicePercent'] = all_data['RoomService'] / all_data['total_expenses']\n",
    "all_data['FoodCourtPercent'] = all_data['FoodCourt'] / all_data['total_expenses']\n",
    "all_data['ShoppingMallPercent'] = all_data['ShoppingMall'] / all_data['total_expenses']\n",
    "all_data['SpaPercent'] = all_data['Spa'] / all_data['total_expenses']\n",
    "all_data['VRDeckPercent'] = all_data['VRDeck'] / all_data['total_expenses']\n",
    "# all_data[['RoomServicePercent','FoodCourtPercent','ShoppingMallPercent','SpaPercent','VRDeckPercent']].fillna(\n",
    "#     0, inplace=True)"
   ]
  },
  {
   "cell_type": "code",
   "execution_count": 18,
   "metadata": {},
   "outputs": [],
   "source": [
    "all_data['Age'] = all_data['Age'].fillna(np.mean(all_data['Age']))\n",
    "all_data['ppl_in_cabin'] = all_data['ppl_in_cabin'].fillna(np.mean(all_data['ppl_in_cabin']))\n",
    "\n",
    "temp_df = all_data[(all_data.VIP.isna()) & (all_data.total_expenses >= 4690)][['VIP']].fillna(True)\n",
    "all_data['VIP'].fillna(temp_df['VIP'], inplace = True)    \n",
    "all_data['VIP'].fillna(False, inplace = True)  "
   ]
  },
  {
   "cell_type": "code",
   "execution_count": 77,
   "metadata": {},
   "outputs": [
    {
     "name": "stdout",
     "output_type": "stream",
     "text": [
      "<class 'pandas.core.frame.DataFrame'>\n",
      "RangeIndex: 12970 entries, 0 to 12969\n",
      "Data columns (total 30 columns):\n",
      " #   Column               Non-Null Count  Dtype  \n",
      "---  ------               --------------  -----  \n",
      " 0   PassengerId          12970 non-null  object \n",
      " 1   HomePlanet           12970 non-null  object \n",
      " 2   CryoSleep            12660 non-null  object \n",
      " 3   Cabin                12962 non-null  object \n",
      " 4   Destination          12970 non-null  object \n",
      " 5   Age                  12970 non-null  float64\n",
      " 6   VIP                  12960 non-null  object \n",
      " 7   RoomService          12970 non-null  float64\n",
      " 8   FoodCourt            12970 non-null  float64\n",
      " 9   ShoppingMall         12970 non-null  float64\n",
      " 10  Spa                  12970 non-null  float64\n",
      " 11  VRDeck               12970 non-null  float64\n",
      " 12  Name                 12676 non-null  object \n",
      " 13  Transported          8693 non-null   object \n",
      " 14  deck                 12671 non-null  object \n",
      " 15  side                 12671 non-null  object \n",
      " 16  num                  12671 non-null  object \n",
      " 17  p_group              12970 non-null  object \n",
      " 18  p_num                12970 non-null  object \n",
      " 19  group_members        12970 non-null  int64  \n",
      " 20  ppl_in_cabin         12970 non-null  float64\n",
      " 21  no_name              12970 non-null  bool   \n",
      " 22  p_name               12676 non-null  object \n",
      " 23  surname              12676 non-null  object \n",
      " 24  total_expenses       12970 non-null  float64\n",
      " 25  RoomServicePercent   8112 non-null   float64\n",
      " 26  FoodCourtPercent     8112 non-null   float64\n",
      " 27  ShoppingMallPercent  8112 non-null   float64\n",
      " 28  SpaPercent           8112 non-null   float64\n",
      " 29  VRDeckPercent        8112 non-null   float64\n",
      "dtypes: bool(1), float64(13), int64(1), object(15)\n",
      "memory usage: 2.9+ MB\n"
     ]
    }
   ],
   "source": [
    "all_data.info()"
   ]
  },
  {
   "cell_type": "markdown",
   "metadata": {},
   "source": [
    "# Start with traditional approach"
   ]
  },
  {
   "cell_type": "code",
   "execution_count": 5,
   "metadata": {},
   "outputs": [
    {
     "name": "stdout",
     "output_type": "stream",
     "text": [
      "(8693, 14) (4277, 13) (12970, 14)\n"
     ]
    }
   ],
   "source": [
    "train_dataset = pd.read_csv('train.csv')\n",
    "# making test dataset\n",
    "test_dataset = pd.read_csv('test.csv') \n",
    "\n",
    "all_data = pd.concat([train_dataset, test_dataset], ignore_index=True)\n",
    "print(train_dataset.shape, test_dataset.shape, all_data.shape)"
   ]
  },
  {
   "cell_type": "code",
   "execution_count": 6,
   "metadata": {},
   "outputs": [],
   "source": [
    "# filling with mean spendings by vip-status\n",
    "all_data['VRDeck'] = all_data['VRDeck'].fillna(all_data.groupby('VIP')['VRDeck'].transform('mean'))\n",
    "all_data['RoomService'] = all_data['RoomService'].fillna(all_data.groupby('VIP')['RoomService'].transform('mean'))\n",
    "all_data['ShoppingMall'] = all_data['ShoppingMall'].fillna(all_data.groupby('VIP')['ShoppingMall'].transform('mean'))\n",
    "all_data['Spa'] = all_data['Spa'].fillna(all_data.groupby('VIP')['Spa'].transform('mean'))\n",
    "all_data['FoodCourt'] = all_data['FoodCourt'].fillna(all_data.groupby('VIP')['FoodCourt'].transform('mean'))"
   ]
  },
  {
   "cell_type": "code",
   "execution_count": 7,
   "metadata": {},
   "outputs": [],
   "source": [
    "# all_data.info() "
   ]
  },
  {
   "cell_type": "code",
   "execution_count": 8,
   "metadata": {},
   "outputs": [],
   "source": [
    "# Expenses\n",
    "all_data['total_expenses'] = all_data[['RoomService', 'FoodCourt', \n",
    "                                                 'ShoppingMall', 'Spa', 'VRDeck']].sum(axis=1)\n",
    "\n",
    "all_data['RoomServicePercent'] = all_data['RoomService'] / all_data['total_expenses']\n",
    "all_data['FoodCourtPercent'] = all_data['FoodCourt'] / all_data['total_expenses']\n",
    "all_data['ShoppingMallPercent'] = all_data['ShoppingMall'] / all_data['total_expenses']\n",
    "all_data['SpaPercent'] = all_data['Spa'] / all_data['total_expenses']\n",
    "all_data['VRDeckPercent'] = all_data['VRDeck'] / all_data['total_expenses']\n",
    "\n",
    "\n",
    "all_data[['RoomServicePercent', 'FoodCourtPercent', 'ShoppingMallPercent','SpaPercent'\n",
    "         , 'VRDeckPercent']] = all_data[['RoomServicePercent', 'FoodCourtPercent', \n",
    "                            'ShoppingMallPercent','SpaPercent', 'VRDeckPercent']].fillna(0)\n",
    "\n",
    "all_data['Destination'] = all_data['Destination'].fillna('None')\n",
    "# \n",
    "all_data[['p_name', 'surname']] = all_data.Name.str.split(' ', 1, expand=True)"
   ]
  },
  {
   "cell_type": "code",
   "execution_count": 9,
   "metadata": {},
   "outputs": [],
   "source": [
    "# all_data['families_inCab'].value_counts()"
   ]
  },
  {
   "cell_type": "code",
   "execution_count": 11,
   "metadata": {},
   "outputs": [],
   "source": [
    "# all_data[['p_name', 'surname']] = all_data.Name.str.split(' ', 1, expand=True)\n",
    "# all_data['families_inCab'] = all_data.groupby('Cabin')['surname'].transform('unique')\n",
    "# all_data['families_inCab'] = all_data.families_inCab.str.len().fillna(1)"
   ]
  },
  {
   "cell_type": "code",
   "execution_count": 12,
   "metadata": {},
   "outputs": [],
   "source": [
    "# filling NA for Familys and VIP, HomePlanet\n",
    "for i in range(0, len(all_data)):\n",
    "    if all_data.loc[i, ['Cabin']].isna().any() == True:\n",
    "        if all_data.loc[i, ['surname']].any() == all_data.loc[i + 1, ['surname']].any():    \n",
    "            all_data.loc[i, ['Cabin']] = all_data.loc[i, ['Cabin']].fillna(all_data.loc[i + 1, ['Cabin']])\n",
    "            \n",
    "        elif all_data.loc[i, ['surname']].any() == all_data.loc[i -1, ['surname']].any():\n",
    "            all_data.loc[i, ['Cabin']] = all_data.loc[i, ['Cabin']].fillna(all_data.loc[i -1, ['Cabin']])\n",
    "            \n",
    "for i in range(0, len(all_data)):\n",
    "    if all_data.loc[i, ['VIP']].isna().any() == True:\n",
    "        if all_data.loc[i, ['surname']].any() == all_data.loc[i + 1, ['surname']].any():    \n",
    "            all_data.loc[i, ['VIP']] = all_data.loc[i, ['VIP']].fillna(all_data.loc[i + 1, ['VIP']])\n",
    "            \n",
    "        elif all_data.loc[i, ['surname']].any() == all_data.loc[i -1, ['surname']].any():\n",
    "            all_data.loc[i, ['VIP']] = all_data.loc[i, ['VIP']].fillna(all_data.loc[i -1, ['VIP']])   \n",
    "\n",
    "for i in range(0, len(all_data)):\n",
    "    if all_data.loc[i, ['HomePlanet']].isna().any() == True:\n",
    "        if all_data.loc[i, ['surname']].any() == all_data.loc[i + 1, ['surname']].any():    \n",
    "            all_data.loc[i, ['HomePlanet']] = all_data.loc[i, ['HomePlanet']].fillna(all_data.loc[i + 1, ['HomePlanet']])\n",
    "            \n",
    "        elif all_data.loc[i, ['surname']].any() == all_data.loc[i -1, ['surname']].any():\n",
    "            all_data.loc[i, ['HomePlanet']] = all_data.loc[i, ['HomePlanet']].fillna(all_data.loc[i -1, ['HomePlanet']])             "
   ]
  },
  {
   "cell_type": "code",
   "execution_count": 48,
   "metadata": {},
   "outputs": [
    {
     "name": "stdout",
     "output_type": "stream",
     "text": [
      "<class 'pandas.core.frame.DataFrame'>\n",
      "RangeIndex: 12970 entries, 0 to 12969\n",
      "Data columns (total 30 columns):\n",
      " #   Column               Non-Null Count  Dtype  \n",
      "---  ------               --------------  -----  \n",
      " 0   PassengerId          12970 non-null  object \n",
      " 1   HomePlanet           12970 non-null  object \n",
      " 2   CryoSleep            12660 non-null  object \n",
      " 3   Cabin                12966 non-null  object \n",
      " 4   Destination          12970 non-null  object \n",
      " 5   Age                  12970 non-null  float64\n",
      " 6   VIP                  12970 non-null  bool   \n",
      " 7   RoomService          12970 non-null  float64\n",
      " 8   FoodCourt            12970 non-null  float64\n",
      " 9   ShoppingMall         12970 non-null  float64\n",
      " 10  Spa                  12970 non-null  float64\n",
      " 11  VRDeck               12970 non-null  float64\n",
      " 12  Name                 12676 non-null  object \n",
      " 13  Transported          8693 non-null   object \n",
      " 14  total_expenses       12970 non-null  float64\n",
      " 15  RoomServicePercent   12970 non-null  float64\n",
      " 16  FoodCourtPercent     12970 non-null  float64\n",
      " 17  ShoppingMallPercent  12970 non-null  float64\n",
      " 18  SpaPercent           12970 non-null  float64\n",
      " 19  VRDeckPercent        12970 non-null  float64\n",
      " 20  p_name               12676 non-null  object \n",
      " 21  surname              12676 non-null  object \n",
      " 22  deck                 12970 non-null  object \n",
      " 23  num                  12962 non-null  object \n",
      " 24  side                 12970 non-null  object \n",
      " 25  p_group              12970 non-null  object \n",
      " 26  p_num                12970 non-null  object \n",
      " 27  group_members        12970 non-null  int64  \n",
      " 28  ppl_in_cabin         12970 non-null  float64\n",
      " 29  no_name              12970 non-null  bool   \n",
      "dtypes: bool(2), float64(13), int64(1), object(14)\n",
      "memory usage: 2.8+ MB\n"
     ]
    }
   ],
   "source": [
    "all_data.info()"
   ]
  },
  {
   "cell_type": "code",
   "execution_count": 13,
   "metadata": {},
   "outputs": [],
   "source": [
    "# Spliting few columns\n",
    "all_data[['deck', 'num', 'side']] = all_data.Cabin.str.split('/', 2, expand=True)\n",
    "all_data[['deck', 'num', 'side']] = all_data.Cabin.str.split('/', 2, expand=True)\n",
    "\n",
    "all_data['deck'] = all_data['deck'].fillna('None')\n",
    "all_data['side'] = all_data['side'].fillna('None')\n",
    "\n",
    "all_data[['p_group', 'p_num']] = all_data.PassengerId.str.split('_', 1, expand=True) \n",
    "\n",
    "all_data['group_members'] = all_data.groupby('p_group')['PassengerId'].transform('nunique')\n",
    "all_data['ppl_in_cabin'] = all_data.groupby('Cabin')['PassengerId'].transform('nunique')\n",
    "\n",
    "all_data['no_name'] = all_data['Name'].isna()"
   ]
  },
  {
   "cell_type": "code",
   "execution_count": 14,
   "metadata": {},
   "outputs": [],
   "source": [
    "all_data['Age'] = all_data['Age'].fillna(np.mean(all_data['Age']))\n",
    "all_data['ppl_in_cabin'] = all_data['ppl_in_cabin'].fillna(np.mean(all_data['ppl_in_cabin']))\n",
    "\n",
    "temp_df = all_data[(all_data.VIP.isna()) & (all_data.total_expenses >= 4690)][['VIP']].fillna(True)\n",
    "all_data['VIP'].fillna(temp_df['VIP'], inplace = True)    \n",
    "all_data['VIP'].fillna(False, inplace = True)  "
   ]
  },
  {
   "cell_type": "code",
   "execution_count": 15,
   "metadata": {},
   "outputs": [],
   "source": [
    "# filling with mean spendings by vip-status again\n",
    "all_data['VRDeck'] = all_data['VRDeck'].fillna(all_data.groupby('VIP')['VRDeck'].transform('mean'))\n",
    "all_data['RoomService'] = all_data['RoomService'].fillna(all_data.groupby('VIP')['RoomService'].transform('mean'))\n",
    "all_data['ShoppingMall'] = all_data['ShoppingMall'].fillna(all_data.groupby('VIP')['ShoppingMall'].transform('mean'))\n",
    "all_data['Spa'] = all_data['Spa'].fillna(all_data.groupby('VIP')['Spa'].transform('mean'))\n",
    "all_data['FoodCourt'] = all_data['FoodCourt'].fillna(all_data.groupby('VIP')['FoodCourt'].transform('mean'))\n",
    "\n",
    "# Expenses again\n",
    "all_data['total_expenses'] = all_data[['RoomService', 'FoodCourt', \n",
    "                                                 'ShoppingMall', 'Spa', 'VRDeck']].sum(axis=1)\n",
    "\n",
    "all_data['RoomServicePercent'] = all_data['RoomService'] / all_data['total_expenses']\n",
    "all_data['FoodCourtPercent'] = all_data['FoodCourt'] / all_data['total_expenses']\n",
    "all_data['ShoppingMallPercent'] = all_data['ShoppingMall'] / all_data['total_expenses']\n",
    "all_data['SpaPercent'] = all_data['Spa'] / all_data['total_expenses']\n",
    "all_data['VRDeckPercent'] = all_data['VRDeck'] / all_data['total_expenses']\n",
    "\n",
    "\n",
    "all_data[['RoomServicePercent', 'FoodCourtPercent', 'ShoppingMallPercent','SpaPercent'\n",
    "         , 'VRDeckPercent']] = all_data[['RoomServicePercent', 'FoodCourtPercent', \n",
    "                            'ShoppingMallPercent','SpaPercent', 'VRDeckPercent']].fillna(0)\n",
    "all_data['HomePlanet'] = all_data['HomePlanet'].fillna('None')"
   ]
  },
  {
   "cell_type": "code",
   "execution_count": 385,
   "metadata": {},
   "outputs": [],
   "source": [
    "# all_data.loc[12947:12952, ['Name', 'HomePlanet', 'Age', 'Cabin', 'CryoSleep', 'Destination', 'Transported']]"
   ]
  },
  {
   "cell_type": "code",
   "execution_count": 16,
   "metadata": {
    "scrolled": true
   },
   "outputs": [],
   "source": [
    "# Just mean for those who didn't has VIP-stat value\n",
    "all_data[['total_expenses','RoomService', 'FoodCourt', 'ShoppingMall', 'Spa', 'VRDeck', 'RoomServicePercent',\n",
    "              'FoodCourtPercent', 'ShoppingMallPercent', 'SpaPercent','VRDeckPercent']] = all_data[[\n",
    "    'total_expenses','RoomService', 'FoodCourt', 'ShoppingMall', 'Spa', 'VRDeck', 'RoomServicePercent',\n",
    "              'FoodCourtPercent', 'ShoppingMallPercent', 'SpaPercent','VRDeckPercent']].fillna(\n",
    "    all_data[['total_expenses','RoomService', 'FoodCourt', 'ShoppingMall', 'Spa', 'VRDeck', 'RoomServicePercent',\n",
    "              'FoodCourtPercent', 'ShoppingMallPercent', 'SpaPercent','VRDeckPercent']].mean())"
   ]
  },
  {
   "cell_type": "code",
   "execution_count": 67,
   "metadata": {},
   "outputs": [
    {
     "data": {
      "text/plain": [
       "Index(['Age', 'Cabin', 'CryoSleep', 'Destination', 'FoodCourt', 'HomePlanet',\n",
       "       'Name', 'PassengerId', 'RoomService', 'ShoppingMall', 'Spa',\n",
       "       'Transported', 'VIP', 'VRDeck', 'total_expenses', 'RoomServicePercent',\n",
       "       'FoodCourtPercent', 'ShoppingMallPercent', 'SpaPercent',\n",
       "       'VRDeckPercent', 'deck', 'side', 'p_name', 'surname', 'families_inCab',\n",
       "       'num', 'p_group', 'p_num', 'group_members', 'ppl_in_cabin', 'no_name'],\n",
       "      dtype='object')"
      ]
     },
     "execution_count": 67,
     "metadata": {},
     "output_type": "execute_result"
    }
   ],
   "source": [
    "all_data.columns"
   ]
  },
  {
   "cell_type": "code",
   "execution_count": 17,
   "metadata": {},
   "outputs": [],
   "source": [
    "to_drop = ['Cabin','Name', 'p_name', 'surname', 'PassengerId', 'p_group']\n",
    "# categorical features for catboost\n",
    "categ_features = ['Destination', 'HomePlanet', 'deck', 'side', 'CryoSleep', 'VIP', 'no_name']"
   ]
  },
  {
   "cell_type": "code",
   "execution_count": 18,
   "metadata": {},
   "outputs": [],
   "source": [
    "all_data[categ_features] = all_data[categ_features].astype(str)\n",
    "# all_data = all_data.drop(to_drop, axis = 1)"
   ]
  },
  {
   "cell_type": "code",
   "execution_count": 19,
   "metadata": {},
   "outputs": [
    {
     "name": "stdout",
     "output_type": "stream",
     "text": [
      "(8693, 30) (4277, 30)\n"
     ]
    },
    {
     "name": "stderr",
     "output_type": "stream",
     "text": [
      "C:\\Users\\admin\\AppData\\Local\\Temp\\ipykernel_6844\\1345896546.py:4: SettingWithCopyWarning: \n",
      "A value is trying to be set on a copy of a slice from a DataFrame.\n",
      "Try using .loc[row_indexer,col_indexer] = value instead\n",
      "\n",
      "See the caveats in the documentation: https://pandas.pydata.org/pandas-docs/stable/user_guide/indexing.html#returning-a-view-versus-a-copy\n",
      "  train_df['Transported']= le.fit_transform(train_df['Transported'])\n"
     ]
    }
   ],
   "source": [
    "train_df = all_data[all_data['Transported'].notna()]\n",
    "\n",
    "le = LabelEncoder()\n",
    "train_df['Transported']= le.fit_transform(train_df['Transported'])\n",
    "\n",
    "test_df = all_data[all_data['Transported'].isna()]\n",
    "print(train_df.shape, test_df.shape)"
   ]
  },
  {
   "cell_type": "markdown",
   "metadata": {},
   "source": [
    "## Memory reduction"
   ]
  },
  {
   "cell_type": "code",
   "execution_count": 20,
   "metadata": {},
   "outputs": [],
   "source": [
    "for col in all_data.columns:\n",
    "    if all_data[col].dtype=='float64': all_data[col] = all_data[col].astype('float32')\n",
    "    if all_data[col].dtype=='int64': all_data[col] = all_data[col].astype('int32')"
   ]
  },
  {
   "cell_type": "code",
   "execution_count": 21,
   "metadata": {},
   "outputs": [],
   "source": [
    "all_data[col],_ = all_data[col].factorize()\n",
    "for i in all_data.columns:\n",
    "    if all_data[col].max()<128: all_data[col] = all_data[col].astype('int8')\n",
    "    elif all_data[col].max()<32768: all_data[col] = all_data[col].astype('int16')\n",
    "    else: all_data[col].astype('int32')"
   ]
  },
  {
   "cell_type": "code",
   "execution_count": 22,
   "metadata": {},
   "outputs": [],
   "source": [
    "from sklearn.model_selection import train_test_split, ShuffleSplit\n",
    "from catboost import CatBoostClassifier, Pool\n",
    "from sklearn.metrics import mean_squared_error, accuracy_score\n",
    "from sklearn.preprocessing import PolynomialFeatures"
   ]
  },
  {
   "cell_type": "code",
   "execution_count": 23,
   "metadata": {},
   "outputs": [],
   "source": [
    "N_THREADS = 8\n",
    "N_FOLDS = 4\n",
    "# RANDOM_STATE = 42\n",
    "TEST_SIZE = 0.2\n",
    "# TIMEOUT = 300\n",
    "TARGET_NAME = 'Transported'"
   ]
  },
  {
   "cell_type": "code",
   "execution_count": 24,
   "metadata": {},
   "outputs": [],
   "source": [
    "X_train, X_test, y_train, y_test = train_test_split(train_df\n",
    "                                                    , train_df[TARGET_NAME].astype(bool)\n",
    "#                                                     , shuffle= True\n",
    "#                                                     , stratify=train_df[TARGET_NAME]\n",
    "                                                   )"
   ]
  },
  {
   "cell_type": "code",
   "execution_count": 25,
   "metadata": {},
   "outputs": [],
   "source": [
    "task = Task('binary', metric='accuracy')\n",
    "roles = {'target': TARGET_NAME,\n",
    "#     'drop': ['SK_ID_CURR']\n",
    "}"
   ]
  },
  {
   "cell_type": "code",
   "execution_count": 27,
   "metadata": {},
   "outputs": [],
   "source": [
    "automl = TabularAutoML(\n",
    "    task = task\n",
    "#     ,timeout = TIMEOUT\n",
    "    ,cpu_limit = N_THREADS\n",
    "    ,reader_params = {'n_jobs': N_THREADS, 'cv': N_FOLDS}\n",
    "    ,general_params = {'nested_cv': False, 'use_algos': [['lgb_tuned','cb_tuned']]}\n",
    "    ,tuning_params = {'max_tuning_iter': 150},\n",
    ")"
   ]
  },
  {
   "cell_type": "code",
   "execution_count": 28,
   "metadata": {},
   "outputs": [],
   "source": [
    "# X_train.columns.tolist()"
   ]
  },
  {
   "cell_type": "code",
   "execution_count": 31,
   "metadata": {
    "scrolled": true
   },
   "outputs": [
    {
     "name": "stderr",
     "output_type": "stream",
     "text": [
      "C:\\Users\\admin\\AppData\\Roaming\\Python\\Python39\\site-packages\\lightautoml\\transformers\\categorical.py:1029: FutureWarning: The series.append method is deprecated and will be removed from pandas in a future version. Use pandas.concat instead.\n",
      "  cnts = cnts.append(Series([cnts.shape[0] + 1], index=[np.nan]))\n",
      "C:\\Users\\admin\\AppData\\Roaming\\Python\\Python39\\site-packages\\lightautoml\\transformers\\categorical.py:1029: FutureWarning: The series.append method is deprecated and will be removed from pandas in a future version. Use pandas.concat instead.\n",
      "  cnts = cnts.append(Series([cnts.shape[0] + 1], index=[np.nan]))\n",
      "C:\\Users\\admin\\AppData\\Roaming\\Python\\Python39\\site-packages\\lightautoml\\transformers\\categorical.py:1029: FutureWarning: The series.append method is deprecated and will be removed from pandas in a future version. Use pandas.concat instead.\n",
      "  cnts = cnts.append(Series([cnts.shape[0] + 1], index=[np.nan]))\n",
      "C:\\Users\\admin\\AppData\\Roaming\\Python\\Python39\\site-packages\\lightautoml\\transformers\\categorical.py:1029: FutureWarning: The series.append method is deprecated and will be removed from pandas in a future version. Use pandas.concat instead.\n",
      "  cnts = cnts.append(Series([cnts.shape[0] + 1], index=[np.nan]))\n",
      "C:\\Users\\admin\\AppData\\Roaming\\Python\\Python39\\site-packages\\lightautoml\\transformers\\categorical.py:1029: FutureWarning: The series.append method is deprecated and will be removed from pandas in a future version. Use pandas.concat instead.\n",
      "  cnts = cnts.append(Series([cnts.shape[0] + 1], index=[np.nan]))\n",
      "C:\\Users\\admin\\AppData\\Roaming\\Python\\Python39\\site-packages\\lightautoml\\transformers\\categorical.py:1029: FutureWarning: The series.append method is deprecated and will be removed from pandas in a future version. Use pandas.concat instead.\n",
      "  cnts = cnts.append(Series([cnts.shape[0] + 1], index=[np.nan]))\n",
      "C:\\Users\\admin\\AppData\\Roaming\\Python\\Python39\\site-packages\\lightautoml\\transformers\\categorical.py:1029: FutureWarning: The series.append method is deprecated and will be removed from pandas in a future version. Use pandas.concat instead.\n",
      "  cnts = cnts.append(Series([cnts.shape[0] + 1], index=[np.nan]))\n",
      "C:\\Users\\admin\\AppData\\Roaming\\Python\\Python39\\site-packages\\lightautoml\\transformers\\categorical.py:1029: FutureWarning: The series.append method is deprecated and will be removed from pandas in a future version. Use pandas.concat instead.\n",
      "  cnts = cnts.append(Series([cnts.shape[0] + 1], index=[np.nan]))\n",
      "C:\\Users\\admin\\AppData\\Roaming\\Python\\Python39\\site-packages\\lightautoml\\transformers\\categorical.py:1029: FutureWarning: The series.append method is deprecated and will be removed from pandas in a future version. Use pandas.concat instead.\n",
      "  cnts = cnts.append(Series([cnts.shape[0] + 1], index=[np.nan]))\n",
      "C:\\Users\\admin\\AppData\\Roaming\\Python\\Python39\\site-packages\\lightautoml\\transformers\\categorical.py:1029: FutureWarning: The series.append method is deprecated and will be removed from pandas in a future version. Use pandas.concat instead.\n",
      "  cnts = cnts.append(Series([cnts.shape[0] + 1], index=[np.nan]))\n",
      "C:\\Users\\admin\\AppData\\Roaming\\Python\\Python39\\site-packages\\lightautoml\\transformers\\categorical.py:1029: FutureWarning: The series.append method is deprecated and will be removed from pandas in a future version. Use pandas.concat instead.\n",
      "  cnts = cnts.append(Series([cnts.shape[0] + 1], index=[np.nan]))\n",
      "C:\\Users\\admin\\AppData\\Roaming\\Python\\Python39\\site-packages\\lightautoml\\transformers\\categorical.py:1029: FutureWarning: The series.append method is deprecated and will be removed from pandas in a future version. Use pandas.concat instead.\n",
      "  cnts = cnts.append(Series([cnts.shape[0] + 1], index=[np.nan]))\n",
      "C:\\Users\\admin\\AppData\\Roaming\\Python\\Python39\\site-packages\\lightautoml\\transformers\\categorical.py:1029: FutureWarning: The series.append method is deprecated and will be removed from pandas in a future version. Use pandas.concat instead.\n",
      "  cnts = cnts.append(Series([cnts.shape[0] + 1], index=[np.nan]))\n",
      "C:\\Users\\admin\\AppData\\Roaming\\Python\\Python39\\site-packages\\lightautoml\\transformers\\categorical.py:1029: FutureWarning: The series.append method is deprecated and will be removed from pandas in a future version. Use pandas.concat instead.\n",
      "  cnts = cnts.append(Series([cnts.shape[0] + 1], index=[np.nan]))\n",
      "C:\\Users\\admin\\AppData\\Roaming\\Python\\Python39\\site-packages\\lightautoml\\transformers\\categorical.py:1029: FutureWarning: The series.append method is deprecated and will be removed from pandas in a future version. Use pandas.concat instead.\n",
      "  cnts = cnts.append(Series([cnts.shape[0] + 1], index=[np.nan]))\n"
     ]
    },
    {
     "name": "stdout",
     "output_type": "stream",
     "text": [
      "OOF score: 0.8053382420616659\n",
      "HOLDOUT score: 0.8081876724931003\n",
      "Wall time: 8min 16s\n"
     ]
    }
   ],
   "source": [
    "%%time\n",
    "oof_pred = automl.fit_predict(X_train, roles = roles, verbose = 0)\n",
    "tr_pred = automl.predict(X_train)\n",
    "te_pred = automl.predict(X_test)\n",
    "print(f'OOF score: {accuracy_score(X_train[TARGET_NAME], (oof_pred.data[:, 0] >= 0.5).astype(bool))}')\n",
    "print(f'HOLDOUT score: {accuracy_score(X_test[TARGET_NAME].values, (te_pred.data[:, 0] >= 0.5).astype(bool))}')"
   ]
  },
  {
   "cell_type": "code",
   "execution_count": 36,
   "metadata": {},
   "outputs": [
    {
     "name": "stdout",
     "output_type": "stream",
     "text": [
      "Train score: 0.8654701641356036\n",
      "Test score: 0.8081876724931003\n"
     ]
    }
   ],
   "source": [
    "tr_pred = automl.predict(X_train)\n",
    "te_pred = automl.predict(X_test)\n",
    "print(f'Train score: {accuracy_score(X_train[TARGET_NAME], (tr_pred.data[:, 0] > 0.5).astype(bool))}')\n",
    "print(f'Test score: {accuracy_score(X_test[TARGET_NAME].values, (te_pred.data[:, 0] > 0.5).astype(bool))}')"
   ]
  },
  {
   "cell_type": "code",
   "execution_count": 37,
   "metadata": {},
   "outputs": [
    {
     "name": "stdout",
     "output_type": "stream",
     "text": [
      "Train score: 0.8654701641356036\n",
      "Test score: 0.8081876724931003\n"
     ]
    }
   ],
   "source": [
    "print(f'Train score: {accuracy_score(X_train[TARGET_NAME], (tr_pred.data[:, 0] > 0.5).astype(bool))}')\n",
    "print(f'Test score: {accuracy_score(X_test[TARGET_NAME].values, (te_pred.data[:, 0] > 0.5).astype(bool))}')"
   ]
  },
  {
   "cell_type": "code",
   "execution_count": 38,
   "metadata": {},
   "outputs": [
    {
     "name": "stdout",
     "output_type": "stream",
     "text": [
      "Final prediction for new objects (level 0) = \n",
      "\t 0.61803 * (4 averaged models Lvl_0_Pipe_0_Mod_0_Tuned_LightGBM) +\n",
      "\t 0.38197 * (4 averaged models Lvl_0_Pipe_0_Mod_1_Tuned_CatBoost) \n"
     ]
    }
   ],
   "source": [
    "print(automl.create_model_str_desc())\n",
    "RD = ReportDeco(output_path = 'tabularAutoML_model_report')\n",
    "\n",
    "automl_rd = RD(\n",
    "    TabularAutoML(\n",
    "        task = task,\n",
    "#         timeout = TIMEOUT,\n",
    "        cpu_limit = N_THREADS,\n",
    "        reader_params = {'n_jobs': N_THREADS, 'cv': N_FOLDS}\n",
    "    )\n",
    ")"
   ]
  },
  {
   "cell_type": "code",
   "execution_count": 39,
   "metadata": {},
   "outputs": [
    {
     "name": "stdout",
     "output_type": "stream",
     "text": [
      "Wall time: 471 ms\n"
     ]
    },
    {
     "data": {
      "text/plain": [
       "<AxesSubplot:xlabel='Feature'>"
      ]
     },
     "execution_count": 39,
     "metadata": {},
     "output_type": "execute_result"
    },
    {
     "data": {
      "image/png": "[encoded data removed]",
      "text/plain": [
       "<Figure size 3000x1000 with 1 Axes>"
      ]
     },
     "metadata": {},
     "output_type": "display_data"
    }
   ],
   "source": [
    "%%time\n",
    "\n",
    "# Fast feature importances calculation\n",
    "fast_fi = automl.get_feature_scores('fast')\n",
    "fast_fi.set_index('Feature')['Importance'].head(10).plot.bar(figsize = (30, 10), grid = True)"
   ]
  },
  {
   "cell_type": "code",
   "execution_count": 41,
   "metadata": {},
   "outputs": [
    {
     "data": {
      "text/plain": [
       "Feature\n",
       "total_expenses         39349.801312\n",
       "FoodCourtPercent       15116.254826\n",
       "ShoppingMallPercent    11734.188885\n",
       "HomePlanet              7744.317672\n",
       "CryoSleep               5991.615036\n",
       "deck                    3417.556094\n",
       "num                     2564.635675\n",
       "side                    1791.240869\n",
       "p_group                 1681.402342\n",
       "Age                     1466.574076\n",
       "Name: Importance, dtype: float64"
      ]
     },
     "execution_count": 41,
     "metadata": {},
     "output_type": "execute_result"
    }
   ],
   "source": [
    "fast_fi = pd.DataFrame(automl.get_feature_scores('fast'))\n",
    "fast_fi.set_index('Feature')['Importance'].head(10)"
   ]
  },
  {
   "cell_type": "code",
   "execution_count": 66,
   "metadata": {},
   "outputs": [],
   "source": [
    "lama1_fin_pred = (automl.predict(test_df).data[:,0] >= 0.5).astype(bool)\n",
    "lama1_fin_pred = test_dataset[['PassengerId']].join(pd.DataFrame(lama1_fin_pred, columns = ['Transported']))"
   ]
  },
  {
   "cell_type": "code",
   "execution_count": 67,
   "metadata": {},
   "outputs": [],
   "source": [
    "pd.DataFrame(lama1_fin_pred).to_csv('sample_submission_lama1.csv', index = False)"
   ]
  },
  {
   "cell_type": "code",
   "execution_count": 56,
   "metadata": {},
   "outputs": [],
   "source": [
    "fin_pred1 = cat_model.predict(test_df.drop(columns = ['Transported'])) "
   ]
  },
  {
   "cell_type": "code",
   "execution_count": 57,
   "metadata": {},
   "outputs": [],
   "source": [
    "fin_pred1 = test_dataset[['PassengerId']].join(pd.DataFrame(fin_pred1, columns = ['Transported']))\n",
    "fin_pred1.to_csv('sample_submission.csv', index = False)"
   ]
  },
  {
   "cell_type": "markdown",
   "metadata": {},
   "source": [
    "# fin_pred1 0.803 Score in Kaggle\n"
   ]
  },
  {
   "cell_type": "markdown",
   "metadata": {},
   "source": [
    " "
   ]
  },
  {
   "cell_type": "markdown",
   "metadata": {},
   "source": [
    "# Adding polynomes"
   ]
  },
  {
   "cell_type": "code",
   "execution_count": 43,
   "metadata": {},
   "outputs": [
    {
     "name": "stdout",
     "output_type": "stream",
     "text": [
      "(8693, 27) (4277, 27)\n"
     ]
    },
    {
     "name": "stderr",
     "output_type": "stream",
     "text": [
      "C:\\Users\\admin\\AppData\\Local\\Temp\\ipykernel_6844\\2334008941.py:4: SettingWithCopyWarning: \n",
      "A value is trying to be set on a copy of a slice from a DataFrame.\n",
      "Try using .loc[row_indexer,col_indexer] = value instead\n",
      "\n",
      "See the caveats in the documentation: https://pandas.pydata.org/pandas-docs/stable/user_guide/indexing.html#returning-a-view-versus-a-copy\n",
      "  train_df['Transported']= le.fit_transform(train_df['Transported'])\n"
     ]
    }
   ],
   "source": [
    "train_df = all_data[all_data['Transported'].notna()]\n",
    "\n",
    "le = LabelEncoder()\n",
    "train_df['Transported']= le.fit_transform(train_df['Transported'])\n",
    "\n",
    "test_df = all_data[all_data['Transported'].isna()]\n",
    "\n",
    "train_df = train_df.drop(['p_name', 'surname', 'Name'], axis = 1)\n",
    "test_df = test_df.drop(['p_name', 'surname', 'Name'], axis = 1)\n",
    "\n",
    "print(train_df.shape, test_df.shape)"
   ]
  },
  {
   "cell_type": "markdown",
   "metadata": {},
   "source": [
    "# Lama and poly"
   ]
  },
  {
   "cell_type": "code",
   "execution_count": 255,
   "metadata": {},
   "outputs": [],
   "source": [
    "# all_data.info()"
   ]
  },
  {
   "cell_type": "code",
   "execution_count": 56,
   "metadata": {},
   "outputs": [
    {
     "name": "stdout",
     "output_type": "stream",
     "text": [
      "(8693, 30) (4277, 30)\n"
     ]
    },
    {
     "name": "stderr",
     "output_type": "stream",
     "text": [
      "C:\\Users\\admin\\AppData\\Local\\Temp\\ipykernel_6844\\723867850.py:4: SettingWithCopyWarning: \n",
      "A value is trying to be set on a copy of a slice from a DataFrame.\n",
      "Try using .loc[row_indexer,col_indexer] = value instead\n",
      "\n",
      "See the caveats in the documentation: https://pandas.pydata.org/pandas-docs/stable/user_guide/indexing.html#returning-a-view-versus-a-copy\n",
      "  train_df['Transported']= le.fit_transform(train_df['Transported'])\n"
     ]
    }
   ],
   "source": [
    "train_df = all_data[all_data['Transported'].notna()]\n",
    "\n",
    "le = LabelEncoder()\n",
    "train_df['Transported']= le.fit_transform(train_df['Transported'])\n",
    "\n",
    "test_df = all_data[all_data['Transported'].isna()]\n",
    "\n",
    "\n",
    "\n",
    "\n",
    "print(train_df.shape, test_df.shape)"
   ]
  },
  {
   "cell_type": "code",
   "execution_count": 59,
   "metadata": {},
   "outputs": [],
   "source": [
    "poly = PolynomialFeatures(degree=2, include_bias = False, interaction_only = True)\n",
    "\n",
    "X_train, X_test, y_train, y_test = train_test_split(train_df\n",
    "                                                    #.drop(['Transported'], axis = 1)\n",
    "                                                    , train_df.Transported.astype(bool), shuffle= True)\n",
    "\n",
    "num_cols = train_df.columns[X_train.dtypes != object].tolist()\n",
    "cl = list()\n",
    "for i in range(120):\n",
    "    cl.append('col_%s' %i)\n",
    "\n",
    "X_train_polyed = pd.DataFrame(poly.fit_transform(X_train[num_cols].drop(['Transported'], axis = 1)), columns = cl)\n",
    "X_test_polyed = pd.DataFrame(poly.fit_transform(X_test[num_cols].drop(['Transported'], axis = 1)), columns = cl)\n",
    "X_train = X_train.join(X_train_polyed)\n",
    "X_test = X_test.join(X_test_polyed)\n"
   ]
  },
  {
   "cell_type": "code",
   "execution_count": 60,
   "metadata": {},
   "outputs": [],
   "source": [
    "N_THREADS = 7\n",
    "N_FOLDS = 5\n",
    "# RANDOM_STATE = 42\n",
    "TEST_SIZE = 0.2\n",
    "# TIMEOUT = 300\n",
    "TARGET_NAME = 'Transported'"
   ]
  },
  {
   "cell_type": "code",
   "execution_count": 61,
   "metadata": {},
   "outputs": [],
   "source": [
    "task = Task('binary', metric='accuracy')\n",
    "roles = {'target': TARGET_NAME,\n",
    "#     'drop': ['SK_ID_CURR']\n",
    "}\n",
    "automl = TabularAutoML(\n",
    "    task = task\n",
    "#     ,timeout = TIMEOUT\n",
    "    ,cpu_limit = N_THREADS\n",
    "    ,reader_params = {'n_jobs': N_THREADS, 'cv': N_FOLDS}\n",
    "    ,general_params = {'nested_cv': False, 'use_algos': [['cb_tuned']]\n",
    "#                       [['lgb','lgb_tuned','cb', 'cb_tuned']]\n",
    "                      }\n",
    "    ,tuning_params = {'max_tuning_iter': 500},\n",
    ")"
   ]
  },
  {
   "cell_type": "code",
   "execution_count": 698,
   "metadata": {},
   "outputs": [],
   "source": [
    "# X_train.info()"
   ]
  },
  {
   "cell_type": "code",
   "execution_count": 62,
   "metadata": {},
   "outputs": [
    {
     "name": "stdout",
     "output_type": "stream",
     "text": [
      "[22:19:33] Stdout logging level is INFO.\n",
      "[22:19:33] Task: binary\n",
      "\n",
      "[22:19:33] Start automl preset with listed constraints:\n",
      "[22:19:33] - time: 3600.00 seconds\n",
      "[22:19:33] - CPU: 7 cores\n",
      "[22:19:33] - memory: 16 GB\n",
      "\n",
      "[22:19:33] \u001b[1mTrain data shape: (6519, 150)\u001b[0m\n",
      "\n",
      "[22:19:48] Layer \u001b[1m1\u001b[0m train process start. Time left 3585.66 secs\n"
     ]
    },
    {
     "name": "stderr",
     "output_type": "stream",
     "text": [
      "C:\\Users\\admin\\AppData\\Roaming\\Python\\Python39\\site-packages\\lightautoml\\transformers\\categorical.py:1029: FutureWarning: The series.append method is deprecated and will be removed from pandas in a future version. Use pandas.concat instead.\n",
      "  cnts = cnts.append(Series([cnts.shape[0] + 1], index=[np.nan]))\n",
      "C:\\Users\\admin\\AppData\\Roaming\\Python\\Python39\\site-packages\\lightautoml\\transformers\\categorical.py:1029: FutureWarning: The series.append method is deprecated and will be removed from pandas in a future version. Use pandas.concat instead.\n",
      "  cnts = cnts.append(Series([cnts.shape[0] + 1], index=[np.nan]))\n",
      "C:\\Users\\admin\\AppData\\Roaming\\Python\\Python39\\site-packages\\lightautoml\\transformers\\categorical.py:1029: FutureWarning: The series.append method is deprecated and will be removed from pandas in a future version. Use pandas.concat instead.\n",
      "  cnts = cnts.append(Series([cnts.shape[0] + 1], index=[np.nan]))\n",
      "C:\\Users\\admin\\AppData\\Roaming\\Python\\Python39\\site-packages\\lightautoml\\transformers\\categorical.py:1029: FutureWarning: The series.append method is deprecated and will be removed from pandas in a future version. Use pandas.concat instead.\n",
      "  cnts = cnts.append(Series([cnts.shape[0] + 1], index=[np.nan]))\n",
      "C:\\Users\\admin\\AppData\\Roaming\\Python\\Python39\\site-packages\\lightautoml\\transformers\\categorical.py:1029: FutureWarning: The series.append method is deprecated and will be removed from pandas in a future version. Use pandas.concat instead.\n",
      "  cnts = cnts.append(Series([cnts.shape[0] + 1], index=[np.nan]))\n",
      "C:\\Users\\admin\\AppData\\Roaming\\Python\\Python39\\site-packages\\lightautoml\\transformers\\categorical.py:1029: FutureWarning: The series.append method is deprecated and will be removed from pandas in a future version. Use pandas.concat instead.\n",
      "  cnts = cnts.append(Series([cnts.shape[0] + 1], index=[np.nan]))\n",
      "C:\\Users\\admin\\AppData\\Roaming\\Python\\Python39\\site-packages\\lightautoml\\transformers\\categorical.py:1029: FutureWarning: The series.append method is deprecated and will be removed from pandas in a future version. Use pandas.concat instead.\n",
      "  cnts = cnts.append(Series([cnts.shape[0] + 1], index=[np.nan]))\n",
      "C:\\Users\\admin\\AppData\\Roaming\\Python\\Python39\\site-packages\\lightautoml\\transformers\\categorical.py:1029: FutureWarning: The series.append method is deprecated and will be removed from pandas in a future version. Use pandas.concat instead.\n",
      "  cnts = cnts.append(Series([cnts.shape[0] + 1], index=[np.nan]))\n",
      "C:\\Users\\admin\\AppData\\Roaming\\Python\\Python39\\site-packages\\lightautoml\\transformers\\categorical.py:1029: FutureWarning: The series.append method is deprecated and will be removed from pandas in a future version. Use pandas.concat instead.\n",
      "  cnts = cnts.append(Series([cnts.shape[0] + 1], index=[np.nan]))\n",
      "C:\\Users\\admin\\AppData\\Roaming\\Python\\Python39\\site-packages\\lightautoml\\transformers\\categorical.py:1029: FutureWarning: The series.append method is deprecated and will be removed from pandas in a future version. Use pandas.concat instead.\n",
      "  cnts = cnts.append(Series([cnts.shape[0] + 1], index=[np.nan]))\n"
     ]
    },
    {
     "name": "stdout",
     "output_type": "stream",
     "text": [
      "[22:19:58] \u001b[1mSelector_LightGBM\u001b[0m fitting and predicting completed\n",
      "[22:19:58] Start hyperparameters optimization for \u001b[1mLvl_0_Pipe_0_Mod_0_Tuned_CatBoost\u001b[0m ... Time budget is 300.00 secs\n"
     ]
    },
    {
     "name": "stderr",
     "output_type": "stream",
     "text": [
      "C:\\Users\\admin\\AppData\\Roaming\\Python\\Python39\\site-packages\\lightautoml\\transformers\\categorical.py:1029: FutureWarning: The series.append method is deprecated and will be removed from pandas in a future version. Use pandas.concat instead.\n",
      "  cnts = cnts.append(Series([cnts.shape[0] + 1], index=[np.nan]))\n",
      "C:\\Users\\admin\\AppData\\Roaming\\Python\\Python39\\site-packages\\lightautoml\\transformers\\categorical.py:1029: FutureWarning: The series.append method is deprecated and will be removed from pandas in a future version. Use pandas.concat instead.\n",
      "  cnts = cnts.append(Series([cnts.shape[0] + 1], index=[np.nan]))\n",
      "C:\\Users\\admin\\AppData\\Roaming\\Python\\Python39\\site-packages\\lightautoml\\transformers\\categorical.py:1029: FutureWarning: The series.append method is deprecated and will be removed from pandas in a future version. Use pandas.concat instead.\n",
      "  cnts = cnts.append(Series([cnts.shape[0] + 1], index=[np.nan]))\n",
      "C:\\Users\\admin\\AppData\\Roaming\\Python\\Python39\\site-packages\\lightautoml\\transformers\\categorical.py:1029: FutureWarning: The series.append method is deprecated and will be removed from pandas in a future version. Use pandas.concat instead.\n",
      "  cnts = cnts.append(Series([cnts.shape[0] + 1], index=[np.nan]))\n",
      "C:\\Users\\admin\\AppData\\Roaming\\Python\\Python39\\site-packages\\lightautoml\\transformers\\categorical.py:1029: FutureWarning: The series.append method is deprecated and will be removed from pandas in a future version. Use pandas.concat instead.\n",
      "  cnts = cnts.append(Series([cnts.shape[0] + 1], index=[np.nan]))\n",
      "C:\\Users\\admin\\AppData\\Roaming\\Python\\Python39\\site-packages\\lightautoml\\transformers\\categorical.py:1029: FutureWarning: The series.append method is deprecated and will be removed from pandas in a future version. Use pandas.concat instead.\n",
      "  cnts = cnts.append(Series([cnts.shape[0] + 1], index=[np.nan]))\n"
     ]
    },
    {
     "name": "stdout",
     "output_type": "stream",
     "text": [
      "[22:24:59] Hyperparameters optimization for \u001b[1mLvl_0_Pipe_0_Mod_0_Tuned_CatBoost\u001b[0m completed\n",
      "[22:24:59] Start fitting \u001b[1mLvl_0_Pipe_0_Mod_0_Tuned_CatBoost\u001b[0m ...\n",
      "[22:25:15] Fitting \u001b[1mLvl_0_Pipe_0_Mod_0_Tuned_CatBoost\u001b[0m finished. score = \u001b[1m0.8018100935726339\u001b[0m\n",
      "[22:25:15] \u001b[1mLvl_0_Pipe_0_Mod_0_Tuned_CatBoost\u001b[0m fitting and predicting completed\n",
      "[22:25:15] Time left 3257.82 secs\n",
      "\n",
      "[22:25:15] \u001b[1mLayer 1 training completed.\u001b[0m\n",
      "\n",
      "[22:25:15] \u001b[1mAutoml preset training completed in 342.20 seconds\u001b[0m\n",
      "\n",
      "[22:25:15] Model description:\n",
      "Final prediction for new objects (level 0) = \n",
      "\t 1.00000 * (5 averaged models Lvl_0_Pipe_0_Mod_0_Tuned_CatBoost) \n",
      "\n",
      "OOF score: 0.8018100935726339\n",
      "HOLDOUT score: 0.8109475620975161\n",
      "Wall time: 5min 43s\n"
     ]
    }
   ],
   "source": [
    "%%time\n",
    "oof_pred = automl.fit_predict(X_train, roles = roles, verbose = 1)\n",
    "tr_pred = automl.predict(X_train)\n",
    "te_pred = automl.predict(X_test)\n",
    "print(f'OOF score: {accuracy_score(X_train[TARGET_NAME], (oof_pred.data[:, 0] >= 0.5).astype(bool))}')\n",
    "print(f'HOLDOUT score: {accuracy_score(X_test[TARGET_NAME].values, (te_pred.data[:, 0] >= 0.5).astype(bool))}')"
   ]
  },
  {
   "cell_type": "code",
   "execution_count": 63,
   "metadata": {},
   "outputs": [
    {
     "name": "stdout",
     "output_type": "stream",
     "text": [
      "OOF score: 0.8370915784629545\n",
      "HOLDOUT score: 0.8109475620975161\n"
     ]
    }
   ],
   "source": [
    "tr_pred = automl.predict(X_train)\n",
    "te_pred = automl.predict(X_test)\n",
    "print(f'OOF score: {accuracy_score(X_train[TARGET_NAME], (tr_pred.data[:, 0] > 0.5).astype(bool))}')\n",
    "print(f'HOLDOUT score: {accuracy_score(X_test[TARGET_NAME].values, (te_pred.data[:, 0] > 0.5).astype(bool))}')"
   ]
  },
  {
   "cell_type": "markdown",
   "metadata": {},
   "source": [
    "## Test improoved"
   ]
  },
  {
   "cell_type": "code",
   "execution_count": 64,
   "metadata": {},
   "outputs": [],
   "source": [
    "test_df_polyed = pd.DataFrame(poly.fit_transform(test_df[num_cols].drop(['Transported'], axis = 1)), columns = cl)\n",
    "test_df1 = test_df.join(test_df_polyed)#.drop(['Transported'], axis = 1)"
   ]
  },
  {
   "cell_type": "code",
   "execution_count": 65,
   "metadata": {},
   "outputs": [],
   "source": [
    "fin_pred2 = automl.predict(test_df1)#.drop(columns = ['Cabin', 'Name', 'PassengerId']))\n",
    "fin_pred2 = test_dataset[['PassengerId']].join(pd.DataFrame((fin_pred2.data[:, 0] > 0.5).astype(bool)\n",
    "                                                            , columns = ['Transported']))\n",
    "fin_pred2.to_csv('sample_submission_lama_poly.csv', index = False)\n",
    "# same result"
   ]
  },
  {
   "cell_type": "markdown",
   "metadata": {},
   "source": [
    "# Stacking"
   ]
  },
  {
   "cell_type": "code",
   "execution_count": 66,
   "metadata": {},
   "outputs": [
    {
     "name": "stdout",
     "output_type": "stream",
     "text": [
      "(8693, 27) (4277, 27)\n"
     ]
    },
    {
     "name": "stderr",
     "output_type": "stream",
     "text": [
      "C:\\Users\\admin\\AppData\\Local\\Temp\\ipykernel_6844\\2334008941.py:4: SettingWithCopyWarning: \n",
      "A value is trying to be set on a copy of a slice from a DataFrame.\n",
      "Try using .loc[row_indexer,col_indexer] = value instead\n",
      "\n",
      "See the caveats in the documentation: https://pandas.pydata.org/pandas-docs/stable/user_guide/indexing.html#returning-a-view-versus-a-copy\n",
      "  train_df['Transported']= le.fit_transform(train_df['Transported'])\n"
     ]
    }
   ],
   "source": [
    "train_df = all_data[all_data['Transported'].notna()]\n",
    "\n",
    "le = LabelEncoder()\n",
    "train_df['Transported']= le.fit_transform(train_df['Transported'])\n",
    "\n",
    "test_df = all_data[all_data['Transported'].isna()]\n",
    "\n",
    "train_df = train_df.drop(['p_name', 'surname', 'Name'], axis = 1)\n",
    "test_df = test_df.drop(['p_name', 'surname', 'Name'], axis = 1)\n",
    "\n",
    "print(train_df.shape, test_df.shape)"
   ]
  },
  {
   "cell_type": "code",
   "execution_count": 78,
   "metadata": {},
   "outputs": [],
   "source": [
    "to_drop = ['Cabin','Name', 'p_name', 'surname', 'PassengerId', 'p_group']\n",
    "categ_features = ['Destination', 'HomePlanet', 'deck', 'side', 'CryoSleep', 'VIP', 'no_name']\n",
    "train_df[categ_features] = train_df[categ_features].astype(str)"
   ]
  },
  {
   "cell_type": "code",
   "execution_count": 68,
   "metadata": {},
   "outputs": [],
   "source": [
    "from sklearn.ensemble import RandomForestClassifier\n",
    "from sklearn.svm import LinearSVC\n",
    "from sklearn.linear_model import LogisticRegression\n",
    "from sklearn.preprocessing import StandardScaler\n",
    "from sklearn.pipeline import make_pipeline"
   ]
  },
  {
   "cell_type": "code",
   "execution_count": 85,
   "metadata": {},
   "outputs": [],
   "source": [
    "estimators = [\n",
    "    ('cat', CatBoostClassifier(eval_metric='Accuracy', iterations = 500,\n",
    "                               cat_features=categ_features\n",
    "#                               ,max_depth = 5\n",
    "                               ,verbose = 0\n",
    "                              ))\n",
    " ]\n",
    "clf = StackingClassifier(estimators=estimators, \n",
    "                         final_estimator=CatBoostClassifier(verbose = 0, eval_metric='Accuracy', iterations = 1500,\n",
    "#                                cat_features=categ_features\n",
    "                                                           ))"
   ]
  },
  {
   "cell_type": "code",
   "execution_count": 86,
   "metadata": {},
   "outputs": [],
   "source": [
    "X_train, X_test, y_train, y_test = train_test_split(train_df.drop(['Transported', 'Cabin', 'PassengerId'], axis = 1)\n",
    "                                                    , train_df.Transported.astype(bool), shuffle= True)"
   ]
  },
  {
   "cell_type": "code",
   "execution_count": 88,
   "metadata": {},
   "outputs": [],
   "source": [
    "# X_train.tail()"
   ]
  },
  {
   "cell_type": "code",
   "execution_count": 89,
   "metadata": {
    "scrolled": true
   },
   "outputs": [
    {
     "name": "stdout",
     "output_type": "stream",
     "text": [
      "Wall time: 2min 12s\n"
     ]
    },
    {
     "data": {
      "text/plain": [
       "StackingClassifier(estimators=[('cat',\n",
       "                                <catboost.core.CatBoostClassifier object at 0x000002DE9987B3D0>)],\n",
       "                   final_estimator=<catboost.core.CatBoostClassifier object at 0x000002DE9987BAF0>)"
      ]
     },
     "execution_count": 89,
     "metadata": {},
     "output_type": "execute_result"
    }
   ],
   "source": [
    "%%time\n",
    "clf.fit(X_train, y_train)#.score(X_test, y_test) #0.88763 0stage"
   ]
  },
  {
   "cell_type": "code",
   "execution_count": 90,
   "metadata": {},
   "outputs": [
    {
     "name": "stdout",
     "output_type": "stream",
     "text": [
      "Train: 0.860\n",
      "Test: 0.824\n"
     ]
    }
   ],
   "source": [
    "train_preds = clf.predict(X_train)#.drop(columns = ['Transported', 'Cabin', 'PassengerId']))\n",
    "test_preds = clf.predict(X_test)#.drop(columns = ['Transported', 'Cabin', 'PassengerId']))\n",
    "print('Train: {:.3f}'.format(accuracy_score(train_preds.astype(bool), y_train.astype(bool))))\n",
    "print('Test: {:.3f}'.format(accuracy_score(test_preds.astype(bool), y_test.astype(bool))))#.astype(bool)"
   ]
  },
  {
   "cell_type": "code",
   "execution_count": 92,
   "metadata": {},
   "outputs": [],
   "source": [
    "test_df1 = test_df.copy()\n",
    "# test_df1[categ_features] = test_df1[categ_features].astype(str)"
   ]
  },
  {
   "cell_type": "code",
   "execution_count": 93,
   "metadata": {},
   "outputs": [],
   "source": [
    "fin_pred_stack = clf.predict(test_df1.drop(columns = ['Cabin', 'PassengerId', 'Transported']))\n",
    "fin_pred_stack = test_df1[['PassengerId']].join(pd.DataFrame(fin_pred_stack\n",
    "                                                            , columns = ['Transported'], index = test_df1.index))\n",
    "fin_pred_stack.to_csv('sample_submission_stacking.csv', index = False)\n",
    "# тот же результат"
   ]
  },
  {
   "cell_type": "code",
   "execution_count": 177,
   "metadata": {},
   "outputs": [],
   "source": [
    "# fin_pred_stack"
   ]
  },
  {
   "cell_type": "code",
   "execution_count": null,
   "metadata": {},
   "outputs": [],
   "source": []
  }
 ],
 "metadata": {
  "kernelspec": {
   "display_name": "Python 3 (ipykernel)",
   "language": "python",
   "name": "python3"
  },
  "language_info": {
   "codemirror_mode": {
    "name": "ipython",
    "version": 3
   },
   "file_extension": ".py",
   "mimetype": "text/x-python",
   "name": "python",
   "nbconvert_exporter": "python",
   "pygments_lexer": "ipython3",
   "version": "3.9.13"
  }
 },
 "nbformat": 4,
 "nbformat_minor": 4
}
